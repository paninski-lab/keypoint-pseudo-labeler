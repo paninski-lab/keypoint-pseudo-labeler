{
 "cells": [
  {
   "cell_type": "code",
   "execution_count": 2,
   "metadata": {},
   "outputs": [
    {
     "name": "stderr",
     "output_type": "stream",
     "text": [
      "0it [00:00, ?it/s]"
     ]
    },
    {
     "name": "stderr",
     "output_type": "stream",
     "text": [
      "90it [00:27,  3.36it/s][ WARN:0@89.063] global loadsave.cpp:241 findDecoder imread_('/teamspace/studios/this_studio/data/mirror-mouse/labeled-data/test_vid/img00000000.png'): can't open/read file: check file path/integrity\n",
      "90it [00:27,  3.30it/s]\n"
     ]
    },
    {
     "ename": "error",
     "evalue": "OpenCV(4.10.0) /io/opencv/modules/imgproc/src/color.cpp:196: error: (-215:Assertion failed) !_src.empty() in function 'cvtColor'\n",
     "output_type": "error",
     "traceback": [
      "\u001b[0;31m---------------------------------------------------------------------------\u001b[0m",
      "\u001b[0;31merror\u001b[0m                                     Traceback (most recent call last)",
      "Cell \u001b[0;32mIn[2], line 31\u001b[0m\n\u001b[1;32m     28\u001b[0m img_path \u001b[38;5;241m=\u001b[39m os\u001b[38;5;241m.\u001b[39mpath\u001b[38;5;241m.\u001b[39mjoin(labeled_data_dir, img_name)\n\u001b[1;32m     30\u001b[0m \u001b[38;5;66;03m# Read and process the image\u001b[39;00m\n\u001b[0;32m---> 31\u001b[0m fr_ \u001b[38;5;241m=\u001b[39m \u001b[43mcv2\u001b[49m\u001b[38;5;241;43m.\u001b[39;49m\u001b[43mcvtColor\u001b[49m\u001b[43m(\u001b[49m\u001b[43mcv2\u001b[49m\u001b[38;5;241;43m.\u001b[39;49m\u001b[43mimread\u001b[49m\u001b[43m(\u001b[49m\u001b[43mimg_path\u001b[49m\u001b[43m)\u001b[49m\u001b[43m,\u001b[49m\u001b[43m \u001b[49m\u001b[43mcv2\u001b[49m\u001b[38;5;241;43m.\u001b[39;49m\u001b[43mCOLOR_BGR2RGB\u001b[49m\u001b[43m)\u001b[49m\n\u001b[1;32m     32\u001b[0m img_height \u001b[38;5;241m=\u001b[39m fr_\u001b[38;5;241m.\u001b[39mshape[\u001b[38;5;241m0\u001b[39m]\n\u001b[1;32m     33\u001b[0m img_width \u001b[38;5;241m=\u001b[39m fr_\u001b[38;5;241m.\u001b[39mshape[\u001b[38;5;241m1\u001b[39m]\n",
      "\u001b[0;31merror\u001b[0m: OpenCV(4.10.0) /io/opencv/modules/imgproc/src/color.cpp:196: error: (-215:Assertion failed) !_src.empty() in function 'cvtColor'\n"
     ]
    }
   ],
   "source": [
    "import os\n",
    "import cv2\n",
    "import matplotlib.pyplot as plt\n",
    "import pandas as pd\n",
    "from tqdm import tqdm\n",
    "\n",
    "# Define the paths\n",
    "data_dir = \"/teamspace/studios/this_studio/data/mirror-mouse\"\n",
    "csv_file = os.path.join(data_dir, \"UpdatedCollectedData_withPseudoLabels.csv\")\n",
    "labeled_data_dir = os.path.join(data_dir, \"\")\n",
    "\n",
    "# Load the CSV file\n",
    "df = pd.read_csv(\n",
    "    csv_file,\n",
    "    header=[0, 1, 2], index_col=0,\n",
    ")\n",
    "\n",
    "# Parameters\n",
    "height = 3\n",
    "color = 'y'\n",
    "\n",
    "# Iterate through each row in the dataframe\n",
    "for img_name, row in tqdm(df.iterrows()):\n",
    "    xs = row[0::2].to_numpy()\n",
    "    ys = row[1::2].to_numpy()\n",
    "\n",
    "    # Construct the full image path\n",
    "    img_path = os.path.join(labeled_data_dir, img_name)\n",
    "    \n",
    "    # Read and process the image\n",
    "    fr_ = cv2.cvtColor(cv2.imread(img_path), cv2.COLOR_BGR2RGB)\n",
    "    img_height = fr_.shape[0]\n",
    "    img_width = fr_.shape[1]\n",
    "    h = height\n",
    "    w = h * (img_width / img_height)\n",
    "    fig, ax = plt.subplots(1, 1, figsize=(w, h), facecolor='k')\n",
    "    \n",
    "    ax.imshow(fr_, cmap='gray')\n",
    "    ax.plot(xs, ys, '.', markersize=2, color=color)\n",
    "    ax.set_title(img_name.replace('labeled-data/', ''), fontsize=5, color='w')\n",
    "    ax.set_xticks([])\n",
    "    ax.set_yticks([])\n",
    "    plt.subplots_adjust(wspace=0, hspace=0, left=0, bottom=0, right=1, top=.95)\n",
    "    \n",
    "    # Save the image with overlaid labels\n",
    "    filename = os.path.join(data_dir, img_name.replace('labeled-data', 'labeled-data-check'))\n",
    "    os.makedirs(os.path.dirname(filename), exist_ok=True)\n",
    "    plt.savefig(filename, dpi=300)\n",
    "    plt.close()\n"
   ]
  },
  {
   "cell_type": "code",
   "execution_count": 5,
   "metadata": {},
   "outputs": [
    {
     "name": "stderr",
     "output_type": "stream",
     "text": [
      "  0%|          | 0/9 [00:00<?, ?it/s]"
     ]
    },
    {
     "name": "stderr",
     "output_type": "stream",
     "text": [
      "100%|██████████| 9/9 [00:02<00:00,  3.42it/s]\n"
     ]
    }
   ],
   "source": [
    "import os\n",
    "import cv2\n",
    "import matplotlib.pyplot as plt\n",
    "import pandas as pd\n",
    "from tqdm import tqdm\n",
    "\n",
    "# Define the paths\n",
    "data_dir = \"/teamspace/studios/this_studio/data/mirror-mouse\"\n",
    "csv_file = os.path.join(data_dir, \"UpdatedCollectedData_withPseudoLabels.csv\")\n",
    "labeled_data_dir = os.path.join(data_dir, \"\")\n",
    "\n",
    "# Load the CSV file\n",
    "df = pd.read_csv(\n",
    "    csv_file,\n",
    "    header=[0, 1, 2], index_col=0,\n",
    ")\n",
    "\n",
    "# Define specific frames to process\n",
    "specific_frames = [\n",
    "    \"labeled-data/test_vid/img00000000.png\",\n",
    "    \"labeled-data/test_vid/img00000001.png\",\n",
    "    \"labeled-data/test_vid/img00000002.png\",\n",
    "    \"labeled-data/test_vid/img00000003.png\",\n",
    "    \"labeled-data/test_vid/img00000004.png\",\n",
    "    \"labeled-data/clip_0/img00000000.png\",\n",
    "    \"labeled-data/clip_0/img00000002.png\",\n",
    "    \"labeled-data/clip_0/img00000003.png\",\n",
    "    \"labeled-data/clip_0/img00000004.png\"\n",
    "]\n",
    "\n",
    "# Parameters\n",
    "height = 3\n",
    "color = 'y'\n",
    "\n",
    "# Iterate through each specific frame\n",
    "for img_name in tqdm(specific_frames):\n",
    "    if img_name not in df.index:\n",
    "        print(f\"Frame {img_name} not found in the DataFrame\")\n",
    "        continue\n",
    "    \n",
    "    row = df.loc[img_name]\n",
    "    xs = row[0::2].to_numpy()\n",
    "    ys = row[1::2].to_numpy()\n",
    "\n",
    "    # Construct the full image path\n",
    "    img_path = os.path.join(labeled_data_dir, img_name)\n",
    "    \n",
    "    # Check if the image file exists\n",
    "    if not os.path.exists(img_path):\n",
    "        print(f\"Image file does not exist: {img_path}\")\n",
    "        continue\n",
    "\n",
    "    # Read and process the image\n",
    "    fr_ = cv2.imread(img_path)\n",
    "    if fr_ is None:\n",
    "        print(f\"Failed to read image: {img_path}\")\n",
    "        continue\n",
    "\n",
    "    fr_ = cv2.cvtColor(fr_, cv2.COLOR_BGR2RGB)\n",
    "    img_height = fr_.shape[0]\n",
    "    img_width = fr_.shape[1]\n",
    "    h = height\n",
    "    w = h * (img_width / img_height)\n",
    "    fig, ax = plt.subplots(1, 1, figsize=(w, h), facecolor='k')\n",
    "    \n",
    "    ax.imshow(fr_, cmap='gray')\n",
    "    ax.plot(xs, ys, '.', markersize=2, color=color)\n",
    "    ax.set_title(img_name.replace('labeled-data/', ''), fontsize=5, color='w')\n",
    "    ax.set_xticks([])\n",
    "    ax.set_yticks([])\n",
    "    plt.subplots_adjust(wspace=0, hspace=0, left=0, bottom=0, right=1, top=.95)\n",
    "    \n",
    "    # Save the image with overlaid labels\n",
    "    filename = os.path.join(data_dir, img_name.replace('labeled-data', 'labeled-data-check'))\n",
    "    os.makedirs(os.path.dirname(filename), exist_ok=True)\n",
    "    plt.savefig(filename, dpi=300)\n",
    "    plt.close()\n"
   ]
  },
  {
   "cell_type": "code",
   "execution_count": null,
   "metadata": {},
   "outputs": [],
   "source": []
  }
 ],
 "metadata": {
  "language_info": {
   "name": "python"
  }
 },
 "nbformat": 4,
 "nbformat_minor": 2
}
