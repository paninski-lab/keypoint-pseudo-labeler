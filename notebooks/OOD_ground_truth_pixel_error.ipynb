{
 "cells": [
  {
   "cell_type": "code",
   "execution_count": 15,
   "id": "020bb81b",
   "metadata": {},
   "outputs": [],
   "source": [
    "import gc\n",
    "import numpy as np\n",
    "from omegaconf import DictConfig\n",
    "import os\n",
    "import pandas as pd\n",
    "import lightning.pytorch as pl\n",
    "import torch\n",
    "from tqdm import tqdm\n",
    "import yaml\n",
    "\n",
    "from lightning_pose.data.dali import PrepareDALI\n",
    "from lightning_pose.utils.io import ckpt_path_from_base_path\n",
    "from lightning_pose.utils.predictions import (\n",
    "    get_cfg_file, \n",
    "    predict_single_video, \n",
    "    load_model_from_checkpoint, \n",
    "    PredictionHandler,\n",
    ")\n",
    "from lightning_pose.utils.scripts import (\n",
    "    compute_metrics,\n",
    "    get_imgaug_transform, \n",
    "    get_dataset, \n",
    "    get_data_module,\n",
    ")\n",
    "\n",
    "from eks.utils import convert_lp_dlc, make_output_dataframe, populate_output_dataframe\n",
    "from eks.singlecam_smoother import ensemble_kalman_smoother_singlecam\n",
    "\n",
    "from pseudo_labeler.utils import format_data_walk\n",
    "from pseudo_labeler.evaluation import compute_likelihoods_and_variance\n",
    "\n",
    "dataset_name = \"mirror-mouse\"\n",
    "n_hand_labels = 100\n",
    "n_pseudo_labels = 1000\n",
    "seeds=[0, 1, 2, 3, 4]\n",
    "selection_strategy=\"random\"\n",
    "# dataset_name = \"mirror-fish\"\n",
    "# dataset_name = \"crim13\"\n",
    "\n",
    "# where the labeled data is stored\n",
    "data_dir = f\"/teamspace/studios/this_studio/data/{dataset_name}\"\n",
    "\n",
    "# where the video snippets are stored\n",
    "snippets_dir = f\"{data_dir}/videos-for-each-labeled-frame\"\n",
    "\n",
    "# where the network models are stored\n",
    "networks_dir = f\"/teamspace/studios/this_studio/outputs/{dataset_name}/hand={n_hand_labels}_pseudo={n_pseudo_labels}/networks\"\n",
    "\n",
    "# where to save eks/post-processor outputs\n",
    "eks_save_dir = f\"/teamspace/studios/this_studio/outputs/{dataset_name}/hand={n_hand_labels}_pseudo={n_pseudo_labels}/post-processors/eks_rng={seeds[0]}-{seeds[-1]}/eks_ood_snippets\"\n",
    "\n",
    "aeks_dir = f\"/teamspace/studios/this_studio/outputs/{dataset_name}/hand={n_hand_labels}_pseudo={n_pseudo_labels}/results_aeks_random\"\n",
    "\n",
    "# where to save aeks_eks outputs\n",
    "aeks_eks_save_dir = f\"/teamspace/studios/this_studio/outputs/{dataset_name}/hand={n_hand_labels}_pseudo={n_pseudo_labels}/results_aeks/eks_rng={seeds[0]}-{seeds[-1]}\"\n",
    "\n",
    "# where model configs are stored\n",
    "config_dir = f\"/teamspace/studios/this_studio/keypoint-pseudo-labeler/configs/\"\n",
    "\n",
    "# file name of csv where marker data is stored\n",
    "ground_truth_csv = 'CollectedData_new.csv'\n",
    "\n"
   ]
  },
  {
   "cell_type": "code",
   "execution_count": 13,
   "id": "89c1dc1d",
   "metadata": {},
   "outputs": [
    {
     "name": "stdout",
     "output_type": "stream",
     "text": [
      "Found 5 model directories\n"
     ]
    }
   ],
   "source": [
    "\n",
    "def find_model_dirs(base_dir, keyword):\n",
    "    model_dirs = []\n",
    "    for root, dirs, files in os.walk(base_dir):\n",
    "        for dir_name in dirs:\n",
    "            if keyword in dir_name:\n",
    "                model_dirs.append(os.path.join(root, dir_name))\n",
    "    return model_dirs\n",
    "\n",
    "model_dirs_list = []\n",
    "if dataset_name == \"mirror-mouse\":\n",
    "    model_dirs_list = find_model_dirs(networks_dir, 'rng')\n",
    "    print(f\"Found {len(model_dirs_list)} model directories\")\n",
    "    keypoint_ensemble_list = [\n",
    "        'paw1LH_top', 'paw2LF_top', 'paw3RF_top', 'paw4RH_top', 'nose_top', 'tailBase_top', 'tailMid_top',\n",
    "        'paw1LH_bot', 'paw2LF_bot', 'paw3RF_bot', 'paw4RH_bot', 'nose_bot', 'tailBase_bot', 'tailMid_bot',\n",
    "    ]\n",
    "else:\n",
    "    raise NotImplementedError\n"
   ]
  },
  {
   "cell_type": "markdown",
   "id": "48fd6459",
   "metadata": {},
   "source": [
    "## Helper Functions:"
   ]
  },
  {
   "cell_type": "code",
   "execution_count": 8,
   "id": "4a0331c8",
   "metadata": {},
   "outputs": [],
   "source": [
    "def process_csv_for_sessions_and_frames(ground_truth_df):\n",
    "    session_frame_info = []\n",
    "    for idx, row in tqdm(ground_truth_df.iterrows(), total=len(ground_truth_df)):\n",
    "        first_col_value = row[0]\n",
    "        path_parts = first_col_value.split('/')\n",
    "        session = path_parts[1]\n",
    "        frame = path_parts[2]\n",
    "        session_frame_info.append((session, frame))\n",
    "    return session_frame_info"
   ]
  },
  {
   "cell_type": "markdown",
   "id": "58c6c377",
   "metadata": {},
   "source": [
    "## Step 1: run inference on video snippets"
   ]
  },
  {
   "cell_type": "code",
   "execution_count": 9,
   "id": "bd303239",
   "metadata": {},
   "outputs": [],
   "source": [
    "def run_inference_on_snippets(model_dirs_list, data_dir, snippets_dir, ground_truth_df):\n",
    "    trainer = pl.Trainer(accelerator=\"gpu\", devices=1)\n",
    "    session_frame_info = process_csv_for_sessions_and_frames(ground_truth_df)\n",
    "    \n",
    "    for model_dir in model_dirs_list:\n",
    "        print(f'Processing model in {os.path.basename(model_dir)}')\n",
    "        cfg_file = os.path.join(model_dir, \"config.yaml\")\n",
    "        model_cfg = DictConfig(yaml.safe_load(open(cfg_file)))\n",
    "        \n",
    "        # Update data directories\n",
    "        model_cfg.data.data_dir = data_dir\n",
    "        model_cfg.data.video_dir = os.path.join(data_dir, \"videos\")\n",
    "        \n",
    "        # Get model checkpoint\n",
    "        ckpt_file = ckpt_path_from_base_path(model_dir, model_name=model_cfg.model.model_name)\n",
    "        \n",
    "        # Build datamodule\n",
    "        cfg_new = model_cfg.copy()\n",
    "        cfg_new.training.imgaug = 'default'\n",
    "        imgaug_transform = get_imgaug_transform(cfg=cfg_new)\n",
    "        dataset_new = get_dataset(cfg=cfg_new, data_dir=cfg_new.data.data_dir, imgaug_transform=imgaug_transform)\n",
    "        datamodule_new = get_data_module(cfg=cfg_new, dataset=dataset_new, video_dir=cfg_new.data.video_dir)\n",
    "        datamodule_new.setup()\n",
    "        \n",
    "        # Load model\n",
    "        model = load_model_from_checkpoint(cfg=cfg_new, ckpt_file=ckpt_file, eval=True, data_module=datamodule_new)\n",
    "        model.to(\"cuda\")\n",
    "        \n",
    "        model_cfg.dali.base.sequence_length = 16\n",
    "\n",
    "        for session, frame in tqdm(session_frame_info):\n",
    "            video_file = os.path.join(snippets_dir, session, frame.replace('png', 'mp4'))\n",
    "            prediction_csv_file = os.path.join(model_dir, \"video_preds_labeled\", session, frame.replace('png', 'csv'))\n",
    "            os.makedirs(os.path.join(model_dir, \"video_preds_labeled\", session), exist_ok=True)\n",
    "            \n",
    "            if not os.path.exists(video_file):\n",
    "                print(f'Cannot find video snippet for {video_file}. Skipping')\n",
    "                continue\n",
    "            if os.path.exists(prediction_csv_file):\n",
    "                print(f'Prediction csv file already exists for {session}/{frame}. Skipping')\n",
    "                continue\n",
    "            \n",
    "            print(f'{video_file} saved as\\n{prediction_csv_file}')\n",
    "            cfg = get_cfg_file(cfg_file=cfg_new)\n",
    "            model_type = \"context\" if cfg.model.model_type == \"heatmap_mhcrnn\" else \"base\"\n",
    "            cfg.training.imgaug = \"default\"\n",
    "            \n",
    "            vid_pred_class = PrepareDALI(\n",
    "                train_stage=\"predict\",\n",
    "                model_type=model_type,\n",
    "                dali_config=cfg.dali,\n",
    "                filenames=[video_file],\n",
    "                resize_dims=[cfg.data.image_resize_dims.height, cfg.data.image_resize_dims.width]\n",
    "            )\n",
    "            \n",
    "            # Get loader\n",
    "            predict_loader = vid_pred_class()\n",
    "            \n",
    "            # Initialize prediction handler class\n",
    "            pred_handler = PredictionHandler(cfg=cfg, data_module=datamodule_new, video_file=video_file)\n",
    "            \n",
    "            # Compute predictions\n",
    "            preds = trainer.predict(model=model, dataloaders=predict_loader, return_predictions=True)\n",
    "            \n",
    "            # Process predictions\n",
    "            preds_df = pred_handler(preds=preds)\n",
    "            os.makedirs(os.path.dirname(prediction_csv_file), exist_ok=True)\n",
    "            preds_df.to_csv(prediction_csv_file)\n",
    "            \n",
    "            # Clear up memory\n",
    "            del predict_loader\n",
    "            del pred_handler\n",
    "            del vid_pred_class\n",
    "            gc.collect()\n",
    "            torch.cuda.empty_cache()\n",
    "        \n",
    "        del dataset_new\n",
    "        del datamodule_new\n",
    "        del model\n",
    "        gc.collect()\n",
    "        torch.cuda.empty_cache()"
   ]
  },
  {
   "cell_type": "code",
   "execution_count": 10,
   "id": "2bd274ab",
   "metadata": {},
   "outputs": [
    {
     "name": "stderr",
     "output_type": "stream",
     "text": [
      "GPU available: True (cuda), used: True\n",
      "TPU available: False, using: 0 TPU cores\n",
      "IPU available: False, using: 0 IPUs\n",
      "HPU available: False, using: 0 HPUs\n",
      "100%|██████████| 253/253 [00:00<00:00, 10383.16it/s]"
     ]
    },
    {
     "name": "stderr",
     "output_type": "stream",
     "text": [
      "\n"
     ]
    },
    {
     "name": "stdout",
     "output_type": "stream",
     "text": [
      "Processing model in rng1\n",
      "using default image augmentation pipeline (resizing only)\n",
      "Number of labeled images in the full dataset (train+val+test): 100\n",
      "Warning! Requested training frames exceeds training set size; using all\n",
      "Dataset splits -- train: 80, val: 10, test: 10\n",
      "\n",
      " Initializing a HeatmapTracker instance.\n"
     ]
    },
    {
     "name": "stderr",
     "output_type": "stream",
     "text": [
      "100%|██████████| 253/253 [00:00<00:00, 26242.28it/s]\n"
     ]
    },
    {
     "name": "stdout",
     "output_type": "stream",
     "text": [
      "Prediction csv file already exists for 180607_004/img015278.png. Skipping\n",
      "Prediction csv file already exists for 180607_004/img015320.png. Skipping\n",
      "Prediction csv file already exists for 180607_004/img015814.png. Skipping\n",
      "Prediction csv file already exists for 180607_004/img015879.png. Skipping\n",
      "Prediction csv file already exists for 180607_004/img016209.png. Skipping\n",
      "Prediction csv file already exists for 180607_004/img016400.png. Skipping\n",
      "Prediction csv file already exists for 180607_004/img016437.png. Skipping\n",
      "Prediction csv file already exists for 180607_004/img016434.png. Skipping\n",
      "Prediction csv file already exists for 180607_004/img016429.png. Skipping\n",
      "Prediction csv file already exists for 180607_004/img016542.png. Skipping\n",
      "Prediction csv file already exists for 180607_004/img016558.png. Skipping\n",
      "Prediction csv file already exists for 180607_004/img016635.png. Skipping\n",
      "Prediction csv file already exists for 180607_004/img016630.png. Skipping\n",
      "Prediction csv file already exists for 180607_004/img016831.png. Skipping\n",
      "Prediction csv file already exists for 180607_004/img016958.png. Skipping\n",
      "Prediction csv file already exists for 180607_004/img017025.png. Skipping\n",
      "Prediction csv file already exists for 180607_004/img017052.png. Skipping\n",
      "Prediction csv file already exists for 180607_004/img017056.png. Skipping\n",
      "Prediction csv file already exists for 180607_004/img017057.png. Skipping\n",
      "Prediction csv file already exists for 180607_004/img017059.png. Skipping\n",
      "Prediction csv file already exists for 180607_004/img017093.png. Skipping\n",
      "Prediction csv file already exists for 180607_004/img017117.png. Skipping\n",
      "Prediction csv file already exists for 180607_004/img017126.png. Skipping\n",
      "Prediction csv file already exists for 180607_004/img017142.png. Skipping\n",
      "Prediction csv file already exists for 180607_004/img017145.png. Skipping\n",
      "Prediction csv file already exists for 180607_004/img017148.png. Skipping\n",
      "Prediction csv file already exists for 180607_004/img017209.png. Skipping\n",
      "Prediction csv file already exists for 180607_004/img017213.png. Skipping\n",
      "Prediction csv file already exists for 180607_004/img017245.png. Skipping\n",
      "Prediction csv file already exists for 180607_004/img017244.png. Skipping\n",
      "Prediction csv file already exists for 180607_004/img017271.png. Skipping\n",
      "Prediction csv file already exists for 180607_004/img017308.png. Skipping\n",
      "Prediction csv file already exists for 180607_004/img017307.png. Skipping\n",
      "Prediction csv file already exists for 180607_004/img017330.png. Skipping\n",
      "Prediction csv file already exists for 180607_004/img017336.png. Skipping\n",
      "Prediction csv file already exists for 180607_004/img017342.png. Skipping\n",
      "Prediction csv file already exists for 180607_004/img017345.png. Skipping\n",
      "Prediction csv file already exists for 180607_004/img017348.png. Skipping\n",
      "Prediction csv file already exists for 180607_004/img017351.png. Skipping\n",
      "Prediction csv file already exists for 180607_004/img017456.png. Skipping\n",
      "Prediction csv file already exists for 180607_004/img017457.png. Skipping\n",
      "Prediction csv file already exists for 180607_004/img017548.png. Skipping\n",
      "Prediction csv file already exists for 180607_004/img017656.png. Skipping\n",
      "Prediction csv file already exists for 180607_004/img017702.png. Skipping\n",
      "Prediction csv file already exists for 180607_004/img018263.png. Skipping\n",
      "Prediction csv file already exists for 180607_004/img018464.png. Skipping\n",
      "Prediction csv file already exists for 180607_004/img018594.png. Skipping\n",
      "Prediction csv file already exists for 180607_004/img018588.png. Skipping\n",
      "Prediction csv file already exists for 180607_004/img018681.png. Skipping\n",
      "Prediction csv file already exists for 180607_004/img018677.png. Skipping\n",
      "Prediction csv file already exists for 180607_004/img018905.png. Skipping\n",
      "Prediction csv file already exists for 180607_004/img018906.png. Skipping\n",
      "Prediction csv file already exists for 180607_004/img019476.png. Skipping\n",
      "Prediction csv file already exists for 180607_004/img020114.png. Skipping\n",
      "Prediction csv file already exists for 180607_004/img020119.png. Skipping\n",
      "Prediction csv file already exists for 180607_004/img020234.png. Skipping\n",
      "Prediction csv file already exists for 180607_004/img020248.png. Skipping\n",
      "Prediction csv file already exists for 180607_004/img020249.png. Skipping\n",
      "Prediction csv file already exists for 180607_004/img020265.png. Skipping\n",
      "Prediction csv file already exists for 180607_004/img020415.png. Skipping\n",
      "Prediction csv file already exists for 180607_004/img020446.png. Skipping\n",
      "Prediction csv file already exists for 180607_004/img021476.png. Skipping\n",
      "Prediction csv file already exists for 180607_004/img021632.png. Skipping\n",
      "Prediction csv file already exists for 180607_004/img021635.png. Skipping\n",
      "Prediction csv file already exists for 180607_004/img021641.png. Skipping\n",
      "Prediction csv file already exists for 180607_004/img021698.png. Skipping\n",
      "Prediction csv file already exists for 180607_004/img021757.png. Skipping\n",
      "Prediction csv file already exists for 180607_004/img021760.png. Skipping\n",
      "Prediction csv file already exists for 180607_004/img021828.png. Skipping\n",
      "Prediction csv file already exists for 180607_004/img021883.png. Skipping\n",
      "Prediction csv file already exists for 180607_004/img021884.png. Skipping\n",
      "Prediction csv file already exists for 180607_004/img022065.png. Skipping\n",
      "Prediction csv file already exists for 180607_004/img022372.png. Skipping\n",
      "Prediction csv file already exists for 180607_004/img022371.png. Skipping\n",
      "Prediction csv file already exists for 180607_004/img022546.png. Skipping\n",
      "Prediction csv file already exists for 180607_004/img022567.png. Skipping\n",
      "Prediction csv file already exists for 180607_004/img022611.png. Skipping\n",
      "Prediction csv file already exists for 180607_004/img022612.png. Skipping\n",
      "Prediction csv file already exists for 180607_004/img024337.png. Skipping\n",
      "Prediction csv file already exists for 180607_004/img024441.png. Skipping\n",
      "Prediction csv file already exists for 180607_004/img024525.png. Skipping\n",
      "Prediction csv file already exists for 180607_004/img024565.png. Skipping\n",
      "Prediction csv file already exists for 180607_004/img024575.png. Skipping\n",
      "Prediction csv file already exists for 180607_004/img024665.png. Skipping\n",
      "Prediction csv file already exists for 180607_004/img024667.png. Skipping\n",
      "Prediction csv file already exists for 180607_004/img024804.png. Skipping\n",
      "Prediction csv file already exists for 180607_004/img024805.png. Skipping\n",
      "Prediction csv file already exists for 180607_004/img025129.png. Skipping\n",
      "Prediction csv file already exists for 180607_004/img025127.png. Skipping\n",
      "Prediction csv file already exists for 180607_004/img025124.png. Skipping\n",
      "Prediction csv file already exists for 180607_004/img025121.png. Skipping\n",
      "Prediction csv file already exists for 180607_004/img025113.png. Skipping\n",
      "Prediction csv file already exists for 180607_004/img025112.png. Skipping\n",
      "Prediction csv file already exists for 180609_000/img014100.png. Skipping\n",
      "Prediction csv file already exists for 180609_000/img018154.png. Skipping\n",
      "Prediction csv file already exists for 180609_000/img027847.png. Skipping\n",
      "Prediction csv file already exists for 180609_000/img109784.png. Skipping\n",
      "Prediction csv file already exists for 180609_000/img109800.png. Skipping\n",
      "Prediction csv file already exists for 180609_000/img114753.png. Skipping\n",
      "Prediction csv file already exists for 180609_000/img116696.png. Skipping\n",
      "Prediction csv file already exists for 180609_000/img120072.png. Skipping\n",
      "Prediction csv file already exists for 180609_000/img120094.png. Skipping\n",
      "Prediction csv file already exists for 180609_000/img131519.png. Skipping\n",
      "Prediction csv file already exists for 180609_000/img135076.png. Skipping\n",
      "Prediction csv file already exists for 180609_000/img165923.png. Skipping\n",
      "Prediction csv file already exists for 180609_000/img174023.png. Skipping\n",
      "Prediction csv file already exists for 180609_000/img178987.png. Skipping\n",
      "Prediction csv file already exists for 180609_000/img181928.png. Skipping\n",
      "Prediction csv file already exists for 180609_000/img182420.png. Skipping\n",
      "Prediction csv file already exists for 180609_000/img183318.png. Skipping\n",
      "Prediction csv file already exists for 180609_000/img183860.png. Skipping\n",
      "Prediction csv file already exists for 180609_000/img187151.png. Skipping\n",
      "Prediction csv file already exists for 180609_000/img227331.png. Skipping\n",
      "Prediction csv file already exists for 180609_000/img235530.png. Skipping\n",
      "Prediction csv file already exists for 180609_000/img250883.png. Skipping\n",
      "Prediction csv file already exists for 180609_004/img081243.png. Skipping\n",
      "Prediction csv file already exists for 180609_004/img091145.png. Skipping\n",
      "Prediction csv file already exists for 180609_004/img103612.png. Skipping\n",
      "Prediction csv file already exists for 180609_004/img109036.png. Skipping\n",
      "Prediction csv file already exists for 180609_004/img130158.png. Skipping\n",
      "Prediction csv file already exists for 180609_004/img146879.png. Skipping\n",
      "Prediction csv file already exists for 180609_004/img163809.png. Skipping\n",
      "Prediction csv file already exists for 180609_004/img168800.png. Skipping\n",
      "Prediction csv file already exists for 180609_004/img176505.png. Skipping\n",
      "Prediction csv file already exists for 180609_004/img196983.png. Skipping\n",
      "Prediction csv file already exists for 180609_004/img200918.png. Skipping\n",
      "Prediction csv file already exists for 180609_004/img219119.png. Skipping\n",
      "Prediction csv file already exists for 180609_004/img227562.png. Skipping\n",
      "Prediction csv file already exists for 180609_004/img244262.png. Skipping\n",
      "Prediction csv file already exists for 180609_004/img247495.png. Skipping\n",
      "Prediction csv file already exists for 180609_004/img253420.png. Skipping\n",
      "Prediction csv file already exists for 180609_004/img284725.png. Skipping\n",
      "Prediction csv file already exists for 180609_004/img301935.png. Skipping\n",
      "Prediction csv file already exists for 180609_004/img309374.png. Skipping\n",
      "Prediction csv file already exists for 180609_004/img313791.png. Skipping\n",
      "Prediction csv file already exists for 180609_004/img317922.png. Skipping\n",
      "Prediction csv file already exists for 180609_004/img338587.png. Skipping\n",
      "Prediction csv file already exists for 180613_000/img032005.png. Skipping\n",
      "Prediction csv file already exists for 180613_000/img032067.png. Skipping\n",
      "Prediction csv file already exists for 180613_000/img032167.png. Skipping\n",
      "Prediction csv file already exists for 180613_000/img033632.png. Skipping\n",
      "Prediction csv file already exists for 180613_000/img034389.png. Skipping\n",
      "Prediction csv file already exists for 180613_000/img034466.png. Skipping\n",
      "Prediction csv file already exists for 180613_000/img034657.png. Skipping\n",
      "Prediction csv file already exists for 180613_000/img034709.png. Skipping\n",
      "Prediction csv file already exists for 180613_000/img034698.png. Skipping\n",
      "Prediction csv file already exists for 180613_000/img035021.png. Skipping\n",
      "Prediction csv file already exists for 180613_000/img035409.png. Skipping\n",
      "Prediction csv file already exists for 180613_000/img035482.png. Skipping\n",
      "Prediction csv file already exists for 180613_000/img035725.png. Skipping\n",
      "Prediction csv file already exists for 180613_000/img036295.png. Skipping\n",
      "Prediction csv file already exists for 180613_000/img036326.png. Skipping\n",
      "Prediction csv file already exists for 180613_000/img036546.png. Skipping\n",
      "Prediction csv file already exists for 180613_000/img036833.png. Skipping\n",
      "Prediction csv file already exists for 180613_000/img036859.png. Skipping\n",
      "Prediction csv file already exists for 180613_000/img036861.png. Skipping\n",
      "Prediction csv file already exists for 180613_000/img036918.png. Skipping\n",
      "Prediction csv file already exists for 180613_000/img037075.png. Skipping\n",
      "Prediction csv file already exists for 180613_000/img037070.png. Skipping\n",
      "Prediction csv file already exists for 180613_000/img037341.png. Skipping\n",
      "Prediction csv file already exists for 180613_000/img037719.png. Skipping\n",
      "Prediction csv file already exists for 180613_000/img038325.png. Skipping\n",
      "Prediction csv file already exists for 180613_000/img038944.png. Skipping\n",
      "Prediction csv file already exists for 180613_000/img038959.png. Skipping\n",
      "Prediction csv file already exists for 180613_000/img038989.png. Skipping\n",
      "Prediction csv file already exists for 180613_000/img039146.png. Skipping\n",
      "Prediction csv file already exists for 180613_000/img039473.png. Skipping\n",
      "Prediction csv file already exists for 180613_000/img041737.png. Skipping\n",
      "Prediction csv file already exists for 180613_000/img042181.png. Skipping\n",
      "Prediction csv file already exists for 180613_000/img042292.png. Skipping\n",
      "Prediction csv file already exists for 180613_000/img042393.png. Skipping\n",
      "Prediction csv file already exists for 180613_000/img042487.png. Skipping\n",
      "Prediction csv file already exists for 180613_000/img042633.png. Skipping\n",
      "Prediction csv file already exists for 180613_000/img042915.png. Skipping\n",
      "Prediction csv file already exists for 180613_000/img042985.png. Skipping\n",
      "Prediction csv file already exists for 180613_000/img043415.png. Skipping\n",
      "Prediction csv file already exists for 180613_000/img044005.png. Skipping\n",
      "Prediction csv file already exists for 180613_000/img044000.png. Skipping\n",
      "Prediction csv file already exists for 180613_000/img044095.png. Skipping\n",
      "Prediction csv file already exists for 180613_000/img044091.png. Skipping\n",
      "Prediction csv file already exists for 180613_000/img044306.png. Skipping\n",
      "Prediction csv file already exists for 180613_000/img044460.png. Skipping\n",
      "Prediction csv file already exists for 180613_000/img044490.png. Skipping\n",
      "Prediction csv file already exists for 180613_000/img044549.png. Skipping\n",
      "Prediction csv file already exists for 180613_000/img044566.png. Skipping\n",
      "Prediction csv file already exists for 180613_000/img044635.png. Skipping\n",
      "Prediction csv file already exists for 180613_000/img044661.png. Skipping\n",
      "Prediction csv file already exists for 180613_000/img045213.png. Skipping\n",
      "Prediction csv file already exists for 180613_000/img045297.png. Skipping\n",
      "Prediction csv file already exists for 180613_000/img045514.png. Skipping\n",
      "Prediction csv file already exists for 180613_000/img045629.png. Skipping\n",
      "Prediction csv file already exists for 180613_000/img045672.png. Skipping\n",
      "Prediction csv file already exists for 180613_000/img045861.png. Skipping\n",
      "Prediction csv file already exists for 180613_000/img045859.png. Skipping\n",
      "Prediction csv file already exists for 180613_000/img045870.png. Skipping\n",
      "Prediction csv file already exists for 180613_000/img046022.png. Skipping\n",
      "Prediction csv file already exists for 180613_000/img046389.png. Skipping\n",
      "Prediction csv file already exists for 180613_000/img046521.png. Skipping\n",
      "Prediction csv file already exists for 180613_000/img046542.png. Skipping\n",
      "Prediction csv file already exists for 180613_000/img046553.png. Skipping\n",
      "Prediction csv file already exists for 180613_000/img046597.png. Skipping\n",
      "Prediction csv file already exists for 180613_000/img046745.png. Skipping\n",
      "Prediction csv file already exists for 180613_000/img046848.png. Skipping\n",
      "Prediction csv file already exists for 180613_000/img048585.png. Skipping\n",
      "Prediction csv file already exists for 180613_000/img049129.png. Skipping\n",
      "Prediction csv file already exists for 180613_000/img049423.png. Skipping\n",
      "Prediction csv file already exists for 180613_000/img049495.png. Skipping\n",
      "Prediction csv file already exists for 180613_000/img049525.png. Skipping\n",
      "Prediction csv file already exists for 180613_000/img049582.png. Skipping\n",
      "Prediction csv file already exists for 180613_000/img049614.png. Skipping\n",
      "Prediction csv file already exists for 180613_000/img049742.png. Skipping\n",
      "Prediction csv file already exists for 180613_000/img049973.png. Skipping\n",
      "Prediction csv file already exists for 180613_000/img050088.png. Skipping\n",
      "Prediction csv file already exists for 180613_000/img050895.png. Skipping\n",
      "Prediction csv file already exists for 180613_000/img050896.png. Skipping\n",
      "Prediction csv file already exists for 180613_000/img050899.png. Skipping\n",
      "Prediction csv file already exists for 180623_000/img023658.png. Skipping\n",
      "Prediction csv file already exists for 180623_000/img023660.png. Skipping\n",
      "Prediction csv file already exists for 180623_000/img023662.png. Skipping\n",
      "Prediction csv file already exists for 180623_000/img023720.png. Skipping\n",
      "Prediction csv file already exists for 180623_000/img100119.png. Skipping\n",
      "Prediction csv file already exists for 180623_000/img100264.png. Skipping\n",
      "Prediction csv file already exists for 180623_000/img100417.png. Skipping\n",
      "Prediction csv file already exists for 180623_000/img100470.png. Skipping\n",
      "Prediction csv file already exists for 180623_000/img100476.png. Skipping\n",
      "Prediction csv file already exists for 180623_000/img100484.png. Skipping\n",
      "Prediction csv file already exists for 180623_000/img100572.png. Skipping\n",
      "Prediction csv file already exists for 180623_000/img100737.png. Skipping\n",
      "Prediction csv file already exists for 180623_000/img100901.png. Skipping\n",
      "Prediction csv file already exists for 180623_000/img102822.png. Skipping\n",
      "Prediction csv file already exists for 180623_000/img103326.png. Skipping\n",
      "Prediction csv file already exists for 180623_000/img103450.png. Skipping\n",
      "Prediction csv file already exists for 180623_000/img103467.png. Skipping\n",
      "Prediction csv file already exists for 180623_000/img103469.png. Skipping\n",
      "Prediction csv file already exists for 180623_000/img103472.png. Skipping\n",
      "Prediction csv file already exists for 180623_000/img103476.png. Skipping\n",
      "Prediction csv file already exists for 180623_000/img103482.png. Skipping\n",
      "Prediction csv file already exists for 180623_000/img103541.png. Skipping\n",
      "Prediction csv file already exists for 180623_000/img104593.png. Skipping\n",
      "Prediction csv file already exists for 180623_000/img105181.png. Skipping\n",
      "Prediction csv file already exists for 180623_000/img106188.png. Skipping\n",
      "Prediction csv file already exists for 180623_000/img106191.png. Skipping\n",
      "Prediction csv file already exists for 180623_000/img107157.png. Skipping\n",
      "Prediction csv file already exists for 180623_000/img107154.png. Skipping\n",
      "Prediction csv file already exists for 180623_000/img107172.png. Skipping\n",
      "Prediction csv file already exists for 180623_000/img107178.png. Skipping\n",
      "Prediction csv file already exists for 180623_000/img107185.png. Skipping\n",
      "Prediction csv file already exists for 180623_000/img107188.png. Skipping\n",
      "Prediction csv file already exists for 180623_000/img107228.png. Skipping\n",
      "Prediction csv file already exists for 180623_000/img107258.png. Skipping\n",
      "Prediction csv file already exists for 180623_000/img107262.png. Skipping\n",
      "Prediction csv file already exists for 180623_000/img107273.png. Skipping\n",
      "Prediction csv file already exists for 180623_000/img107274.png. Skipping\n",
      "Processing model in rng2\n",
      "using default image augmentation pipeline (resizing only)\n",
      "Number of labeled images in the full dataset (train+val+test): 100\n",
      "Warning! Requested training frames exceeds training set size; using all\n",
      "Dataset splits -- train: 80, val: 10, test: 10\n",
      "\n",
      " Initializing a HeatmapTracker instance.\n"
     ]
    },
    {
     "name": "stderr",
     "output_type": "stream",
     "text": [
      "LOCAL_RANK: 0 - CUDA_VISIBLE_DEVICES: [0]\n"
     ]
    },
    {
     "name": "stdout",
     "output_type": "stream",
     "text": [
      "Prediction csv file already exists for 180607_004/img015278.png. Skipping\n",
      "Prediction csv file already exists for 180607_004/img015320.png. Skipping\n",
      "Prediction csv file already exists for 180607_004/img015814.png. Skipping\n",
      "Prediction csv file already exists for 180607_004/img015879.png. Skipping\n",
      "Prediction csv file already exists for 180607_004/img016209.png. Skipping\n",
      "Prediction csv file already exists for 180607_004/img016400.png. Skipping\n",
      "Prediction csv file already exists for 180607_004/img016437.png. Skipping\n",
      "Prediction csv file already exists for 180607_004/img016434.png. Skipping\n",
      "Prediction csv file already exists for 180607_004/img016429.png. Skipping\n",
      "Prediction csv file already exists for 180607_004/img016542.png. Skipping\n",
      "Prediction csv file already exists for 180607_004/img016558.png. Skipping\n",
      "Prediction csv file already exists for 180607_004/img016635.png. Skipping\n",
      "Prediction csv file already exists for 180607_004/img016630.png. Skipping\n",
      "Prediction csv file already exists for 180607_004/img016831.png. Skipping\n",
      "Prediction csv file already exists for 180607_004/img016958.png. Skipping\n",
      "Prediction csv file already exists for 180607_004/img017025.png. Skipping\n",
      "Prediction csv file already exists for 180607_004/img017052.png. Skipping\n",
      "Prediction csv file already exists for 180607_004/img017056.png. Skipping\n",
      "Prediction csv file already exists for 180607_004/img017057.png. Skipping\n",
      "Prediction csv file already exists for 180607_004/img017059.png. Skipping\n",
      "Prediction csv file already exists for 180607_004/img017093.png. Skipping\n",
      "Prediction csv file already exists for 180607_004/img017117.png. Skipping\n",
      "Prediction csv file already exists for 180607_004/img017126.png. Skipping\n",
      "Prediction csv file already exists for 180607_004/img017142.png. Skipping\n",
      "Prediction csv file already exists for 180607_004/img017145.png. Skipping\n",
      "Prediction csv file already exists for 180607_004/img017148.png. Skipping\n",
      "Prediction csv file already exists for 180607_004/img017209.png. Skipping\n",
      "Prediction csv file already exists for 180607_004/img017213.png. Skipping\n",
      "Prediction csv file already exists for 180607_004/img017245.png. Skipping\n",
      "Prediction csv file already exists for 180607_004/img017244.png. Skipping\n",
      "Prediction csv file already exists for 180607_004/img017271.png. Skipping\n",
      "Prediction csv file already exists for 180607_004/img017308.png. Skipping\n",
      "Prediction csv file already exists for 180607_004/img017307.png. Skipping\n",
      "Prediction csv file already exists for 180607_004/img017330.png. Skipping\n",
      "Prediction csv file already exists for 180607_004/img017336.png. Skipping\n",
      "Prediction csv file already exists for 180607_004/img017342.png. Skipping\n",
      "Prediction csv file already exists for 180607_004/img017345.png. Skipping\n",
      "Prediction csv file already exists for 180607_004/img017348.png. Skipping\n",
      "Prediction csv file already exists for 180607_004/img017351.png. Skipping\n",
      "Prediction csv file already exists for 180607_004/img017456.png. Skipping\n",
      "Prediction csv file already exists for 180607_004/img017457.png. Skipping\n",
      "Prediction csv file already exists for 180607_004/img017548.png. Skipping\n",
      "Prediction csv file already exists for 180607_004/img017656.png. Skipping\n",
      "Prediction csv file already exists for 180607_004/img017702.png. Skipping\n",
      "Prediction csv file already exists for 180607_004/img018263.png. Skipping\n",
      "Prediction csv file already exists for 180607_004/img018464.png. Skipping\n",
      "Prediction csv file already exists for 180607_004/img018594.png. Skipping\n",
      "Prediction csv file already exists for 180607_004/img018588.png. Skipping\n",
      "Prediction csv file already exists for 180607_004/img018681.png. Skipping\n",
      "Prediction csv file already exists for 180607_004/img018677.png. Skipping\n",
      "Prediction csv file already exists for 180607_004/img018905.png. Skipping\n",
      "Prediction csv file already exists for 180607_004/img018906.png. Skipping\n",
      "Prediction csv file already exists for 180607_004/img019476.png. Skipping\n",
      "Prediction csv file already exists for 180607_004/img020114.png. Skipping\n",
      "Prediction csv file already exists for 180607_004/img020119.png. Skipping\n",
      "Prediction csv file already exists for 180607_004/img020234.png. Skipping\n",
      "Prediction csv file already exists for 180607_004/img020248.png. Skipping\n",
      "Prediction csv file already exists for 180607_004/img020249.png. Skipping\n",
      "Prediction csv file already exists for 180607_004/img020265.png. Skipping\n",
      "Prediction csv file already exists for 180607_004/img020415.png. Skipping\n",
      "Prediction csv file already exists for 180607_004/img020446.png. Skipping\n",
      "Prediction csv file already exists for 180607_004/img021476.png. Skipping\n",
      "Prediction csv file already exists for 180607_004/img021632.png. Skipping\n",
      "Prediction csv file already exists for 180607_004/img021635.png. Skipping\n",
      "Prediction csv file already exists for 180607_004/img021641.png. Skipping\n",
      "Prediction csv file already exists for 180607_004/img021698.png. Skipping\n",
      "Prediction csv file already exists for 180607_004/img021757.png. Skipping\n",
      "Prediction csv file already exists for 180607_004/img021760.png. Skipping\n",
      "Prediction csv file already exists for 180607_004/img021828.png. Skipping\n",
      "Prediction csv file already exists for 180607_004/img021883.png. Skipping\n",
      "Prediction csv file already exists for 180607_004/img021884.png. Skipping\n",
      "Prediction csv file already exists for 180607_004/img022065.png. Skipping\n",
      "Prediction csv file already exists for 180607_004/img022372.png. Skipping\n",
      "Prediction csv file already exists for 180607_004/img022371.png. Skipping\n",
      "Prediction csv file already exists for 180607_004/img022546.png. Skipping\n",
      "Prediction csv file already exists for 180607_004/img022567.png. Skipping\n",
      "Prediction csv file already exists for 180607_004/img022611.png. Skipping\n",
      "Prediction csv file already exists for 180607_004/img022612.png. Skipping\n",
      "Prediction csv file already exists for 180607_004/img024337.png. Skipping\n",
      "Prediction csv file already exists for 180607_004/img024441.png. Skipping\n",
      "Prediction csv file already exists for 180607_004/img024525.png. Skipping\n",
      "Prediction csv file already exists for 180607_004/img024565.png. Skipping\n",
      "Prediction csv file already exists for 180607_004/img024575.png. Skipping\n",
      "Prediction csv file already exists for 180607_004/img024665.png. Skipping\n",
      "Prediction csv file already exists for 180607_004/img024667.png. Skipping\n",
      "Prediction csv file already exists for 180607_004/img024804.png. Skipping\n",
      "Prediction csv file already exists for 180607_004/img024805.png. Skipping\n",
      "Prediction csv file already exists for 180607_004/img025129.png. Skipping\n",
      "Prediction csv file already exists for 180607_004/img025127.png. Skipping\n",
      "Prediction csv file already exists for 180607_004/img025124.png. Skipping\n",
      "Prediction csv file already exists for 180607_004/img025121.png. Skipping\n",
      "Prediction csv file already exists for 180607_004/img025113.png. Skipping\n",
      "Prediction csv file already exists for 180607_004/img025112.png. Skipping\n",
      "Prediction csv file already exists for 180609_000/img014100.png. Skipping\n",
      "Prediction csv file already exists for 180609_000/img018154.png. Skipping\n",
      "Prediction csv file already exists for 180609_000/img027847.png. Skipping\n",
      "Prediction csv file already exists for 180609_000/img109784.png. Skipping\n",
      "Prediction csv file already exists for 180609_000/img109800.png. Skipping\n",
      "Prediction csv file already exists for 180609_000/img114753.png. Skipping\n",
      "Prediction csv file already exists for 180609_000/img116696.png. Skipping\n",
      "Prediction csv file already exists for 180609_000/img120072.png. Skipping\n",
      "Prediction csv file already exists for 180609_000/img120094.png. Skipping\n",
      "Prediction csv file already exists for 180609_000/img131519.png. Skipping\n",
      "Prediction csv file already exists for 180609_000/img135076.png. Skipping\n",
      "Prediction csv file already exists for 180609_000/img165923.png. Skipping\n",
      "Prediction csv file already exists for 180609_000/img174023.png. Skipping\n",
      "Prediction csv file already exists for 180609_000/img178987.png. Skipping\n",
      "Prediction csv file already exists for 180609_000/img181928.png. Skipping\n",
      "Prediction csv file already exists for 180609_000/img182420.png. Skipping\n",
      "Prediction csv file already exists for 180609_000/img183318.png. Skipping\n",
      "Prediction csv file already exists for 180609_000/img183860.png. Skipping\n",
      "Prediction csv file already exists for 180609_000/img187151.png. Skipping\n",
      "/teamspace/studios/this_studio/data/mirror-mouse/videos-for-each-labeled-frame/180609_000/img227331.mp4 saved as\n",
      "/teamspace/studios/this_studio/outputs/mirror-mouse/hand=100_pseudo=1000/networks/rng2/video_preds_labeled/180609_000/img227331.csv\n",
      "Warning: the argument `seed` shadows a Pipeline constructor argument of the same name.\n"
     ]
    },
    {
     "data": {
      "application/vnd.jupyter.widget-view+json": {
       "model_id": "caca0b6b1b7e4477aa973c39a6cca984",
       "version_major": 2,
       "version_minor": 0
      },
      "text/plain": [
       "Predicting: |          | 0/? [00:00<?, ?it/s]"
      ]
     },
     "metadata": {},
     "output_type": "display_data"
    },
    {
     "name": "stderr",
     "output_type": "stream",
     "text": []
    },
    {
     "name": "stdout",
     "output_type": "stream",
     "text": [
      "/teamspace/studios/this_studio/data/mirror-mouse/videos-for-each-labeled-frame/180609_000/img235530.mp4 saved as\n",
      "/teamspace/studios/this_studio/outputs/mirror-mouse/hand=100_pseudo=1000/networks/rng2/video_preds_labeled/180609_000/img235530.csv\n",
      "Warning: the argument `seed` shadows a Pipeline constructor argument of the same name.\n"
     ]
    },
    {
     "name": "stderr",
     "output_type": "stream",
     "text": [
      "LOCAL_RANK: 0 - CUDA_VISIBLE_DEVICES: [0]\n"
     ]
    },
    {
     "data": {
      "application/vnd.jupyter.widget-view+json": {
       "model_id": "be1d9e9b6e14422c8206e985834101c1",
       "version_major": 2,
       "version_minor": 0
      },
      "text/plain": [
       "Predicting: |          | 0/? [00:00<?, ?it/s]"
      ]
     },
     "metadata": {},
     "output_type": "display_data"
    },
    {
     "name": "stderr",
     "output_type": "stream",
     "text": [
      "LOCAL_RANK: 0 - CUDA_VISIBLE_DEVICES: [0]\n"
     ]
    },
    {
     "name": "stdout",
     "output_type": "stream",
     "text": [
      "/teamspace/studios/this_studio/data/mirror-mouse/videos-for-each-labeled-frame/180609_000/img250883.mp4 saved as\n",
      "/teamspace/studios/this_studio/outputs/mirror-mouse/hand=100_pseudo=1000/networks/rng2/video_preds_labeled/180609_000/img250883.csv\n",
      "Warning: the argument `seed` shadows a Pipeline constructor argument of the same name.\n"
     ]
    },
    {
     "data": {
      "application/vnd.jupyter.widget-view+json": {
       "model_id": "c04e68fdeacc46fa9d68a5459e2b8652",
       "version_major": 2,
       "version_minor": 0
      },
      "text/plain": [
       "Predicting: |          | 0/? [00:00<?, ?it/s]"
      ]
     },
     "metadata": {},
     "output_type": "display_data"
    },
    {
     "name": "stdout",
     "output_type": "stream",
     "text": [
      "/teamspace/studios/this_studio/data/mirror-mouse/videos-for-each-labeled-frame/180609_004/img081243.mp4 saved as\n",
      "/teamspace/studios/this_studio/outputs/mirror-mouse/hand=100_pseudo=1000/networks/rng2/video_preds_labeled/180609_004/img081243.csv\n",
      "Warning: the argument `seed` shadows a Pipeline constructor argument of the same name.\n"
     ]
    },
    {
     "name": "stderr",
     "output_type": "stream",
     "text": [
      "LOCAL_RANK: 0 - CUDA_VISIBLE_DEVICES: [0]\n"
     ]
    },
    {
     "data": {
      "application/vnd.jupyter.widget-view+json": {
       "model_id": "422a9b260493403798bb6df1ed7ead2c",
       "version_major": 2,
       "version_minor": 0
      },
      "text/plain": [
       "Predicting: |          | 0/? [00:00<?, ?it/s]"
      ]
     },
     "metadata": {},
     "output_type": "display_data"
    },
    {
     "name": "stderr",
     "output_type": "stream",
     "text": [
      "LOCAL_RANK: 0 - CUDA_VISIBLE_DEVICES: [0]\n"
     ]
    },
    {
     "name": "stdout",
     "output_type": "stream",
     "text": [
      "/teamspace/studios/this_studio/data/mirror-mouse/videos-for-each-labeled-frame/180609_004/img091145.mp4 saved as\n",
      "/teamspace/studios/this_studio/outputs/mirror-mouse/hand=100_pseudo=1000/networks/rng2/video_preds_labeled/180609_004/img091145.csv\n",
      "Warning: the argument `seed` shadows a Pipeline constructor argument of the same name.\n"
     ]
    },
    {
     "data": {
      "application/vnd.jupyter.widget-view+json": {
       "model_id": "15891682585e4c6db5252b9d2505dfdc",
       "version_major": 2,
       "version_minor": 0
      },
      "text/plain": [
       "Predicting: |          | 0/? [00:00<?, ?it/s]"
      ]
     },
     "metadata": {},
     "output_type": "display_data"
    },
    {
     "name": "stdout",
     "output_type": "stream",
     "text": [
      "/teamspace/studios/this_studio/data/mirror-mouse/videos-for-each-labeled-frame/180609_004/img103612.mp4 saved as\n",
      "/teamspace/studios/this_studio/outputs/mirror-mouse/hand=100_pseudo=1000/networks/rng2/video_preds_labeled/180609_004/img103612.csv\n",
      "Warning: the argument `seed` shadows a Pipeline constructor argument of the same name.\n"
     ]
    },
    {
     "name": "stderr",
     "output_type": "stream",
     "text": [
      "LOCAL_RANK: 0 - CUDA_VISIBLE_DEVICES: [0]\n"
     ]
    },
    {
     "data": {
      "application/vnd.jupyter.widget-view+json": {
       "model_id": "46c8c41dc0314a3d811fdaa5c8276fc1",
       "version_major": 2,
       "version_minor": 0
      },
      "text/plain": [
       "Predicting: |          | 0/? [00:00<?, ?it/s]"
      ]
     },
     "metadata": {},
     "output_type": "display_data"
    },
    {
     "name": "stderr",
     "output_type": "stream",
     "text": [
      "LOCAL_RANK: 0 - CUDA_VISIBLE_DEVICES: [0]\n"
     ]
    },
    {
     "name": "stdout",
     "output_type": "stream",
     "text": [
      "/teamspace/studios/this_studio/data/mirror-mouse/videos-for-each-labeled-frame/180609_004/img109036.mp4 saved as\n",
      "/teamspace/studios/this_studio/outputs/mirror-mouse/hand=100_pseudo=1000/networks/rng2/video_preds_labeled/180609_004/img109036.csv\n",
      "Warning: the argument `seed` shadows a Pipeline constructor argument of the same name.\n"
     ]
    },
    {
     "data": {
      "application/vnd.jupyter.widget-view+json": {
       "model_id": "1bf75d0ebcd94a97889df9d7ced1ae54",
       "version_major": 2,
       "version_minor": 0
      },
      "text/plain": [
       "Predicting: |          | 0/? [00:00<?, ?it/s]"
      ]
     },
     "metadata": {},
     "output_type": "display_data"
    },
    {
     "name": "stdout",
     "output_type": "stream",
     "text": [
      "/teamspace/studios/this_studio/data/mirror-mouse/videos-for-each-labeled-frame/180609_004/img130158.mp4 saved as\n",
      "/teamspace/studios/this_studio/outputs/mirror-mouse/hand=100_pseudo=1000/networks/rng2/video_preds_labeled/180609_004/img130158.csv\n",
      "Warning: the argument `seed` shadows a Pipeline constructor argument of the same name.\n"
     ]
    },
    {
     "name": "stderr",
     "output_type": "stream",
     "text": [
      "LOCAL_RANK: 0 - CUDA_VISIBLE_DEVICES: [0]\n"
     ]
    },
    {
     "data": {
      "application/vnd.jupyter.widget-view+json": {
       "model_id": "7e9960d4e9d84ff4884e4dc2d886b04a",
       "version_major": 2,
       "version_minor": 0
      },
      "text/plain": [
       "Predicting: |          | 0/? [00:00<?, ?it/s]"
      ]
     },
     "metadata": {},
     "output_type": "display_data"
    },
    {
     "name": "stderr",
     "output_type": "stream",
     "text": [
      "LOCAL_RANK: 0 - CUDA_VISIBLE_DEVICES: [0]\n"
     ]
    },
    {
     "name": "stdout",
     "output_type": "stream",
     "text": [
      "/teamspace/studios/this_studio/data/mirror-mouse/videos-for-each-labeled-frame/180609_004/img146879.mp4 saved as\n",
      "/teamspace/studios/this_studio/outputs/mirror-mouse/hand=100_pseudo=1000/networks/rng2/video_preds_labeled/180609_004/img146879.csv\n",
      "Warning: the argument `seed` shadows a Pipeline constructor argument of the same name.\n"
     ]
    },
    {
     "data": {
      "application/vnd.jupyter.widget-view+json": {
       "model_id": "255532e05d87497eb0db1b565d59a5dc",
       "version_major": 2,
       "version_minor": 0
      },
      "text/plain": [
       "Predicting: |          | 0/? [00:00<?, ?it/s]"
      ]
     },
     "metadata": {},
     "output_type": "display_data"
    },
    {
     "name": "stderr",
     "output_type": "stream",
     "text": [
      "LOCAL_RANK: 0 - CUDA_VISIBLE_DEVICES: [0]\n"
     ]
    },
    {
     "name": "stdout",
     "output_type": "stream",
     "text": [
      "/teamspace/studios/this_studio/data/mirror-mouse/videos-for-each-labeled-frame/180609_004/img163809.mp4 saved as\n",
      "/teamspace/studios/this_studio/outputs/mirror-mouse/hand=100_pseudo=1000/networks/rng2/video_preds_labeled/180609_004/img163809.csv\n",
      "Warning: the argument `seed` shadows a Pipeline constructor argument of the same name.\n"
     ]
    },
    {
     "data": {
      "application/vnd.jupyter.widget-view+json": {
       "model_id": "27fa0d6f625b44e3b6b3acfa00d10418",
       "version_major": 2,
       "version_minor": 0
      },
      "text/plain": [
       "Predicting: |          | 0/? [00:00<?, ?it/s]"
      ]
     },
     "metadata": {},
     "output_type": "display_data"
    },
    {
     "name": "stderr",
     "output_type": "stream",
     "text": [
      "LOCAL_RANK: 0 - CUDA_VISIBLE_DEVICES: [0]\n"
     ]
    },
    {
     "name": "stdout",
     "output_type": "stream",
     "text": [
      "/teamspace/studios/this_studio/data/mirror-mouse/videos-for-each-labeled-frame/180609_004/img168800.mp4 saved as\n",
      "/teamspace/studios/this_studio/outputs/mirror-mouse/hand=100_pseudo=1000/networks/rng2/video_preds_labeled/180609_004/img168800.csv\n",
      "Warning: the argument `seed` shadows a Pipeline constructor argument of the same name.\n"
     ]
    },
    {
     "data": {
      "application/vnd.jupyter.widget-view+json": {
       "model_id": "cf46c6726a4f40238f9099318674846a",
       "version_major": 2,
       "version_minor": 0
      },
      "text/plain": [
       "Predicting: |          | 0/? [00:00<?, ?it/s]"
      ]
     },
     "metadata": {},
     "output_type": "display_data"
    },
    {
     "name": "stderr",
     "output_type": "stream",
     "text": [
      "LOCAL_RANK: 0 - CUDA_VISIBLE_DEVICES: [0]\n"
     ]
    },
    {
     "name": "stdout",
     "output_type": "stream",
     "text": [
      "/teamspace/studios/this_studio/data/mirror-mouse/videos-for-each-labeled-frame/180609_004/img176505.mp4 saved as\n",
      "/teamspace/studios/this_studio/outputs/mirror-mouse/hand=100_pseudo=1000/networks/rng2/video_preds_labeled/180609_004/img176505.csv\n",
      "Warning: the argument `seed` shadows a Pipeline constructor argument of the same name.\n"
     ]
    },
    {
     "data": {
      "application/vnd.jupyter.widget-view+json": {
       "model_id": "030f02e0d29a43a0a9fcc9cc0c2f63be",
       "version_major": 2,
       "version_minor": 0
      },
      "text/plain": [
       "Predicting: |          | 0/? [00:00<?, ?it/s]"
      ]
     },
     "metadata": {},
     "output_type": "display_data"
    },
    {
     "name": "stderr",
     "output_type": "stream",
     "text": [
      "LOCAL_RANK: 0 - CUDA_VISIBLE_DEVICES: [0]\n"
     ]
    },
    {
     "name": "stdout",
     "output_type": "stream",
     "text": [
      "/teamspace/studios/this_studio/data/mirror-mouse/videos-for-each-labeled-frame/180609_004/img196983.mp4 saved as\n",
      "/teamspace/studios/this_studio/outputs/mirror-mouse/hand=100_pseudo=1000/networks/rng2/video_preds_labeled/180609_004/img196983.csv\n",
      "Warning: the argument `seed` shadows a Pipeline constructor argument of the same name.\n"
     ]
    },
    {
     "data": {
      "application/vnd.jupyter.widget-view+json": {
       "model_id": "47f7951df34d429f8ec88a8a61f94e20",
       "version_major": 2,
       "version_minor": 0
      },
      "text/plain": [
       "Predicting: |          | 0/? [00:00<?, ?it/s]"
      ]
     },
     "metadata": {},
     "output_type": "display_data"
    },
    {
     "name": "stderr",
     "output_type": "stream",
     "text": [
      "LOCAL_RANK: 0 - CUDA_VISIBLE_DEVICES: [0]\n"
     ]
    },
    {
     "name": "stdout",
     "output_type": "stream",
     "text": [
      "/teamspace/studios/this_studio/data/mirror-mouse/videos-for-each-labeled-frame/180609_004/img200918.mp4 saved as\n",
      "/teamspace/studios/this_studio/outputs/mirror-mouse/hand=100_pseudo=1000/networks/rng2/video_preds_labeled/180609_004/img200918.csv\n",
      "Warning: the argument `seed` shadows a Pipeline constructor argument of the same name.\n"
     ]
    },
    {
     "data": {
      "application/vnd.jupyter.widget-view+json": {
       "model_id": "351c89b1bf7f4ec3a53224115cf4b7c5",
       "version_major": 2,
       "version_minor": 0
      },
      "text/plain": [
       "Predicting: |          | 0/? [00:00<?, ?it/s]"
      ]
     },
     "metadata": {},
     "output_type": "display_data"
    },
    {
     "name": "stderr",
     "output_type": "stream",
     "text": [
      "LOCAL_RANK: 0 - CUDA_VISIBLE_DEVICES: [0]\n"
     ]
    },
    {
     "name": "stdout",
     "output_type": "stream",
     "text": [
      "/teamspace/studios/this_studio/data/mirror-mouse/videos-for-each-labeled-frame/180609_004/img219119.mp4 saved as\n",
      "/teamspace/studios/this_studio/outputs/mirror-mouse/hand=100_pseudo=1000/networks/rng2/video_preds_labeled/180609_004/img219119.csv\n",
      "Warning: the argument `seed` shadows a Pipeline constructor argument of the same name.\n"
     ]
    },
    {
     "data": {
      "application/vnd.jupyter.widget-view+json": {
       "model_id": "19cce9ecf3c84e1cb5271913550a6cd6",
       "version_major": 2,
       "version_minor": 0
      },
      "text/plain": [
       "Predicting: |          | 0/? [00:00<?, ?it/s]"
      ]
     },
     "metadata": {},
     "output_type": "display_data"
    },
    {
     "name": "stderr",
     "output_type": "stream",
     "text": [
      "LOCAL_RANK: 0 - CUDA_VISIBLE_DEVICES: [0]\n"
     ]
    },
    {
     "name": "stdout",
     "output_type": "stream",
     "text": [
      "/teamspace/studios/this_studio/data/mirror-mouse/videos-for-each-labeled-frame/180609_004/img227562.mp4 saved as\n",
      "/teamspace/studios/this_studio/outputs/mirror-mouse/hand=100_pseudo=1000/networks/rng2/video_preds_labeled/180609_004/img227562.csv\n",
      "Warning: the argument `seed` shadows a Pipeline constructor argument of the same name.\n"
     ]
    },
    {
     "data": {
      "application/vnd.jupyter.widget-view+json": {
       "model_id": "d1ff9dc4b96840fa92cf83b65999cdec",
       "version_major": 2,
       "version_minor": 0
      },
      "text/plain": [
       "Predicting: |          | 0/? [00:00<?, ?it/s]"
      ]
     },
     "metadata": {},
     "output_type": "display_data"
    },
    {
     "name": "stderr",
     "output_type": "stream",
     "text": [
      "LOCAL_RANK: 0 - CUDA_VISIBLE_DEVICES: [0]\n"
     ]
    },
    {
     "name": "stdout",
     "output_type": "stream",
     "text": [
      "/teamspace/studios/this_studio/data/mirror-mouse/videos-for-each-labeled-frame/180609_004/img244262.mp4 saved as\n",
      "/teamspace/studios/this_studio/outputs/mirror-mouse/hand=100_pseudo=1000/networks/rng2/video_preds_labeled/180609_004/img244262.csv\n",
      "Warning: the argument `seed` shadows a Pipeline constructor argument of the same name.\n"
     ]
    },
    {
     "data": {
      "application/vnd.jupyter.widget-view+json": {
       "model_id": "10c2af9a81834018af36e6180127e114",
       "version_major": 2,
       "version_minor": 0
      },
      "text/plain": [
       "Predicting: |          | 0/? [00:00<?, ?it/s]"
      ]
     },
     "metadata": {},
     "output_type": "display_data"
    },
    {
     "name": "stderr",
     "output_type": "stream",
     "text": [
      "LOCAL_RANK: 0 - CUDA_VISIBLE_DEVICES: [0]\n"
     ]
    },
    {
     "name": "stdout",
     "output_type": "stream",
     "text": [
      "/teamspace/studios/this_studio/data/mirror-mouse/videos-for-each-labeled-frame/180609_004/img247495.mp4 saved as\n",
      "/teamspace/studios/this_studio/outputs/mirror-mouse/hand=100_pseudo=1000/networks/rng2/video_preds_labeled/180609_004/img247495.csv\n",
      "Warning: the argument `seed` shadows a Pipeline constructor argument of the same name.\n"
     ]
    },
    {
     "data": {
      "application/vnd.jupyter.widget-view+json": {
       "model_id": "a13ec8bb7c7847c0b5c29613805cfcb2",
       "version_major": 2,
       "version_minor": 0
      },
      "text/plain": [
       "Predicting: |          | 0/? [00:00<?, ?it/s]"
      ]
     },
     "metadata": {},
     "output_type": "display_data"
    },
    {
     "name": "stderr",
     "output_type": "stream",
     "text": [
      "LOCAL_RANK: 0 - CUDA_VISIBLE_DEVICES: [0]\n"
     ]
    },
    {
     "name": "stdout",
     "output_type": "stream",
     "text": [
      "/teamspace/studios/this_studio/data/mirror-mouse/videos-for-each-labeled-frame/180609_004/img253420.mp4 saved as\n",
      "/teamspace/studios/this_studio/outputs/mirror-mouse/hand=100_pseudo=1000/networks/rng2/video_preds_labeled/180609_004/img253420.csv\n",
      "Warning: the argument `seed` shadows a Pipeline constructor argument of the same name.\n"
     ]
    },
    {
     "data": {
      "application/vnd.jupyter.widget-view+json": {
       "model_id": "ceef8fc1122b49e2b645c0dc9e55a45a",
       "version_major": 2,
       "version_minor": 0
      },
      "text/plain": [
       "Predicting: |          | 0/? [00:00<?, ?it/s]"
      ]
     },
     "metadata": {},
     "output_type": "display_data"
    },
    {
     "name": "stderr",
     "output_type": "stream",
     "text": []
    },
    {
     "name": "stdout",
     "output_type": "stream",
     "text": [
      "/teamspace/studios/this_studio/data/mirror-mouse/videos-for-each-labeled-frame/180609_004/img284725.mp4 saved as\n",
      "/teamspace/studios/this_studio/outputs/mirror-mouse/hand=100_pseudo=1000/networks/rng2/video_preds_labeled/180609_004/img284725.csv\n",
      "Warning: the argument `seed` shadows a Pipeline constructor argument of the same name.\n"
     ]
    },
    {
     "name": "stderr",
     "output_type": "stream",
     "text": [
      "LOCAL_RANK: 0 - CUDA_VISIBLE_DEVICES: [0]\n"
     ]
    },
    {
     "data": {
      "application/vnd.jupyter.widget-view+json": {
       "model_id": "ac41e91dded24f5390cd1f38ebab0515",
       "version_major": 2,
       "version_minor": 0
      },
      "text/plain": [
       "Predicting: |          | 0/? [00:00<?, ?it/s]"
      ]
     },
     "metadata": {},
     "output_type": "display_data"
    },
    {
     "name": "stderr",
     "output_type": "stream",
     "text": [
      "LOCAL_RANK: 0 - CUDA_VISIBLE_DEVICES: [0]\n"
     ]
    },
    {
     "name": "stdout",
     "output_type": "stream",
     "text": [
      "/teamspace/studios/this_studio/data/mirror-mouse/videos-for-each-labeled-frame/180609_004/img301935.mp4 saved as\n",
      "/teamspace/studios/this_studio/outputs/mirror-mouse/hand=100_pseudo=1000/networks/rng2/video_preds_labeled/180609_004/img301935.csv\n",
      "Warning: the argument `seed` shadows a Pipeline constructor argument of the same name.\n"
     ]
    },
    {
     "data": {
      "application/vnd.jupyter.widget-view+json": {
       "model_id": "d7ad07c7728e475f92b8fdbb1f4b17df",
       "version_major": 2,
       "version_minor": 0
      },
      "text/plain": [
       "Predicting: |          | 0/? [00:00<?, ?it/s]"
      ]
     },
     "metadata": {},
     "output_type": "display_data"
    },
    {
     "name": "stderr",
     "output_type": "stream",
     "text": [
      "LOCAL_RANK: 0 - CUDA_VISIBLE_DEVICES: [0]\n"
     ]
    },
    {
     "name": "stdout",
     "output_type": "stream",
     "text": [
      "/teamspace/studios/this_studio/data/mirror-mouse/videos-for-each-labeled-frame/180609_004/img309374.mp4 saved as\n",
      "/teamspace/studios/this_studio/outputs/mirror-mouse/hand=100_pseudo=1000/networks/rng2/video_preds_labeled/180609_004/img309374.csv\n",
      "Warning: the argument `seed` shadows a Pipeline constructor argument of the same name.\n"
     ]
    },
    {
     "data": {
      "application/vnd.jupyter.widget-view+json": {
       "model_id": "5be1c051f4c4478f9bcf96de7a748b88",
       "version_major": 2,
       "version_minor": 0
      },
      "text/plain": [
       "Predicting: |          | 0/? [00:00<?, ?it/s]"
      ]
     },
     "metadata": {},
     "output_type": "display_data"
    },
    {
     "name": "stderr",
     "output_type": "stream",
     "text": [
      "LOCAL_RANK: 0 - CUDA_VISIBLE_DEVICES: [0]\n"
     ]
    },
    {
     "name": "stdout",
     "output_type": "stream",
     "text": [
      "/teamspace/studios/this_studio/data/mirror-mouse/videos-for-each-labeled-frame/180609_004/img313791.mp4 saved as\n",
      "/teamspace/studios/this_studio/outputs/mirror-mouse/hand=100_pseudo=1000/networks/rng2/video_preds_labeled/180609_004/img313791.csv\n",
      "Warning: the argument `seed` shadows a Pipeline constructor argument of the same name.\n"
     ]
    },
    {
     "data": {
      "application/vnd.jupyter.widget-view+json": {
       "model_id": "8610e40a92c846e7a8e6b6316d5fb451",
       "version_major": 2,
       "version_minor": 0
      },
      "text/plain": [
       "Predicting: |          | 0/? [00:00<?, ?it/s]"
      ]
     },
     "metadata": {},
     "output_type": "display_data"
    },
    {
     "name": "stderr",
     "output_type": "stream",
     "text": [
      "LOCAL_RANK: 0 - CUDA_VISIBLE_DEVICES: [0]\n"
     ]
    },
    {
     "name": "stdout",
     "output_type": "stream",
     "text": [
      "/teamspace/studios/this_studio/data/mirror-mouse/videos-for-each-labeled-frame/180609_004/img317922.mp4 saved as\n",
      "/teamspace/studios/this_studio/outputs/mirror-mouse/hand=100_pseudo=1000/networks/rng2/video_preds_labeled/180609_004/img317922.csv\n",
      "Warning: the argument `seed` shadows a Pipeline constructor argument of the same name.\n"
     ]
    },
    {
     "data": {
      "application/vnd.jupyter.widget-view+json": {
       "model_id": "3a31c498439b4f3ca678335eea4610c9",
       "version_major": 2,
       "version_minor": 0
      },
      "text/plain": [
       "Predicting: |          | 0/? [00:00<?, ?it/s]"
      ]
     },
     "metadata": {},
     "output_type": "display_data"
    },
    {
     "name": "stderr",
     "output_type": "stream",
     "text": [
      "LOCAL_RANK: 0 - CUDA_VISIBLE_DEVICES: [0]\n"
     ]
    },
    {
     "name": "stdout",
     "output_type": "stream",
     "text": [
      "/teamspace/studios/this_studio/data/mirror-mouse/videos-for-each-labeled-frame/180609_004/img338587.mp4 saved as\n",
      "/teamspace/studios/this_studio/outputs/mirror-mouse/hand=100_pseudo=1000/networks/rng2/video_preds_labeled/180609_004/img338587.csv\n",
      "Warning: the argument `seed` shadows a Pipeline constructor argument of the same name.\n"
     ]
    },
    {
     "data": {
      "application/vnd.jupyter.widget-view+json": {
       "model_id": "4353d478092d43828fad66182bc75e00",
       "version_major": 2,
       "version_minor": 0
      },
      "text/plain": [
       "Predicting: |          | 0/? [00:00<?, ?it/s]"
      ]
     },
     "metadata": {},
     "output_type": "display_data"
    },
    {
     "name": "stderr",
     "output_type": "stream",
     "text": [
      "LOCAL_RANK: 0 - CUDA_VISIBLE_DEVICES: [0]\n"
     ]
    },
    {
     "name": "stdout",
     "output_type": "stream",
     "text": [
      "/teamspace/studios/this_studio/data/mirror-mouse/videos-for-each-labeled-frame/180613_000/img032005.mp4 saved as\n",
      "/teamspace/studios/this_studio/outputs/mirror-mouse/hand=100_pseudo=1000/networks/rng2/video_preds_labeled/180613_000/img032005.csv\n",
      "Warning: the argument `seed` shadows a Pipeline constructor argument of the same name.\n"
     ]
    },
    {
     "data": {
      "application/vnd.jupyter.widget-view+json": {
       "model_id": "7bf18dc1cc8d4788ade4079831c67fcd",
       "version_major": 2,
       "version_minor": 0
      },
      "text/plain": [
       "Predicting: |          | 0/? [00:00<?, ?it/s]"
      ]
     },
     "metadata": {},
     "output_type": "display_data"
    },
    {
     "name": "stderr",
     "output_type": "stream",
     "text": [
      "LOCAL_RANK: 0 - CUDA_VISIBLE_DEVICES: [0]\n"
     ]
    },
    {
     "name": "stdout",
     "output_type": "stream",
     "text": [
      "/teamspace/studios/this_studio/data/mirror-mouse/videos-for-each-labeled-frame/180613_000/img032067.mp4 saved as\n",
      "/teamspace/studios/this_studio/outputs/mirror-mouse/hand=100_pseudo=1000/networks/rng2/video_preds_labeled/180613_000/img032067.csv\n",
      "Warning: the argument `seed` shadows a Pipeline constructor argument of the same name.\n"
     ]
    },
    {
     "data": {
      "application/vnd.jupyter.widget-view+json": {
       "model_id": "af662fef03014df5bdfbb19a6e706183",
       "version_major": 2,
       "version_minor": 0
      },
      "text/plain": [
       "Predicting: |          | 0/? [00:00<?, ?it/s]"
      ]
     },
     "metadata": {},
     "output_type": "display_data"
    },
    {
     "name": "stderr",
     "output_type": "stream",
     "text": [
      "LOCAL_RANK: 0 - CUDA_VISIBLE_DEVICES: [0]\n"
     ]
    },
    {
     "name": "stdout",
     "output_type": "stream",
     "text": [
      "/teamspace/studios/this_studio/data/mirror-mouse/videos-for-each-labeled-frame/180613_000/img032167.mp4 saved as\n",
      "/teamspace/studios/this_studio/outputs/mirror-mouse/hand=100_pseudo=1000/networks/rng2/video_preds_labeled/180613_000/img032167.csv\n",
      "Warning: the argument `seed` shadows a Pipeline constructor argument of the same name.\n"
     ]
    },
    {
     "data": {
      "application/vnd.jupyter.widget-view+json": {
       "model_id": "bd0f810024b549f99288b31b1233f4b8",
       "version_major": 2,
       "version_minor": 0
      },
      "text/plain": [
       "Predicting: |          | 0/? [00:00<?, ?it/s]"
      ]
     },
     "metadata": {},
     "output_type": "display_data"
    },
    {
     "name": "stderr",
     "output_type": "stream",
     "text": [
      "LOCAL_RANK: 0 - CUDA_VISIBLE_DEVICES: [0]\n"
     ]
    },
    {
     "name": "stdout",
     "output_type": "stream",
     "text": [
      "/teamspace/studios/this_studio/data/mirror-mouse/videos-for-each-labeled-frame/180613_000/img033632.mp4 saved as\n",
      "/teamspace/studios/this_studio/outputs/mirror-mouse/hand=100_pseudo=1000/networks/rng2/video_preds_labeled/180613_000/img033632.csv\n",
      "Warning: the argument `seed` shadows a Pipeline constructor argument of the same name.\n"
     ]
    },
    {
     "data": {
      "application/vnd.jupyter.widget-view+json": {
       "model_id": "d91fe340f87d4d15b0f38bfd60882327",
       "version_major": 2,
       "version_minor": 0
      },
      "text/plain": [
       "Predicting: |          | 0/? [00:00<?, ?it/s]"
      ]
     },
     "metadata": {},
     "output_type": "display_data"
    },
    {
     "name": "stderr",
     "output_type": "stream",
     "text": [
      "LOCAL_RANK: 0 - CUDA_VISIBLE_DEVICES: [0]\n"
     ]
    },
    {
     "name": "stdout",
     "output_type": "stream",
     "text": [
      "/teamspace/studios/this_studio/data/mirror-mouse/videos-for-each-labeled-frame/180613_000/img034389.mp4 saved as\n",
      "/teamspace/studios/this_studio/outputs/mirror-mouse/hand=100_pseudo=1000/networks/rng2/video_preds_labeled/180613_000/img034389.csv\n",
      "Warning: the argument `seed` shadows a Pipeline constructor argument of the same name.\n"
     ]
    },
    {
     "data": {
      "application/vnd.jupyter.widget-view+json": {
       "model_id": "c40078733eed424bb28dd2e44a5e19b8",
       "version_major": 2,
       "version_minor": 0
      },
      "text/plain": [
       "Predicting: |          | 0/? [00:00<?, ?it/s]"
      ]
     },
     "metadata": {},
     "output_type": "display_data"
    },
    {
     "name": "stderr",
     "output_type": "stream",
     "text": [
      "LOCAL_RANK: 0 - CUDA_VISIBLE_DEVICES: [0]\n"
     ]
    },
    {
     "name": "stdout",
     "output_type": "stream",
     "text": [
      "/teamspace/studios/this_studio/data/mirror-mouse/videos-for-each-labeled-frame/180613_000/img034466.mp4 saved as\n",
      "/teamspace/studios/this_studio/outputs/mirror-mouse/hand=100_pseudo=1000/networks/rng2/video_preds_labeled/180613_000/img034466.csv\n",
      "Warning: the argument `seed` shadows a Pipeline constructor argument of the same name.\n"
     ]
    },
    {
     "data": {
      "application/vnd.jupyter.widget-view+json": {
       "model_id": "7e361cb6b520430aae34cae7d7339713",
       "version_major": 2,
       "version_minor": 0
      },
      "text/plain": [
       "Predicting: |          | 0/? [00:00<?, ?it/s]"
      ]
     },
     "metadata": {},
     "output_type": "display_data"
    },
    {
     "name": "stderr",
     "output_type": "stream",
     "text": [
      "LOCAL_RANK: 0 - CUDA_VISIBLE_DEVICES: [0]\n"
     ]
    },
    {
     "name": "stdout",
     "output_type": "stream",
     "text": [
      "/teamspace/studios/this_studio/data/mirror-mouse/videos-for-each-labeled-frame/180613_000/img034657.mp4 saved as\n",
      "/teamspace/studios/this_studio/outputs/mirror-mouse/hand=100_pseudo=1000/networks/rng2/video_preds_labeled/180613_000/img034657.csv\n",
      "Warning: the argument `seed` shadows a Pipeline constructor argument of the same name.\n"
     ]
    },
    {
     "data": {
      "application/vnd.jupyter.widget-view+json": {
       "model_id": "98c4b2b4437947ca8fbed24b48ab3150",
       "version_major": 2,
       "version_minor": 0
      },
      "text/plain": [
       "Predicting: |          | 0/? [00:00<?, ?it/s]"
      ]
     },
     "metadata": {},
     "output_type": "display_data"
    },
    {
     "name": "stderr",
     "output_type": "stream",
     "text": [
      "LOCAL_RANK: 0 - CUDA_VISIBLE_DEVICES: [0]\n"
     ]
    },
    {
     "name": "stdout",
     "output_type": "stream",
     "text": [
      "/teamspace/studios/this_studio/data/mirror-mouse/videos-for-each-labeled-frame/180613_000/img034709.mp4 saved as\n",
      "/teamspace/studios/this_studio/outputs/mirror-mouse/hand=100_pseudo=1000/networks/rng2/video_preds_labeled/180613_000/img034709.csv\n",
      "Warning: the argument `seed` shadows a Pipeline constructor argument of the same name.\n"
     ]
    },
    {
     "data": {
      "application/vnd.jupyter.widget-view+json": {
       "model_id": "ca5f194bd40f4896a6c24ee45a3d16f4",
       "version_major": 2,
       "version_minor": 0
      },
      "text/plain": [
       "Predicting: |          | 0/? [00:00<?, ?it/s]"
      ]
     },
     "metadata": {},
     "output_type": "display_data"
    },
    {
     "name": "stderr",
     "output_type": "stream",
     "text": []
    },
    {
     "name": "stdout",
     "output_type": "stream",
     "text": [
      "/teamspace/studios/this_studio/data/mirror-mouse/videos-for-each-labeled-frame/180613_000/img034698.mp4 saved as\n",
      "/teamspace/studios/this_studio/outputs/mirror-mouse/hand=100_pseudo=1000/networks/rng2/video_preds_labeled/180613_000/img034698.csv\n",
      "Warning: the argument `seed` shadows a Pipeline constructor argument of the same name.\n"
     ]
    },
    {
     "name": "stderr",
     "output_type": "stream",
     "text": [
      "LOCAL_RANK: 0 - CUDA_VISIBLE_DEVICES: [0]\n"
     ]
    },
    {
     "data": {
      "application/vnd.jupyter.widget-view+json": {
       "model_id": "192e93e9de3e4a4bb54af31e4f674b19",
       "version_major": 2,
       "version_minor": 0
      },
      "text/plain": [
       "Predicting: |          | 0/? [00:00<?, ?it/s]"
      ]
     },
     "metadata": {},
     "output_type": "display_data"
    },
    {
     "name": "stderr",
     "output_type": "stream",
     "text": [
      "LOCAL_RANK: 0 - CUDA_VISIBLE_DEVICES: [0]\n"
     ]
    },
    {
     "name": "stdout",
     "output_type": "stream",
     "text": [
      "/teamspace/studios/this_studio/data/mirror-mouse/videos-for-each-labeled-frame/180613_000/img035021.mp4 saved as\n",
      "/teamspace/studios/this_studio/outputs/mirror-mouse/hand=100_pseudo=1000/networks/rng2/video_preds_labeled/180613_000/img035021.csv\n",
      "Warning: the argument `seed` shadows a Pipeline constructor argument of the same name.\n"
     ]
    },
    {
     "data": {
      "application/vnd.jupyter.widget-view+json": {
       "model_id": "8b2953d5ffde47b3a50c028c538118a1",
       "version_major": 2,
       "version_minor": 0
      },
      "text/plain": [
       "Predicting: |          | 0/? [00:00<?, ?it/s]"
      ]
     },
     "metadata": {},
     "output_type": "display_data"
    },
    {
     "name": "stderr",
     "output_type": "stream",
     "text": [
      "LOCAL_RANK: 0 - CUDA_VISIBLE_DEVICES: [0]\n"
     ]
    },
    {
     "name": "stdout",
     "output_type": "stream",
     "text": [
      "/teamspace/studios/this_studio/data/mirror-mouse/videos-for-each-labeled-frame/180613_000/img035409.mp4 saved as\n",
      "/teamspace/studios/this_studio/outputs/mirror-mouse/hand=100_pseudo=1000/networks/rng2/video_preds_labeled/180613_000/img035409.csv\n",
      "Warning: the argument `seed` shadows a Pipeline constructor argument of the same name.\n"
     ]
    },
    {
     "data": {
      "application/vnd.jupyter.widget-view+json": {
       "model_id": "748162d79a7e4de5ac8134afad2e8a10",
       "version_major": 2,
       "version_minor": 0
      },
      "text/plain": [
       "Predicting: |          | 0/? [00:00<?, ?it/s]"
      ]
     },
     "metadata": {},
     "output_type": "display_data"
    },
    {
     "name": "stderr",
     "output_type": "stream",
     "text": [
      "LOCAL_RANK: 0 - CUDA_VISIBLE_DEVICES: [0]\n"
     ]
    },
    {
     "name": "stdout",
     "output_type": "stream",
     "text": [
      "/teamspace/studios/this_studio/data/mirror-mouse/videos-for-each-labeled-frame/180613_000/img035482.mp4 saved as\n",
      "/teamspace/studios/this_studio/outputs/mirror-mouse/hand=100_pseudo=1000/networks/rng2/video_preds_labeled/180613_000/img035482.csv\n",
      "Warning: the argument `seed` shadows a Pipeline constructor argument of the same name.\n"
     ]
    },
    {
     "data": {
      "application/vnd.jupyter.widget-view+json": {
       "model_id": "b9fbb167fb2744c4a477c41d996e670d",
       "version_major": 2,
       "version_minor": 0
      },
      "text/plain": [
       "Predicting: |          | 0/? [00:00<?, ?it/s]"
      ]
     },
     "metadata": {},
     "output_type": "display_data"
    },
    {
     "name": "stderr",
     "output_type": "stream",
     "text": [
      "LOCAL_RANK: 0 - CUDA_VISIBLE_DEVICES: [0]\n"
     ]
    },
    {
     "name": "stdout",
     "output_type": "stream",
     "text": [
      "/teamspace/studios/this_studio/data/mirror-mouse/videos-for-each-labeled-frame/180613_000/img035725.mp4 saved as\n",
      "/teamspace/studios/this_studio/outputs/mirror-mouse/hand=100_pseudo=1000/networks/rng2/video_preds_labeled/180613_000/img035725.csv\n",
      "Warning: the argument `seed` shadows a Pipeline constructor argument of the same name.\n"
     ]
    },
    {
     "data": {
      "application/vnd.jupyter.widget-view+json": {
       "model_id": "50f40309fec24d16a435695951dc58a8",
       "version_major": 2,
       "version_minor": 0
      },
      "text/plain": [
       "Predicting: |          | 0/? [00:00<?, ?it/s]"
      ]
     },
     "metadata": {},
     "output_type": "display_data"
    },
    {
     "name": "stderr",
     "output_type": "stream",
     "text": [
      "LOCAL_RANK: 0 - CUDA_VISIBLE_DEVICES: [0]\n"
     ]
    },
    {
     "name": "stdout",
     "output_type": "stream",
     "text": [
      "/teamspace/studios/this_studio/data/mirror-mouse/videos-for-each-labeled-frame/180613_000/img036295.mp4 saved as\n",
      "/teamspace/studios/this_studio/outputs/mirror-mouse/hand=100_pseudo=1000/networks/rng2/video_preds_labeled/180613_000/img036295.csv\n",
      "Warning: the argument `seed` shadows a Pipeline constructor argument of the same name.\n"
     ]
    },
    {
     "data": {
      "application/vnd.jupyter.widget-view+json": {
       "model_id": "e6078278790a418d8a9d51caa625cc63",
       "version_major": 2,
       "version_minor": 0
      },
      "text/plain": [
       "Predicting: |          | 0/? [00:00<?, ?it/s]"
      ]
     },
     "metadata": {},
     "output_type": "display_data"
    },
    {
     "name": "stderr",
     "output_type": "stream",
     "text": [
      "LOCAL_RANK: 0 - CUDA_VISIBLE_DEVICES: [0]\n"
     ]
    },
    {
     "name": "stdout",
     "output_type": "stream",
     "text": [
      "/teamspace/studios/this_studio/data/mirror-mouse/videos-for-each-labeled-frame/180613_000/img036326.mp4 saved as\n",
      "/teamspace/studios/this_studio/outputs/mirror-mouse/hand=100_pseudo=1000/networks/rng2/video_preds_labeled/180613_000/img036326.csv\n",
      "Warning: the argument `seed` shadows a Pipeline constructor argument of the same name.\n"
     ]
    },
    {
     "data": {
      "application/vnd.jupyter.widget-view+json": {
       "model_id": "0aa69c0d76424172884d91c0d192b0b8",
       "version_major": 2,
       "version_minor": 0
      },
      "text/plain": [
       "Predicting: |          | 0/? [00:00<?, ?it/s]"
      ]
     },
     "metadata": {},
     "output_type": "display_data"
    },
    {
     "name": "stderr",
     "output_type": "stream",
     "text": [
      "LOCAL_RANK: 0 - CUDA_VISIBLE_DEVICES: [0]\n"
     ]
    },
    {
     "name": "stdout",
     "output_type": "stream",
     "text": [
      "/teamspace/studios/this_studio/data/mirror-mouse/videos-for-each-labeled-frame/180613_000/img036546.mp4 saved as\n",
      "/teamspace/studios/this_studio/outputs/mirror-mouse/hand=100_pseudo=1000/networks/rng2/video_preds_labeled/180613_000/img036546.csv\n",
      "Warning: the argument `seed` shadows a Pipeline constructor argument of the same name.\n"
     ]
    },
    {
     "data": {
      "application/vnd.jupyter.widget-view+json": {
       "model_id": "a33ab84f1c45435a9630c472084c21c5",
       "version_major": 2,
       "version_minor": 0
      },
      "text/plain": [
       "Predicting: |          | 0/? [00:00<?, ?it/s]"
      ]
     },
     "metadata": {},
     "output_type": "display_data"
    },
    {
     "name": "stderr",
     "output_type": "stream",
     "text": [
      "LOCAL_RANK: 0 - CUDA_VISIBLE_DEVICES: [0]\n"
     ]
    },
    {
     "name": "stdout",
     "output_type": "stream",
     "text": [
      "/teamspace/studios/this_studio/data/mirror-mouse/videos-for-each-labeled-frame/180613_000/img036833.mp4 saved as\n",
      "/teamspace/studios/this_studio/outputs/mirror-mouse/hand=100_pseudo=1000/networks/rng2/video_preds_labeled/180613_000/img036833.csv\n",
      "Warning: the argument `seed` shadows a Pipeline constructor argument of the same name.\n"
     ]
    },
    {
     "data": {
      "application/vnd.jupyter.widget-view+json": {
       "model_id": "18a6a7b05ea3495f90ec7853df32f8b4",
       "version_major": 2,
       "version_minor": 0
      },
      "text/plain": [
       "Predicting: |          | 0/? [00:00<?, ?it/s]"
      ]
     },
     "metadata": {},
     "output_type": "display_data"
    },
    {
     "name": "stderr",
     "output_type": "stream",
     "text": [
      "LOCAL_RANK: 0 - CUDA_VISIBLE_DEVICES: [0]\n"
     ]
    },
    {
     "name": "stdout",
     "output_type": "stream",
     "text": [
      "/teamspace/studios/this_studio/data/mirror-mouse/videos-for-each-labeled-frame/180613_000/img036859.mp4 saved as\n",
      "/teamspace/studios/this_studio/outputs/mirror-mouse/hand=100_pseudo=1000/networks/rng2/video_preds_labeled/180613_000/img036859.csv\n",
      "Warning: the argument `seed` shadows a Pipeline constructor argument of the same name.\n"
     ]
    },
    {
     "data": {
      "application/vnd.jupyter.widget-view+json": {
       "model_id": "0a8543b12f7e453caa2ad3b039f802bb",
       "version_major": 2,
       "version_minor": 0
      },
      "text/plain": [
       "Predicting: |          | 0/? [00:00<?, ?it/s]"
      ]
     },
     "metadata": {},
     "output_type": "display_data"
    },
    {
     "name": "stderr",
     "output_type": "stream",
     "text": [
      "LOCAL_RANK: 0 - CUDA_VISIBLE_DEVICES: [0]\n"
     ]
    },
    {
     "name": "stdout",
     "output_type": "stream",
     "text": [
      "/teamspace/studios/this_studio/data/mirror-mouse/videos-for-each-labeled-frame/180613_000/img036861.mp4 saved as\n",
      "/teamspace/studios/this_studio/outputs/mirror-mouse/hand=100_pseudo=1000/networks/rng2/video_preds_labeled/180613_000/img036861.csv\n",
      "Warning: the argument `seed` shadows a Pipeline constructor argument of the same name.\n"
     ]
    },
    {
     "data": {
      "application/vnd.jupyter.widget-view+json": {
       "model_id": "cf29ef3d73d747af89ab7ef3077d7ca3",
       "version_major": 2,
       "version_minor": 0
      },
      "text/plain": [
       "Predicting: |          | 0/? [00:00<?, ?it/s]"
      ]
     },
     "metadata": {},
     "output_type": "display_data"
    },
    {
     "name": "stderr",
     "output_type": "stream",
     "text": [
      "LOCAL_RANK: 0 - CUDA_VISIBLE_DEVICES: [0]\n"
     ]
    },
    {
     "name": "stdout",
     "output_type": "stream",
     "text": [
      "/teamspace/studios/this_studio/data/mirror-mouse/videos-for-each-labeled-frame/180613_000/img036918.mp4 saved as\n",
      "/teamspace/studios/this_studio/outputs/mirror-mouse/hand=100_pseudo=1000/networks/rng2/video_preds_labeled/180613_000/img036918.csv\n",
      "Warning: the argument `seed` shadows a Pipeline constructor argument of the same name.\n"
     ]
    },
    {
     "data": {
      "application/vnd.jupyter.widget-view+json": {
       "model_id": "fdd059b73b7d40818b4fa1bb95e99ab1",
       "version_major": 2,
       "version_minor": 0
      },
      "text/plain": [
       "Predicting: |          | 0/? [00:00<?, ?it/s]"
      ]
     },
     "metadata": {},
     "output_type": "display_data"
    },
    {
     "name": "stderr",
     "output_type": "stream",
     "text": [
      "LOCAL_RANK: 0 - CUDA_VISIBLE_DEVICES: [0]\n"
     ]
    },
    {
     "name": "stdout",
     "output_type": "stream",
     "text": [
      "/teamspace/studios/this_studio/data/mirror-mouse/videos-for-each-labeled-frame/180613_000/img037075.mp4 saved as\n",
      "/teamspace/studios/this_studio/outputs/mirror-mouse/hand=100_pseudo=1000/networks/rng2/video_preds_labeled/180613_000/img037075.csv\n",
      "Warning: the argument `seed` shadows a Pipeline constructor argument of the same name.\n"
     ]
    },
    {
     "data": {
      "application/vnd.jupyter.widget-view+json": {
       "model_id": "8f70bd19e68343c78f2c7c5ba8c6830a",
       "version_major": 2,
       "version_minor": 0
      },
      "text/plain": [
       "Predicting: |          | 0/? [00:00<?, ?it/s]"
      ]
     },
     "metadata": {},
     "output_type": "display_data"
    },
    {
     "name": "stderr",
     "output_type": "stream",
     "text": [
      "LOCAL_RANK: 0 - CUDA_VISIBLE_DEVICES: [0]\n"
     ]
    },
    {
     "name": "stdout",
     "output_type": "stream",
     "text": [
      "/teamspace/studios/this_studio/data/mirror-mouse/videos-for-each-labeled-frame/180613_000/img037070.mp4 saved as\n",
      "/teamspace/studios/this_studio/outputs/mirror-mouse/hand=100_pseudo=1000/networks/rng2/video_preds_labeled/180613_000/img037070.csv\n",
      "Warning: the argument `seed` shadows a Pipeline constructor argument of the same name.\n"
     ]
    },
    {
     "data": {
      "application/vnd.jupyter.widget-view+json": {
       "model_id": "c52fed524f1e4a118b3b1ae218f724cd",
       "version_major": 2,
       "version_minor": 0
      },
      "text/plain": [
       "Predicting: |          | 0/? [00:00<?, ?it/s]"
      ]
     },
     "metadata": {},
     "output_type": "display_data"
    },
    {
     "name": "stderr",
     "output_type": "stream",
     "text": []
    },
    {
     "name": "stdout",
     "output_type": "stream",
     "text": [
      "/teamspace/studios/this_studio/data/mirror-mouse/videos-for-each-labeled-frame/180613_000/img037341.mp4 saved as\n",
      "/teamspace/studios/this_studio/outputs/mirror-mouse/hand=100_pseudo=1000/networks/rng2/video_preds_labeled/180613_000/img037341.csv\n",
      "Warning: the argument `seed` shadows a Pipeline constructor argument of the same name.\n"
     ]
    },
    {
     "name": "stderr",
     "output_type": "stream",
     "text": [
      "LOCAL_RANK: 0 - CUDA_VISIBLE_DEVICES: [0]\n"
     ]
    },
    {
     "data": {
      "application/vnd.jupyter.widget-view+json": {
       "model_id": "dd94b3a3f31c4f3dafcec68e14db6c97",
       "version_major": 2,
       "version_minor": 0
      },
      "text/plain": [
       "Predicting: |          | 0/? [00:00<?, ?it/s]"
      ]
     },
     "metadata": {},
     "output_type": "display_data"
    },
    {
     "name": "stderr",
     "output_type": "stream",
     "text": [
      "LOCAL_RANK: 0 - CUDA_VISIBLE_DEVICES: [0]\n"
     ]
    },
    {
     "name": "stdout",
     "output_type": "stream",
     "text": [
      "/teamspace/studios/this_studio/data/mirror-mouse/videos-for-each-labeled-frame/180613_000/img037719.mp4 saved as\n",
      "/teamspace/studios/this_studio/outputs/mirror-mouse/hand=100_pseudo=1000/networks/rng2/video_preds_labeled/180613_000/img037719.csv\n",
      "Warning: the argument `seed` shadows a Pipeline constructor argument of the same name.\n"
     ]
    },
    {
     "data": {
      "application/vnd.jupyter.widget-view+json": {
       "model_id": "b43acbb94b9a4c1e8d3fa75a5a043c74",
       "version_major": 2,
       "version_minor": 0
      },
      "text/plain": [
       "Predicting: |          | 0/? [00:00<?, ?it/s]"
      ]
     },
     "metadata": {},
     "output_type": "display_data"
    },
    {
     "name": "stderr",
     "output_type": "stream",
     "text": [
      "LOCAL_RANK: 0 - CUDA_VISIBLE_DEVICES: [0]\n"
     ]
    },
    {
     "name": "stdout",
     "output_type": "stream",
     "text": [
      "/teamspace/studios/this_studio/data/mirror-mouse/videos-for-each-labeled-frame/180613_000/img038325.mp4 saved as\n",
      "/teamspace/studios/this_studio/outputs/mirror-mouse/hand=100_pseudo=1000/networks/rng2/video_preds_labeled/180613_000/img038325.csv\n",
      "Warning: the argument `seed` shadows a Pipeline constructor argument of the same name.\n"
     ]
    },
    {
     "data": {
      "application/vnd.jupyter.widget-view+json": {
       "model_id": "2dfae3bd9f7543b99000b6a1b994d17d",
       "version_major": 2,
       "version_minor": 0
      },
      "text/plain": [
       "Predicting: |          | 0/? [00:00<?, ?it/s]"
      ]
     },
     "metadata": {},
     "output_type": "display_data"
    },
    {
     "name": "stderr",
     "output_type": "stream",
     "text": [
      "LOCAL_RANK: 0 - CUDA_VISIBLE_DEVICES: [0]\n"
     ]
    },
    {
     "name": "stdout",
     "output_type": "stream",
     "text": [
      "/teamspace/studios/this_studio/data/mirror-mouse/videos-for-each-labeled-frame/180613_000/img038944.mp4 saved as\n",
      "/teamspace/studios/this_studio/outputs/mirror-mouse/hand=100_pseudo=1000/networks/rng2/video_preds_labeled/180613_000/img038944.csv\n",
      "Warning: the argument `seed` shadows a Pipeline constructor argument of the same name.\n"
     ]
    },
    {
     "data": {
      "application/vnd.jupyter.widget-view+json": {
       "model_id": "d703051abe3b4baf92fbe6c9f3c9bee9",
       "version_major": 2,
       "version_minor": 0
      },
      "text/plain": [
       "Predicting: |          | 0/? [00:00<?, ?it/s]"
      ]
     },
     "metadata": {},
     "output_type": "display_data"
    },
    {
     "name": "stderr",
     "output_type": "stream",
     "text": [
      "LOCAL_RANK: 0 - CUDA_VISIBLE_DEVICES: [0]\n"
     ]
    },
    {
     "name": "stdout",
     "output_type": "stream",
     "text": [
      "/teamspace/studios/this_studio/data/mirror-mouse/videos-for-each-labeled-frame/180613_000/img038959.mp4 saved as\n",
      "/teamspace/studios/this_studio/outputs/mirror-mouse/hand=100_pseudo=1000/networks/rng2/video_preds_labeled/180613_000/img038959.csv\n",
      "Warning: the argument `seed` shadows a Pipeline constructor argument of the same name.\n"
     ]
    },
    {
     "data": {
      "application/vnd.jupyter.widget-view+json": {
       "model_id": "ab5d01c621304c82b189dbd4ffb0507a",
       "version_major": 2,
       "version_minor": 0
      },
      "text/plain": [
       "Predicting: |          | 0/? [00:00<?, ?it/s]"
      ]
     },
     "metadata": {},
     "output_type": "display_data"
    },
    {
     "name": "stderr",
     "output_type": "stream",
     "text": [
      "LOCAL_RANK: 0 - CUDA_VISIBLE_DEVICES: [0]\n"
     ]
    },
    {
     "name": "stdout",
     "output_type": "stream",
     "text": [
      "/teamspace/studios/this_studio/data/mirror-mouse/videos-for-each-labeled-frame/180613_000/img038989.mp4 saved as\n",
      "/teamspace/studios/this_studio/outputs/mirror-mouse/hand=100_pseudo=1000/networks/rng2/video_preds_labeled/180613_000/img038989.csv\n",
      "Warning: the argument `seed` shadows a Pipeline constructor argument of the same name.\n"
     ]
    },
    {
     "data": {
      "application/vnd.jupyter.widget-view+json": {
       "model_id": "6deabf62f030446dafcffdb830790e73",
       "version_major": 2,
       "version_minor": 0
      },
      "text/plain": [
       "Predicting: |          | 0/? [00:00<?, ?it/s]"
      ]
     },
     "metadata": {},
     "output_type": "display_data"
    },
    {
     "name": "stderr",
     "output_type": "stream",
     "text": [
      "LOCAL_RANK: 0 - CUDA_VISIBLE_DEVICES: [0]\n"
     ]
    },
    {
     "name": "stdout",
     "output_type": "stream",
     "text": [
      "/teamspace/studios/this_studio/data/mirror-mouse/videos-for-each-labeled-frame/180613_000/img039146.mp4 saved as\n",
      "/teamspace/studios/this_studio/outputs/mirror-mouse/hand=100_pseudo=1000/networks/rng2/video_preds_labeled/180613_000/img039146.csv\n",
      "Warning: the argument `seed` shadows a Pipeline constructor argument of the same name.\n"
     ]
    },
    {
     "data": {
      "application/vnd.jupyter.widget-view+json": {
       "model_id": "9c50f788c20548adb2d671c81d69c6ee",
       "version_major": 2,
       "version_minor": 0
      },
      "text/plain": [
       "Predicting: |          | 0/? [00:00<?, ?it/s]"
      ]
     },
     "metadata": {},
     "output_type": "display_data"
    },
    {
     "name": "stderr",
     "output_type": "stream",
     "text": []
    },
    {
     "name": "stdout",
     "output_type": "stream",
     "text": [
      "/teamspace/studios/this_studio/data/mirror-mouse/videos-for-each-labeled-frame/180613_000/img039473.mp4 saved as\n",
      "/teamspace/studios/this_studio/outputs/mirror-mouse/hand=100_pseudo=1000/networks/rng2/video_preds_labeled/180613_000/img039473.csv\n",
      "Warning: the argument `seed` shadows a Pipeline constructor argument of the same name.\n"
     ]
    },
    {
     "name": "stderr",
     "output_type": "stream",
     "text": [
      "LOCAL_RANK: 0 - CUDA_VISIBLE_DEVICES: [0]\n"
     ]
    },
    {
     "data": {
      "application/vnd.jupyter.widget-view+json": {
       "model_id": "5e0b2fdab1e147df91115244b1aa944c",
       "version_major": 2,
       "version_minor": 0
      },
      "text/plain": [
       "Predicting: |          | 0/? [00:00<?, ?it/s]"
      ]
     },
     "metadata": {},
     "output_type": "display_data"
    },
    {
     "name": "stderr",
     "output_type": "stream",
     "text": [
      "LOCAL_RANK: 0 - CUDA_VISIBLE_DEVICES: [0]\n"
     ]
    },
    {
     "name": "stdout",
     "output_type": "stream",
     "text": [
      "/teamspace/studios/this_studio/data/mirror-mouse/videos-for-each-labeled-frame/180613_000/img041737.mp4 saved as\n",
      "/teamspace/studios/this_studio/outputs/mirror-mouse/hand=100_pseudo=1000/networks/rng2/video_preds_labeled/180613_000/img041737.csv\n",
      "Warning: the argument `seed` shadows a Pipeline constructor argument of the same name.\n"
     ]
    },
    {
     "data": {
      "application/vnd.jupyter.widget-view+json": {
       "model_id": "d5a8b77db8a54c56a87e45ca58285f78",
       "version_major": 2,
       "version_minor": 0
      },
      "text/plain": [
       "Predicting: |          | 0/? [00:00<?, ?it/s]"
      ]
     },
     "metadata": {},
     "output_type": "display_data"
    },
    {
     "name": "stderr",
     "output_type": "stream",
     "text": [
      "LOCAL_RANK: 0 - CUDA_VISIBLE_DEVICES: [0]\n"
     ]
    },
    {
     "name": "stdout",
     "output_type": "stream",
     "text": [
      "/teamspace/studios/this_studio/data/mirror-mouse/videos-for-each-labeled-frame/180613_000/img042181.mp4 saved as\n",
      "/teamspace/studios/this_studio/outputs/mirror-mouse/hand=100_pseudo=1000/networks/rng2/video_preds_labeled/180613_000/img042181.csv\n",
      "Warning: the argument `seed` shadows a Pipeline constructor argument of the same name.\n"
     ]
    },
    {
     "data": {
      "application/vnd.jupyter.widget-view+json": {
       "model_id": "7d47b7d966154e909026eb2e8ccb2b70",
       "version_major": 2,
       "version_minor": 0
      },
      "text/plain": [
       "Predicting: |          | 0/? [00:00<?, ?it/s]"
      ]
     },
     "metadata": {},
     "output_type": "display_data"
    },
    {
     "name": "stderr",
     "output_type": "stream",
     "text": [
      "LOCAL_RANK: 0 - CUDA_VISIBLE_DEVICES: [0]\n"
     ]
    },
    {
     "name": "stdout",
     "output_type": "stream",
     "text": [
      "/teamspace/studios/this_studio/data/mirror-mouse/videos-for-each-labeled-frame/180613_000/img042292.mp4 saved as\n",
      "/teamspace/studios/this_studio/outputs/mirror-mouse/hand=100_pseudo=1000/networks/rng2/video_preds_labeled/180613_000/img042292.csv\n",
      "Warning: the argument `seed` shadows a Pipeline constructor argument of the same name.\n"
     ]
    },
    {
     "data": {
      "application/vnd.jupyter.widget-view+json": {
       "model_id": "553ebc005e0c4a52aa9c3e0a1427cc87",
       "version_major": 2,
       "version_minor": 0
      },
      "text/plain": [
       "Predicting: |          | 0/? [00:00<?, ?it/s]"
      ]
     },
     "metadata": {},
     "output_type": "display_data"
    },
    {
     "name": "stderr",
     "output_type": "stream",
     "text": [
      "LOCAL_RANK: 0 - CUDA_VISIBLE_DEVICES: [0]\n"
     ]
    },
    {
     "name": "stdout",
     "output_type": "stream",
     "text": [
      "/teamspace/studios/this_studio/data/mirror-mouse/videos-for-each-labeled-frame/180613_000/img042393.mp4 saved as\n",
      "/teamspace/studios/this_studio/outputs/mirror-mouse/hand=100_pseudo=1000/networks/rng2/video_preds_labeled/180613_000/img042393.csv\n",
      "Warning: the argument `seed` shadows a Pipeline constructor argument of the same name.\n"
     ]
    },
    {
     "data": {
      "application/vnd.jupyter.widget-view+json": {
       "model_id": "336d3864e3ac4b2bb2598c4137da65c9",
       "version_major": 2,
       "version_minor": 0
      },
      "text/plain": [
       "Predicting: |          | 0/? [00:00<?, ?it/s]"
      ]
     },
     "metadata": {},
     "output_type": "display_data"
    },
    {
     "name": "stderr",
     "output_type": "stream",
     "text": [
      "LOCAL_RANK: 0 - CUDA_VISIBLE_DEVICES: [0]\n"
     ]
    },
    {
     "name": "stdout",
     "output_type": "stream",
     "text": [
      "/teamspace/studios/this_studio/data/mirror-mouse/videos-for-each-labeled-frame/180613_000/img042487.mp4 saved as\n",
      "/teamspace/studios/this_studio/outputs/mirror-mouse/hand=100_pseudo=1000/networks/rng2/video_preds_labeled/180613_000/img042487.csv\n",
      "Warning: the argument `seed` shadows a Pipeline constructor argument of the same name.\n"
     ]
    },
    {
     "data": {
      "application/vnd.jupyter.widget-view+json": {
       "model_id": "bfc86f5d729044af87f007fca0a7180d",
       "version_major": 2,
       "version_minor": 0
      },
      "text/plain": [
       "Predicting: |          | 0/? [00:00<?, ?it/s]"
      ]
     },
     "metadata": {},
     "output_type": "display_data"
    },
    {
     "name": "stderr",
     "output_type": "stream",
     "text": [
      "LOCAL_RANK: 0 - CUDA_VISIBLE_DEVICES: [0]\n"
     ]
    },
    {
     "name": "stdout",
     "output_type": "stream",
     "text": [
      "/teamspace/studios/this_studio/data/mirror-mouse/videos-for-each-labeled-frame/180613_000/img042633.mp4 saved as\n",
      "/teamspace/studios/this_studio/outputs/mirror-mouse/hand=100_pseudo=1000/networks/rng2/video_preds_labeled/180613_000/img042633.csv\n",
      "Warning: the argument `seed` shadows a Pipeline constructor argument of the same name.\n"
     ]
    },
    {
     "data": {
      "application/vnd.jupyter.widget-view+json": {
       "model_id": "dd7808156183471488ec57744d9310a6",
       "version_major": 2,
       "version_minor": 0
      },
      "text/plain": [
       "Predicting: |          | 0/? [00:00<?, ?it/s]"
      ]
     },
     "metadata": {},
     "output_type": "display_data"
    },
    {
     "name": "stderr",
     "output_type": "stream",
     "text": [
      "LOCAL_RANK: 0 - CUDA_VISIBLE_DEVICES: [0]\n"
     ]
    },
    {
     "name": "stdout",
     "output_type": "stream",
     "text": [
      "/teamspace/studios/this_studio/data/mirror-mouse/videos-for-each-labeled-frame/180613_000/img042915.mp4 saved as\n",
      "/teamspace/studios/this_studio/outputs/mirror-mouse/hand=100_pseudo=1000/networks/rng2/video_preds_labeled/180613_000/img042915.csv\n",
      "Warning: the argument `seed` shadows a Pipeline constructor argument of the same name.\n"
     ]
    },
    {
     "data": {
      "application/vnd.jupyter.widget-view+json": {
       "model_id": "26875a30885743699d83e26b7fa82f8e",
       "version_major": 2,
       "version_minor": 0
      },
      "text/plain": [
       "Predicting: |          | 0/? [00:00<?, ?it/s]"
      ]
     },
     "metadata": {},
     "output_type": "display_data"
    },
    {
     "name": "stderr",
     "output_type": "stream",
     "text": [
      "LOCAL_RANK: 0 - CUDA_VISIBLE_DEVICES: [0]\n"
     ]
    },
    {
     "name": "stdout",
     "output_type": "stream",
     "text": [
      "/teamspace/studios/this_studio/data/mirror-mouse/videos-for-each-labeled-frame/180613_000/img042985.mp4 saved as\n",
      "/teamspace/studios/this_studio/outputs/mirror-mouse/hand=100_pseudo=1000/networks/rng2/video_preds_labeled/180613_000/img042985.csv\n",
      "Warning: the argument `seed` shadows a Pipeline constructor argument of the same name.\n"
     ]
    },
    {
     "data": {
      "application/vnd.jupyter.widget-view+json": {
       "model_id": "89d7b7e565cc44678d8d3e734e302274",
       "version_major": 2,
       "version_minor": 0
      },
      "text/plain": [
       "Predicting: |          | 0/? [00:00<?, ?it/s]"
      ]
     },
     "metadata": {},
     "output_type": "display_data"
    },
    {
     "name": "stderr",
     "output_type": "stream",
     "text": [
      "LOCAL_RANK: 0 - CUDA_VISIBLE_DEVICES: [0]\n"
     ]
    },
    {
     "name": "stdout",
     "output_type": "stream",
     "text": [
      "/teamspace/studios/this_studio/data/mirror-mouse/videos-for-each-labeled-frame/180613_000/img043415.mp4 saved as\n",
      "/teamspace/studios/this_studio/outputs/mirror-mouse/hand=100_pseudo=1000/networks/rng2/video_preds_labeled/180613_000/img043415.csv\n",
      "Warning: the argument `seed` shadows a Pipeline constructor argument of the same name.\n"
     ]
    },
    {
     "data": {
      "application/vnd.jupyter.widget-view+json": {
       "model_id": "688f1ba1f63b4293b65cdc7ac2942fdd",
       "version_major": 2,
       "version_minor": 0
      },
      "text/plain": [
       "Predicting: |          | 0/? [00:00<?, ?it/s]"
      ]
     },
     "metadata": {},
     "output_type": "display_data"
    },
    {
     "name": "stderr",
     "output_type": "stream",
     "text": [
      "LOCAL_RANK: 0 - CUDA_VISIBLE_DEVICES: [0]\n"
     ]
    },
    {
     "name": "stdout",
     "output_type": "stream",
     "text": [
      "/teamspace/studios/this_studio/data/mirror-mouse/videos-for-each-labeled-frame/180613_000/img044005.mp4 saved as\n",
      "/teamspace/studios/this_studio/outputs/mirror-mouse/hand=100_pseudo=1000/networks/rng2/video_preds_labeled/180613_000/img044005.csv\n",
      "Warning: the argument `seed` shadows a Pipeline constructor argument of the same name.\n"
     ]
    },
    {
     "data": {
      "application/vnd.jupyter.widget-view+json": {
       "model_id": "22cfbba734234c508e2fd5100d2e1acf",
       "version_major": 2,
       "version_minor": 0
      },
      "text/plain": [
       "Predicting: |          | 0/? [00:00<?, ?it/s]"
      ]
     },
     "metadata": {},
     "output_type": "display_data"
    },
    {
     "name": "stderr",
     "output_type": "stream",
     "text": [
      "LOCAL_RANK: 0 - CUDA_VISIBLE_DEVICES: [0]\n"
     ]
    },
    {
     "name": "stdout",
     "output_type": "stream",
     "text": [
      "/teamspace/studios/this_studio/data/mirror-mouse/videos-for-each-labeled-frame/180613_000/img044000.mp4 saved as\n",
      "/teamspace/studios/this_studio/outputs/mirror-mouse/hand=100_pseudo=1000/networks/rng2/video_preds_labeled/180613_000/img044000.csv\n",
      "Warning: the argument `seed` shadows a Pipeline constructor argument of the same name.\n"
     ]
    },
    {
     "data": {
      "application/vnd.jupyter.widget-view+json": {
       "model_id": "cb7ffcdc72e34037b4079aba4de3ab1d",
       "version_major": 2,
       "version_minor": 0
      },
      "text/plain": [
       "Predicting: |          | 0/? [00:00<?, ?it/s]"
      ]
     },
     "metadata": {},
     "output_type": "display_data"
    },
    {
     "name": "stderr",
     "output_type": "stream",
     "text": [
      "LOCAL_RANK: 0 - CUDA_VISIBLE_DEVICES: [0]\n"
     ]
    },
    {
     "name": "stdout",
     "output_type": "stream",
     "text": [
      "/teamspace/studios/this_studio/data/mirror-mouse/videos-for-each-labeled-frame/180613_000/img044095.mp4 saved as\n",
      "/teamspace/studios/this_studio/outputs/mirror-mouse/hand=100_pseudo=1000/networks/rng2/video_preds_labeled/180613_000/img044095.csv\n",
      "Warning: the argument `seed` shadows a Pipeline constructor argument of the same name.\n"
     ]
    },
    {
     "data": {
      "application/vnd.jupyter.widget-view+json": {
       "model_id": "ddbb2d1c0c3e451fac32ff98785f7040",
       "version_major": 2,
       "version_minor": 0
      },
      "text/plain": [
       "Predicting: |          | 0/? [00:00<?, ?it/s]"
      ]
     },
     "metadata": {},
     "output_type": "display_data"
    },
    {
     "name": "stderr",
     "output_type": "stream",
     "text": [
      "LOCAL_RANK: 0 - CUDA_VISIBLE_DEVICES: [0]\n"
     ]
    },
    {
     "name": "stdout",
     "output_type": "stream",
     "text": [
      "/teamspace/studios/this_studio/data/mirror-mouse/videos-for-each-labeled-frame/180613_000/img044091.mp4 saved as\n",
      "/teamspace/studios/this_studio/outputs/mirror-mouse/hand=100_pseudo=1000/networks/rng2/video_preds_labeled/180613_000/img044091.csv\n",
      "Warning: the argument `seed` shadows a Pipeline constructor argument of the same name.\n"
     ]
    },
    {
     "data": {
      "application/vnd.jupyter.widget-view+json": {
       "model_id": "f6a868a1d9e14e43b07666b389c73181",
       "version_major": 2,
       "version_minor": 0
      },
      "text/plain": [
       "Predicting: |          | 0/? [00:00<?, ?it/s]"
      ]
     },
     "metadata": {},
     "output_type": "display_data"
    },
    {
     "name": "stderr",
     "output_type": "stream",
     "text": [
      "LOCAL_RANK: 0 - CUDA_VISIBLE_DEVICES: [0]\n"
     ]
    },
    {
     "name": "stdout",
     "output_type": "stream",
     "text": [
      "/teamspace/studios/this_studio/data/mirror-mouse/videos-for-each-labeled-frame/180613_000/img044306.mp4 saved as\n",
      "/teamspace/studios/this_studio/outputs/mirror-mouse/hand=100_pseudo=1000/networks/rng2/video_preds_labeled/180613_000/img044306.csv\n",
      "Warning: the argument `seed` shadows a Pipeline constructor argument of the same name.\n"
     ]
    },
    {
     "data": {
      "application/vnd.jupyter.widget-view+json": {
       "model_id": "e5ef3e7de16c44da9eda54949d1601e9",
       "version_major": 2,
       "version_minor": 0
      },
      "text/plain": [
       "Predicting: |          | 0/? [00:00<?, ?it/s]"
      ]
     },
     "metadata": {},
     "output_type": "display_data"
    },
    {
     "name": "stderr",
     "output_type": "stream",
     "text": [
      "LOCAL_RANK: 0 - CUDA_VISIBLE_DEVICES: [0]\n"
     ]
    },
    {
     "name": "stdout",
     "output_type": "stream",
     "text": [
      "/teamspace/studios/this_studio/data/mirror-mouse/videos-for-each-labeled-frame/180613_000/img044460.mp4 saved as\n",
      "/teamspace/studios/this_studio/outputs/mirror-mouse/hand=100_pseudo=1000/networks/rng2/video_preds_labeled/180613_000/img044460.csv\n",
      "Warning: the argument `seed` shadows a Pipeline constructor argument of the same name.\n"
     ]
    },
    {
     "data": {
      "application/vnd.jupyter.widget-view+json": {
       "model_id": "f0b0c1004fa14b0bbf857a30fc095c04",
       "version_major": 2,
       "version_minor": 0
      },
      "text/plain": [
       "Predicting: |          | 0/? [00:00<?, ?it/s]"
      ]
     },
     "metadata": {},
     "output_type": "display_data"
    },
    {
     "name": "stderr",
     "output_type": "stream",
     "text": [
      "LOCAL_RANK: 0 - CUDA_VISIBLE_DEVICES: [0]\n"
     ]
    },
    {
     "name": "stdout",
     "output_type": "stream",
     "text": [
      "/teamspace/studios/this_studio/data/mirror-mouse/videos-for-each-labeled-frame/180613_000/img044490.mp4 saved as\n",
      "/teamspace/studios/this_studio/outputs/mirror-mouse/hand=100_pseudo=1000/networks/rng2/video_preds_labeled/180613_000/img044490.csv\n",
      "Warning: the argument `seed` shadows a Pipeline constructor argument of the same name.\n"
     ]
    },
    {
     "data": {
      "application/vnd.jupyter.widget-view+json": {
       "model_id": "28947a4da0294223a63e36e1a3de1bc9",
       "version_major": 2,
       "version_minor": 0
      },
      "text/plain": [
       "Predicting: |          | 0/? [00:00<?, ?it/s]"
      ]
     },
     "metadata": {},
     "output_type": "display_data"
    },
    {
     "name": "stderr",
     "output_type": "stream",
     "text": [
      "LOCAL_RANK: 0 - CUDA_VISIBLE_DEVICES: [0]\n"
     ]
    },
    {
     "name": "stdout",
     "output_type": "stream",
     "text": [
      "/teamspace/studios/this_studio/data/mirror-mouse/videos-for-each-labeled-frame/180613_000/img044549.mp4 saved as\n",
      "/teamspace/studios/this_studio/outputs/mirror-mouse/hand=100_pseudo=1000/networks/rng2/video_preds_labeled/180613_000/img044549.csv\n",
      "Warning: the argument `seed` shadows a Pipeline constructor argument of the same name.\n"
     ]
    },
    {
     "data": {
      "application/vnd.jupyter.widget-view+json": {
       "model_id": "0b84bee35602477685cb7c79c9e7436c",
       "version_major": 2,
       "version_minor": 0
      },
      "text/plain": [
       "Predicting: |          | 0/? [00:00<?, ?it/s]"
      ]
     },
     "metadata": {},
     "output_type": "display_data"
    },
    {
     "name": "stderr",
     "output_type": "stream",
     "text": []
    },
    {
     "name": "stdout",
     "output_type": "stream",
     "text": [
      "/teamspace/studios/this_studio/data/mirror-mouse/videos-for-each-labeled-frame/180613_000/img044566.mp4 saved as\n",
      "/teamspace/studios/this_studio/outputs/mirror-mouse/hand=100_pseudo=1000/networks/rng2/video_preds_labeled/180613_000/img044566.csv\n",
      "Warning: the argument `seed` shadows a Pipeline constructor argument of the same name.\n"
     ]
    },
    {
     "name": "stderr",
     "output_type": "stream",
     "text": [
      "LOCAL_RANK: 0 - CUDA_VISIBLE_DEVICES: [0]\n"
     ]
    },
    {
     "data": {
      "application/vnd.jupyter.widget-view+json": {
       "model_id": "962fd46b050e4527b21060fb81114abd",
       "version_major": 2,
       "version_minor": 0
      },
      "text/plain": [
       "Predicting: |          | 0/? [00:00<?, ?it/s]"
      ]
     },
     "metadata": {},
     "output_type": "display_data"
    },
    {
     "name": "stderr",
     "output_type": "stream",
     "text": [
      "LOCAL_RANK: 0 - CUDA_VISIBLE_DEVICES: [0]\n"
     ]
    },
    {
     "name": "stdout",
     "output_type": "stream",
     "text": [
      "/teamspace/studios/this_studio/data/mirror-mouse/videos-for-each-labeled-frame/180613_000/img044635.mp4 saved as\n",
      "/teamspace/studios/this_studio/outputs/mirror-mouse/hand=100_pseudo=1000/networks/rng2/video_preds_labeled/180613_000/img044635.csv\n",
      "Warning: the argument `seed` shadows a Pipeline constructor argument of the same name.\n"
     ]
    },
    {
     "data": {
      "application/vnd.jupyter.widget-view+json": {
       "model_id": "38620560b1f34fcea0aec919cf7912b0",
       "version_major": 2,
       "version_minor": 0
      },
      "text/plain": [
       "Predicting: |          | 0/? [00:00<?, ?it/s]"
      ]
     },
     "metadata": {},
     "output_type": "display_data"
    },
    {
     "name": "stderr",
     "output_type": "stream",
     "text": [
      "LOCAL_RANK: 0 - CUDA_VISIBLE_DEVICES: [0]\n"
     ]
    },
    {
     "name": "stdout",
     "output_type": "stream",
     "text": [
      "/teamspace/studios/this_studio/data/mirror-mouse/videos-for-each-labeled-frame/180613_000/img044661.mp4 saved as\n",
      "/teamspace/studios/this_studio/outputs/mirror-mouse/hand=100_pseudo=1000/networks/rng2/video_preds_labeled/180613_000/img044661.csv\n",
      "Warning: the argument `seed` shadows a Pipeline constructor argument of the same name.\n"
     ]
    },
    {
     "data": {
      "application/vnd.jupyter.widget-view+json": {
       "model_id": "27e4f23c15c648efb6c1388c9a2b12ed",
       "version_major": 2,
       "version_minor": 0
      },
      "text/plain": [
       "Predicting: |          | 0/? [00:00<?, ?it/s]"
      ]
     },
     "metadata": {},
     "output_type": "display_data"
    },
    {
     "name": "stderr",
     "output_type": "stream",
     "text": [
      "LOCAL_RANK: 0 - CUDA_VISIBLE_DEVICES: [0]\n"
     ]
    },
    {
     "name": "stdout",
     "output_type": "stream",
     "text": [
      "/teamspace/studios/this_studio/data/mirror-mouse/videos-for-each-labeled-frame/180613_000/img045213.mp4 saved as\n",
      "/teamspace/studios/this_studio/outputs/mirror-mouse/hand=100_pseudo=1000/networks/rng2/video_preds_labeled/180613_000/img045213.csv\n",
      "Warning: the argument `seed` shadows a Pipeline constructor argument of the same name.\n"
     ]
    },
    {
     "data": {
      "application/vnd.jupyter.widget-view+json": {
       "model_id": "518cbe1000314beb83c2efdc16ccca85",
       "version_major": 2,
       "version_minor": 0
      },
      "text/plain": [
       "Predicting: |          | 0/? [00:00<?, ?it/s]"
      ]
     },
     "metadata": {},
     "output_type": "display_data"
    },
    {
     "name": "stderr",
     "output_type": "stream",
     "text": [
      "LOCAL_RANK: 0 - CUDA_VISIBLE_DEVICES: [0]\n"
     ]
    },
    {
     "name": "stdout",
     "output_type": "stream",
     "text": [
      "/teamspace/studios/this_studio/data/mirror-mouse/videos-for-each-labeled-frame/180613_000/img045297.mp4 saved as\n",
      "/teamspace/studios/this_studio/outputs/mirror-mouse/hand=100_pseudo=1000/networks/rng2/video_preds_labeled/180613_000/img045297.csv\n",
      "Warning: the argument `seed` shadows a Pipeline constructor argument of the same name.\n"
     ]
    },
    {
     "data": {
      "application/vnd.jupyter.widget-view+json": {
       "model_id": "db5a71d8e092434a9168cd32bd6e3414",
       "version_major": 2,
       "version_minor": 0
      },
      "text/plain": [
       "Predicting: |          | 0/? [00:00<?, ?it/s]"
      ]
     },
     "metadata": {},
     "output_type": "display_data"
    },
    {
     "name": "stderr",
     "output_type": "stream",
     "text": [
      "LOCAL_RANK: 0 - CUDA_VISIBLE_DEVICES: [0]\n"
     ]
    },
    {
     "name": "stdout",
     "output_type": "stream",
     "text": [
      "/teamspace/studios/this_studio/data/mirror-mouse/videos-for-each-labeled-frame/180613_000/img045514.mp4 saved as\n",
      "/teamspace/studios/this_studio/outputs/mirror-mouse/hand=100_pseudo=1000/networks/rng2/video_preds_labeled/180613_000/img045514.csv\n",
      "Warning: the argument `seed` shadows a Pipeline constructor argument of the same name.\n"
     ]
    },
    {
     "data": {
      "application/vnd.jupyter.widget-view+json": {
       "model_id": "1a209511d0634c91b899037901193007",
       "version_major": 2,
       "version_minor": 0
      },
      "text/plain": [
       "Predicting: |          | 0/? [00:00<?, ?it/s]"
      ]
     },
     "metadata": {},
     "output_type": "display_data"
    },
    {
     "name": "stderr",
     "output_type": "stream",
     "text": [
      "LOCAL_RANK: 0 - CUDA_VISIBLE_DEVICES: [0]\n"
     ]
    },
    {
     "name": "stdout",
     "output_type": "stream",
     "text": [
      "/teamspace/studios/this_studio/data/mirror-mouse/videos-for-each-labeled-frame/180613_000/img045629.mp4 saved as\n",
      "/teamspace/studios/this_studio/outputs/mirror-mouse/hand=100_pseudo=1000/networks/rng2/video_preds_labeled/180613_000/img045629.csv\n",
      "Warning: the argument `seed` shadows a Pipeline constructor argument of the same name.\n"
     ]
    },
    {
     "data": {
      "application/vnd.jupyter.widget-view+json": {
       "model_id": "995dbf4056864acf892aabf5fa145c68",
       "version_major": 2,
       "version_minor": 0
      },
      "text/plain": [
       "Predicting: |          | 0/? [00:00<?, ?it/s]"
      ]
     },
     "metadata": {},
     "output_type": "display_data"
    },
    {
     "name": "stderr",
     "output_type": "stream",
     "text": [
      "LOCAL_RANK: 0 - CUDA_VISIBLE_DEVICES: [0]\n"
     ]
    },
    {
     "name": "stdout",
     "output_type": "stream",
     "text": [
      "/teamspace/studios/this_studio/data/mirror-mouse/videos-for-each-labeled-frame/180613_000/img045672.mp4 saved as\n",
      "/teamspace/studios/this_studio/outputs/mirror-mouse/hand=100_pseudo=1000/networks/rng2/video_preds_labeled/180613_000/img045672.csv\n",
      "Warning: the argument `seed` shadows a Pipeline constructor argument of the same name.\n"
     ]
    },
    {
     "data": {
      "application/vnd.jupyter.widget-view+json": {
       "model_id": "61774835ab6444b9a8928b69dfdb78e3",
       "version_major": 2,
       "version_minor": 0
      },
      "text/plain": [
       "Predicting: |          | 0/? [00:00<?, ?it/s]"
      ]
     },
     "metadata": {},
     "output_type": "display_data"
    },
    {
     "name": "stderr",
     "output_type": "stream",
     "text": [
      "LOCAL_RANK: 0 - CUDA_VISIBLE_DEVICES: [0]\n"
     ]
    },
    {
     "name": "stdout",
     "output_type": "stream",
     "text": [
      "/teamspace/studios/this_studio/data/mirror-mouse/videos-for-each-labeled-frame/180613_000/img045861.mp4 saved as\n",
      "/teamspace/studios/this_studio/outputs/mirror-mouse/hand=100_pseudo=1000/networks/rng2/video_preds_labeled/180613_000/img045861.csv\n",
      "Warning: the argument `seed` shadows a Pipeline constructor argument of the same name.\n"
     ]
    },
    {
     "data": {
      "application/vnd.jupyter.widget-view+json": {
       "model_id": "4ec54000f5184edfa84e6d6813035f32",
       "version_major": 2,
       "version_minor": 0
      },
      "text/plain": [
       "Predicting: |          | 0/? [00:00<?, ?it/s]"
      ]
     },
     "metadata": {},
     "output_type": "display_data"
    },
    {
     "name": "stderr",
     "output_type": "stream",
     "text": [
      "LOCAL_RANK: 0 - CUDA_VISIBLE_DEVICES: [0]\n"
     ]
    },
    {
     "name": "stdout",
     "output_type": "stream",
     "text": [
      "/teamspace/studios/this_studio/data/mirror-mouse/videos-for-each-labeled-frame/180613_000/img045859.mp4 saved as\n",
      "/teamspace/studios/this_studio/outputs/mirror-mouse/hand=100_pseudo=1000/networks/rng2/video_preds_labeled/180613_000/img045859.csv\n",
      "Warning: the argument `seed` shadows a Pipeline constructor argument of the same name.\n"
     ]
    },
    {
     "data": {
      "application/vnd.jupyter.widget-view+json": {
       "model_id": "938e860ca43e47b9906295231fbeb3e4",
       "version_major": 2,
       "version_minor": 0
      },
      "text/plain": [
       "Predicting: |          | 0/? [00:00<?, ?it/s]"
      ]
     },
     "metadata": {},
     "output_type": "display_data"
    },
    {
     "name": "stderr",
     "output_type": "stream",
     "text": [
      "LOCAL_RANK: 0 - CUDA_VISIBLE_DEVICES: [0]\n"
     ]
    },
    {
     "name": "stdout",
     "output_type": "stream",
     "text": [
      "/teamspace/studios/this_studio/data/mirror-mouse/videos-for-each-labeled-frame/180613_000/img045870.mp4 saved as\n",
      "/teamspace/studios/this_studio/outputs/mirror-mouse/hand=100_pseudo=1000/networks/rng2/video_preds_labeled/180613_000/img045870.csv\n",
      "Warning: the argument `seed` shadows a Pipeline constructor argument of the same name.\n"
     ]
    },
    {
     "data": {
      "application/vnd.jupyter.widget-view+json": {
       "model_id": "22dc92e3ce37493da12683d27bf39478",
       "version_major": 2,
       "version_minor": 0
      },
      "text/plain": [
       "Predicting: |          | 0/? [00:00<?, ?it/s]"
      ]
     },
     "metadata": {},
     "output_type": "display_data"
    },
    {
     "name": "stderr",
     "output_type": "stream",
     "text": [
      "LOCAL_RANK: 0 - CUDA_VISIBLE_DEVICES: [0]\n"
     ]
    },
    {
     "name": "stdout",
     "output_type": "stream",
     "text": [
      "/teamspace/studios/this_studio/data/mirror-mouse/videos-for-each-labeled-frame/180613_000/img046022.mp4 saved as\n",
      "/teamspace/studios/this_studio/outputs/mirror-mouse/hand=100_pseudo=1000/networks/rng2/video_preds_labeled/180613_000/img046022.csv\n",
      "Warning: the argument `seed` shadows a Pipeline constructor argument of the same name.\n"
     ]
    },
    {
     "data": {
      "application/vnd.jupyter.widget-view+json": {
       "model_id": "8bdfb5030985425c8d85d4fa9cc4be3c",
       "version_major": 2,
       "version_minor": 0
      },
      "text/plain": [
       "Predicting: |          | 0/? [00:00<?, ?it/s]"
      ]
     },
     "metadata": {},
     "output_type": "display_data"
    },
    {
     "name": "stderr",
     "output_type": "stream",
     "text": [
      "LOCAL_RANK: 0 - CUDA_VISIBLE_DEVICES: [0]\n"
     ]
    },
    {
     "name": "stdout",
     "output_type": "stream",
     "text": [
      "/teamspace/studios/this_studio/data/mirror-mouse/videos-for-each-labeled-frame/180613_000/img046389.mp4 saved as\n",
      "/teamspace/studios/this_studio/outputs/mirror-mouse/hand=100_pseudo=1000/networks/rng2/video_preds_labeled/180613_000/img046389.csv\n",
      "Warning: the argument `seed` shadows a Pipeline constructor argument of the same name.\n"
     ]
    },
    {
     "data": {
      "application/vnd.jupyter.widget-view+json": {
       "model_id": "f9ebe2ca573d474ab8715b8c6c1cb18f",
       "version_major": 2,
       "version_minor": 0
      },
      "text/plain": [
       "Predicting: |          | 0/? [00:00<?, ?it/s]"
      ]
     },
     "metadata": {},
     "output_type": "display_data"
    },
    {
     "name": "stderr",
     "output_type": "stream",
     "text": [
      "LOCAL_RANK: 0 - CUDA_VISIBLE_DEVICES: [0]\n"
     ]
    },
    {
     "name": "stdout",
     "output_type": "stream",
     "text": [
      "/teamspace/studios/this_studio/data/mirror-mouse/videos-for-each-labeled-frame/180613_000/img046521.mp4 saved as\n",
      "/teamspace/studios/this_studio/outputs/mirror-mouse/hand=100_pseudo=1000/networks/rng2/video_preds_labeled/180613_000/img046521.csv\n",
      "Warning: the argument `seed` shadows a Pipeline constructor argument of the same name.\n"
     ]
    },
    {
     "data": {
      "application/vnd.jupyter.widget-view+json": {
       "model_id": "fa256a7d1cc743419dab5e749921d918",
       "version_major": 2,
       "version_minor": 0
      },
      "text/plain": [
       "Predicting: |          | 0/? [00:00<?, ?it/s]"
      ]
     },
     "metadata": {},
     "output_type": "display_data"
    },
    {
     "name": "stderr",
     "output_type": "stream",
     "text": [
      "LOCAL_RANK: 0 - CUDA_VISIBLE_DEVICES: [0]\n"
     ]
    },
    {
     "name": "stdout",
     "output_type": "stream",
     "text": [
      "/teamspace/studios/this_studio/data/mirror-mouse/videos-for-each-labeled-frame/180613_000/img046542.mp4 saved as\n",
      "/teamspace/studios/this_studio/outputs/mirror-mouse/hand=100_pseudo=1000/networks/rng2/video_preds_labeled/180613_000/img046542.csv\n",
      "Warning: the argument `seed` shadows a Pipeline constructor argument of the same name.\n"
     ]
    },
    {
     "data": {
      "application/vnd.jupyter.widget-view+json": {
       "model_id": "17364e7c7918480786566512e818cb85",
       "version_major": 2,
       "version_minor": 0
      },
      "text/plain": [
       "Predicting: |          | 0/? [00:00<?, ?it/s]"
      ]
     },
     "metadata": {},
     "output_type": "display_data"
    },
    {
     "name": "stderr",
     "output_type": "stream",
     "text": [
      "LOCAL_RANK: 0 - CUDA_VISIBLE_DEVICES: [0]\n"
     ]
    },
    {
     "name": "stdout",
     "output_type": "stream",
     "text": [
      "/teamspace/studios/this_studio/data/mirror-mouse/videos-for-each-labeled-frame/180613_000/img046553.mp4 saved as\n",
      "/teamspace/studios/this_studio/outputs/mirror-mouse/hand=100_pseudo=1000/networks/rng2/video_preds_labeled/180613_000/img046553.csv\n",
      "Warning: the argument `seed` shadows a Pipeline constructor argument of the same name.\n"
     ]
    },
    {
     "data": {
      "application/vnd.jupyter.widget-view+json": {
       "model_id": "6c28eeffce894f41a8c0b903c0702ebc",
       "version_major": 2,
       "version_minor": 0
      },
      "text/plain": [
       "Predicting: |          | 0/? [00:00<?, ?it/s]"
      ]
     },
     "metadata": {},
     "output_type": "display_data"
    },
    {
     "name": "stderr",
     "output_type": "stream",
     "text": [
      "LOCAL_RANK: 0 - CUDA_VISIBLE_DEVICES: [0]\n"
     ]
    },
    {
     "name": "stdout",
     "output_type": "stream",
     "text": [
      "/teamspace/studios/this_studio/data/mirror-mouse/videos-for-each-labeled-frame/180613_000/img046597.mp4 saved as\n",
      "/teamspace/studios/this_studio/outputs/mirror-mouse/hand=100_pseudo=1000/networks/rng2/video_preds_labeled/180613_000/img046597.csv\n",
      "Warning: the argument `seed` shadows a Pipeline constructor argument of the same name.\n"
     ]
    },
    {
     "data": {
      "application/vnd.jupyter.widget-view+json": {
       "model_id": "8dc9071dfaa441969977631db38a08a2",
       "version_major": 2,
       "version_minor": 0
      },
      "text/plain": [
       "Predicting: |          | 0/? [00:00<?, ?it/s]"
      ]
     },
     "metadata": {},
     "output_type": "display_data"
    },
    {
     "name": "stderr",
     "output_type": "stream",
     "text": [
      "LOCAL_RANK: 0 - CUDA_VISIBLE_DEVICES: [0]\n"
     ]
    },
    {
     "name": "stdout",
     "output_type": "stream",
     "text": [
      "/teamspace/studios/this_studio/data/mirror-mouse/videos-for-each-labeled-frame/180613_000/img046745.mp4 saved as\n",
      "/teamspace/studios/this_studio/outputs/mirror-mouse/hand=100_pseudo=1000/networks/rng2/video_preds_labeled/180613_000/img046745.csv\n",
      "Warning: the argument `seed` shadows a Pipeline constructor argument of the same name.\n"
     ]
    },
    {
     "data": {
      "application/vnd.jupyter.widget-view+json": {
       "model_id": "890e7e982c80478cab49178b09eaf37c",
       "version_major": 2,
       "version_minor": 0
      },
      "text/plain": [
       "Predicting: |          | 0/? [00:00<?, ?it/s]"
      ]
     },
     "metadata": {},
     "output_type": "display_data"
    },
    {
     "name": "stderr",
     "output_type": "stream",
     "text": [
      "LOCAL_RANK: 0 - CUDA_VISIBLE_DEVICES: [0]\n"
     ]
    },
    {
     "name": "stdout",
     "output_type": "stream",
     "text": [
      "/teamspace/studios/this_studio/data/mirror-mouse/videos-for-each-labeled-frame/180613_000/img046848.mp4 saved as\n",
      "/teamspace/studios/this_studio/outputs/mirror-mouse/hand=100_pseudo=1000/networks/rng2/video_preds_labeled/180613_000/img046848.csv\n",
      "Warning: the argument `seed` shadows a Pipeline constructor argument of the same name.\n"
     ]
    },
    {
     "data": {
      "application/vnd.jupyter.widget-view+json": {
       "model_id": "bc131d4bdc854776ab7539493a119a46",
       "version_major": 2,
       "version_minor": 0
      },
      "text/plain": [
       "Predicting: |          | 0/? [00:00<?, ?it/s]"
      ]
     },
     "metadata": {},
     "output_type": "display_data"
    },
    {
     "name": "stderr",
     "output_type": "stream",
     "text": [
      "LOCAL_RANK: 0 - CUDA_VISIBLE_DEVICES: [0]\n"
     ]
    },
    {
     "name": "stdout",
     "output_type": "stream",
     "text": [
      "/teamspace/studios/this_studio/data/mirror-mouse/videos-for-each-labeled-frame/180613_000/img048585.mp4 saved as\n",
      "/teamspace/studios/this_studio/outputs/mirror-mouse/hand=100_pseudo=1000/networks/rng2/video_preds_labeled/180613_000/img048585.csv\n",
      "Warning: the argument `seed` shadows a Pipeline constructor argument of the same name.\n"
     ]
    },
    {
     "data": {
      "application/vnd.jupyter.widget-view+json": {
       "model_id": "444d084ebf3b4092bfb99a430977ec3b",
       "version_major": 2,
       "version_minor": 0
      },
      "text/plain": [
       "Predicting: |          | 0/? [00:00<?, ?it/s]"
      ]
     },
     "metadata": {},
     "output_type": "display_data"
    },
    {
     "name": "stderr",
     "output_type": "stream",
     "text": [
      "LOCAL_RANK: 0 - CUDA_VISIBLE_DEVICES: [0]\n"
     ]
    },
    {
     "name": "stdout",
     "output_type": "stream",
     "text": [
      "/teamspace/studios/this_studio/data/mirror-mouse/videos-for-each-labeled-frame/180613_000/img049129.mp4 saved as\n",
      "/teamspace/studios/this_studio/outputs/mirror-mouse/hand=100_pseudo=1000/networks/rng2/video_preds_labeled/180613_000/img049129.csv\n",
      "Warning: the argument `seed` shadows a Pipeline constructor argument of the same name.\n"
     ]
    },
    {
     "data": {
      "application/vnd.jupyter.widget-view+json": {
       "model_id": "16694b583e4046c4913891a03d24f7ad",
       "version_major": 2,
       "version_minor": 0
      },
      "text/plain": [
       "Predicting: |          | 0/? [00:00<?, ?it/s]"
      ]
     },
     "metadata": {},
     "output_type": "display_data"
    },
    {
     "name": "stderr",
     "output_type": "stream",
     "text": [
      "LOCAL_RANK: 0 - CUDA_VISIBLE_DEVICES: [0]\n"
     ]
    },
    {
     "name": "stdout",
     "output_type": "stream",
     "text": [
      "/teamspace/studios/this_studio/data/mirror-mouse/videos-for-each-labeled-frame/180613_000/img049423.mp4 saved as\n",
      "/teamspace/studios/this_studio/outputs/mirror-mouse/hand=100_pseudo=1000/networks/rng2/video_preds_labeled/180613_000/img049423.csv\n",
      "Warning: the argument `seed` shadows a Pipeline constructor argument of the same name.\n"
     ]
    },
    {
     "data": {
      "application/vnd.jupyter.widget-view+json": {
       "model_id": "faf44e64af024f1882dd9eb5fc728e37",
       "version_major": 2,
       "version_minor": 0
      },
      "text/plain": [
       "Predicting: |          | 0/? [00:00<?, ?it/s]"
      ]
     },
     "metadata": {},
     "output_type": "display_data"
    },
    {
     "name": "stderr",
     "output_type": "stream",
     "text": [
      "LOCAL_RANK: 0 - CUDA_VISIBLE_DEVICES: [0]\n"
     ]
    },
    {
     "name": "stdout",
     "output_type": "stream",
     "text": [
      "/teamspace/studios/this_studio/data/mirror-mouse/videos-for-each-labeled-frame/180613_000/img049495.mp4 saved as\n",
      "/teamspace/studios/this_studio/outputs/mirror-mouse/hand=100_pseudo=1000/networks/rng2/video_preds_labeled/180613_000/img049495.csv\n",
      "Warning: the argument `seed` shadows a Pipeline constructor argument of the same name.\n"
     ]
    },
    {
     "data": {
      "application/vnd.jupyter.widget-view+json": {
       "model_id": "78d6a447e1404fcf9b69a1986b00edfa",
       "version_major": 2,
       "version_minor": 0
      },
      "text/plain": [
       "Predicting: |          | 0/? [00:00<?, ?it/s]"
      ]
     },
     "metadata": {},
     "output_type": "display_data"
    },
    {
     "name": "stderr",
     "output_type": "stream",
     "text": []
    },
    {
     "name": "stdout",
     "output_type": "stream",
     "text": [
      "/teamspace/studios/this_studio/data/mirror-mouse/videos-for-each-labeled-frame/180613_000/img049525.mp4 saved as\n",
      "/teamspace/studios/this_studio/outputs/mirror-mouse/hand=100_pseudo=1000/networks/rng2/video_preds_labeled/180613_000/img049525.csv\n",
      "Warning: the argument `seed` shadows a Pipeline constructor argument of the same name.\n"
     ]
    },
    {
     "name": "stderr",
     "output_type": "stream",
     "text": [
      "LOCAL_RANK: 0 - CUDA_VISIBLE_DEVICES: [0]\n"
     ]
    },
    {
     "data": {
      "application/vnd.jupyter.widget-view+json": {
       "model_id": "16159c19f4bc4a24a8018fd650b91eac",
       "version_major": 2,
       "version_minor": 0
      },
      "text/plain": [
       "Predicting: |          | 0/? [00:00<?, ?it/s]"
      ]
     },
     "metadata": {},
     "output_type": "display_data"
    },
    {
     "name": "stderr",
     "output_type": "stream",
     "text": [
      "LOCAL_RANK: 0 - CUDA_VISIBLE_DEVICES: [0]\n"
     ]
    },
    {
     "name": "stdout",
     "output_type": "stream",
     "text": [
      "/teamspace/studios/this_studio/data/mirror-mouse/videos-for-each-labeled-frame/180613_000/img049582.mp4 saved as\n",
      "/teamspace/studios/this_studio/outputs/mirror-mouse/hand=100_pseudo=1000/networks/rng2/video_preds_labeled/180613_000/img049582.csv\n",
      "Warning: the argument `seed` shadows a Pipeline constructor argument of the same name.\n"
     ]
    },
    {
     "data": {
      "application/vnd.jupyter.widget-view+json": {
       "model_id": "3c986c292042499198ad9861c4f3a8f8",
       "version_major": 2,
       "version_minor": 0
      },
      "text/plain": [
       "Predicting: |          | 0/? [00:00<?, ?it/s]"
      ]
     },
     "metadata": {},
     "output_type": "display_data"
    },
    {
     "name": "stderr",
     "output_type": "stream",
     "text": []
    },
    {
     "name": "stdout",
     "output_type": "stream",
     "text": [
      "/teamspace/studios/this_studio/data/mirror-mouse/videos-for-each-labeled-frame/180613_000/img049614.mp4 saved as\n",
      "/teamspace/studios/this_studio/outputs/mirror-mouse/hand=100_pseudo=1000/networks/rng2/video_preds_labeled/180613_000/img049614.csv\n",
      "Warning: the argument `seed` shadows a Pipeline constructor argument of the same name.\n"
     ]
    },
    {
     "name": "stderr",
     "output_type": "stream",
     "text": [
      "LOCAL_RANK: 0 - CUDA_VISIBLE_DEVICES: [0]\n"
     ]
    },
    {
     "data": {
      "application/vnd.jupyter.widget-view+json": {
       "model_id": "bf585efc98e84b1193f5b5c19b6aae99",
       "version_major": 2,
       "version_minor": 0
      },
      "text/plain": [
       "Predicting: |          | 0/? [00:00<?, ?it/s]"
      ]
     },
     "metadata": {},
     "output_type": "display_data"
    },
    {
     "name": "stderr",
     "output_type": "stream",
     "text": [
      "LOCAL_RANK: 0 - CUDA_VISIBLE_DEVICES: [0]\n"
     ]
    },
    {
     "name": "stdout",
     "output_type": "stream",
     "text": [
      "/teamspace/studios/this_studio/data/mirror-mouse/videos-for-each-labeled-frame/180613_000/img049742.mp4 saved as\n",
      "/teamspace/studios/this_studio/outputs/mirror-mouse/hand=100_pseudo=1000/networks/rng2/video_preds_labeled/180613_000/img049742.csv\n",
      "Warning: the argument `seed` shadows a Pipeline constructor argument of the same name.\n"
     ]
    },
    {
     "data": {
      "application/vnd.jupyter.widget-view+json": {
       "model_id": "2c860e9bd70d43729b48204e3737e883",
       "version_major": 2,
       "version_minor": 0
      },
      "text/plain": [
       "Predicting: |          | 0/? [00:00<?, ?it/s]"
      ]
     },
     "metadata": {},
     "output_type": "display_data"
    },
    {
     "name": "stderr",
     "output_type": "stream",
     "text": [
      "LOCAL_RANK: 0 - CUDA_VISIBLE_DEVICES: [0]\n"
     ]
    },
    {
     "name": "stdout",
     "output_type": "stream",
     "text": [
      "/teamspace/studios/this_studio/data/mirror-mouse/videos-for-each-labeled-frame/180613_000/img049973.mp4 saved as\n",
      "/teamspace/studios/this_studio/outputs/mirror-mouse/hand=100_pseudo=1000/networks/rng2/video_preds_labeled/180613_000/img049973.csv\n",
      "Warning: the argument `seed` shadows a Pipeline constructor argument of the same name.\n"
     ]
    },
    {
     "data": {
      "application/vnd.jupyter.widget-view+json": {
       "model_id": "0feee37479ab41fc8932f4ca1ef31c4f",
       "version_major": 2,
       "version_minor": 0
      },
      "text/plain": [
       "Predicting: |          | 0/? [00:00<?, ?it/s]"
      ]
     },
     "metadata": {},
     "output_type": "display_data"
    },
    {
     "name": "stderr",
     "output_type": "stream",
     "text": [
      "LOCAL_RANK: 0 - CUDA_VISIBLE_DEVICES: [0]\n"
     ]
    },
    {
     "name": "stdout",
     "output_type": "stream",
     "text": [
      "/teamspace/studios/this_studio/data/mirror-mouse/videos-for-each-labeled-frame/180613_000/img050088.mp4 saved as\n",
      "/teamspace/studios/this_studio/outputs/mirror-mouse/hand=100_pseudo=1000/networks/rng2/video_preds_labeled/180613_000/img050088.csv\n",
      "Warning: the argument `seed` shadows a Pipeline constructor argument of the same name.\n"
     ]
    },
    {
     "data": {
      "application/vnd.jupyter.widget-view+json": {
       "model_id": "9039c4e7b94447abaf86f02bbb523e54",
       "version_major": 2,
       "version_minor": 0
      },
      "text/plain": [
       "Predicting: |          | 0/? [00:00<?, ?it/s]"
      ]
     },
     "metadata": {},
     "output_type": "display_data"
    },
    {
     "name": "stderr",
     "output_type": "stream",
     "text": [
      "LOCAL_RANK: 0 - CUDA_VISIBLE_DEVICES: [0]\n"
     ]
    },
    {
     "name": "stdout",
     "output_type": "stream",
     "text": [
      "/teamspace/studios/this_studio/data/mirror-mouse/videos-for-each-labeled-frame/180613_000/img050895.mp4 saved as\n",
      "/teamspace/studios/this_studio/outputs/mirror-mouse/hand=100_pseudo=1000/networks/rng2/video_preds_labeled/180613_000/img050895.csv\n",
      "Warning: the argument `seed` shadows a Pipeline constructor argument of the same name.\n"
     ]
    },
    {
     "data": {
      "application/vnd.jupyter.widget-view+json": {
       "model_id": "7b609193084142f0b1b7af58c74f7949",
       "version_major": 2,
       "version_minor": 0
      },
      "text/plain": [
       "Predicting: |          | 0/? [00:00<?, ?it/s]"
      ]
     },
     "metadata": {},
     "output_type": "display_data"
    },
    {
     "name": "stderr",
     "output_type": "stream",
     "text": [
      "LOCAL_RANK: 0 - CUDA_VISIBLE_DEVICES: [0]\n"
     ]
    },
    {
     "name": "stdout",
     "output_type": "stream",
     "text": [
      "/teamspace/studios/this_studio/data/mirror-mouse/videos-for-each-labeled-frame/180613_000/img050896.mp4 saved as\n",
      "/teamspace/studios/this_studio/outputs/mirror-mouse/hand=100_pseudo=1000/networks/rng2/video_preds_labeled/180613_000/img050896.csv\n",
      "Warning: the argument `seed` shadows a Pipeline constructor argument of the same name.\n"
     ]
    },
    {
     "data": {
      "application/vnd.jupyter.widget-view+json": {
       "model_id": "f6ac96e8d59a46be98e84da7038ebe6a",
       "version_major": 2,
       "version_minor": 0
      },
      "text/plain": [
       "Predicting: |          | 0/? [00:00<?, ?it/s]"
      ]
     },
     "metadata": {},
     "output_type": "display_data"
    },
    {
     "name": "stderr",
     "output_type": "stream",
     "text": [
      "LOCAL_RANK: 0 - CUDA_VISIBLE_DEVICES: [0]\n"
     ]
    },
    {
     "name": "stdout",
     "output_type": "stream",
     "text": [
      "/teamspace/studios/this_studio/data/mirror-mouse/videos-for-each-labeled-frame/180613_000/img050899.mp4 saved as\n",
      "/teamspace/studios/this_studio/outputs/mirror-mouse/hand=100_pseudo=1000/networks/rng2/video_preds_labeled/180613_000/img050899.csv\n",
      "Warning: the argument `seed` shadows a Pipeline constructor argument of the same name.\n"
     ]
    },
    {
     "data": {
      "application/vnd.jupyter.widget-view+json": {
       "model_id": "f953177297ad4eebb66896f4ac5432d3",
       "version_major": 2,
       "version_minor": 0
      },
      "text/plain": [
       "Predicting: |          | 0/? [00:00<?, ?it/s]"
      ]
     },
     "metadata": {},
     "output_type": "display_data"
    },
    {
     "name": "stderr",
     "output_type": "stream",
     "text": []
    },
    {
     "name": "stdout",
     "output_type": "stream",
     "text": [
      "/teamspace/studios/this_studio/data/mirror-mouse/videos-for-each-labeled-frame/180623_000/img023658.mp4 saved as\n",
      "/teamspace/studios/this_studio/outputs/mirror-mouse/hand=100_pseudo=1000/networks/rng2/video_preds_labeled/180623_000/img023658.csv\n",
      "Warning: the argument `seed` shadows a Pipeline constructor argument of the same name.\n"
     ]
    },
    {
     "name": "stderr",
     "output_type": "stream",
     "text": [
      "LOCAL_RANK: 0 - CUDA_VISIBLE_DEVICES: [0]\n"
     ]
    },
    {
     "data": {
      "application/vnd.jupyter.widget-view+json": {
       "model_id": "50c5f9450aa6478e8e9c264dccbb441f",
       "version_major": 2,
       "version_minor": 0
      },
      "text/plain": [
       "Predicting: |          | 0/? [00:00<?, ?it/s]"
      ]
     },
     "metadata": {},
     "output_type": "display_data"
    },
    {
     "name": "stderr",
     "output_type": "stream",
     "text": [
      "LOCAL_RANK: 0 - CUDA_VISIBLE_DEVICES: [0]\n"
     ]
    },
    {
     "name": "stdout",
     "output_type": "stream",
     "text": [
      "/teamspace/studios/this_studio/data/mirror-mouse/videos-for-each-labeled-frame/180623_000/img023660.mp4 saved as\n",
      "/teamspace/studios/this_studio/outputs/mirror-mouse/hand=100_pseudo=1000/networks/rng2/video_preds_labeled/180623_000/img023660.csv\n",
      "Warning: the argument `seed` shadows a Pipeline constructor argument of the same name.\n"
     ]
    },
    {
     "data": {
      "application/vnd.jupyter.widget-view+json": {
       "model_id": "66054f5ff47e4d7eb9ed41db290cc580",
       "version_major": 2,
       "version_minor": 0
      },
      "text/plain": [
       "Predicting: |          | 0/? [00:00<?, ?it/s]"
      ]
     },
     "metadata": {},
     "output_type": "display_data"
    },
    {
     "name": "stderr",
     "output_type": "stream",
     "text": [
      "LOCAL_RANK: 0 - CUDA_VISIBLE_DEVICES: [0]\n"
     ]
    },
    {
     "name": "stdout",
     "output_type": "stream",
     "text": [
      "/teamspace/studios/this_studio/data/mirror-mouse/videos-for-each-labeled-frame/180623_000/img023662.mp4 saved as\n",
      "/teamspace/studios/this_studio/outputs/mirror-mouse/hand=100_pseudo=1000/networks/rng2/video_preds_labeled/180623_000/img023662.csv\n",
      "Warning: the argument `seed` shadows a Pipeline constructor argument of the same name.\n"
     ]
    },
    {
     "data": {
      "application/vnd.jupyter.widget-view+json": {
       "model_id": "653ff40f01a74c5cbf03263ada49fb69",
       "version_major": 2,
       "version_minor": 0
      },
      "text/plain": [
       "Predicting: |          | 0/? [00:00<?, ?it/s]"
      ]
     },
     "metadata": {},
     "output_type": "display_data"
    },
    {
     "name": "stderr",
     "output_type": "stream",
     "text": [
      "LOCAL_RANK: 0 - CUDA_VISIBLE_DEVICES: [0]\n"
     ]
    },
    {
     "name": "stdout",
     "output_type": "stream",
     "text": [
      "/teamspace/studios/this_studio/data/mirror-mouse/videos-for-each-labeled-frame/180623_000/img023720.mp4 saved as\n",
      "/teamspace/studios/this_studio/outputs/mirror-mouse/hand=100_pseudo=1000/networks/rng2/video_preds_labeled/180623_000/img023720.csv\n",
      "Warning: the argument `seed` shadows a Pipeline constructor argument of the same name.\n"
     ]
    },
    {
     "data": {
      "application/vnd.jupyter.widget-view+json": {
       "model_id": "778c597aeb5f4229b49e42fa9f83d803",
       "version_major": 2,
       "version_minor": 0
      },
      "text/plain": [
       "Predicting: |          | 0/? [00:00<?, ?it/s]"
      ]
     },
     "metadata": {},
     "output_type": "display_data"
    },
    {
     "name": "stderr",
     "output_type": "stream",
     "text": [
      "LOCAL_RANK: 0 - CUDA_VISIBLE_DEVICES: [0]\n"
     ]
    },
    {
     "name": "stdout",
     "output_type": "stream",
     "text": [
      "/teamspace/studios/this_studio/data/mirror-mouse/videos-for-each-labeled-frame/180623_000/img100119.mp4 saved as\n",
      "/teamspace/studios/this_studio/outputs/mirror-mouse/hand=100_pseudo=1000/networks/rng2/video_preds_labeled/180623_000/img100119.csv\n",
      "Warning: the argument `seed` shadows a Pipeline constructor argument of the same name.\n"
     ]
    },
    {
     "data": {
      "application/vnd.jupyter.widget-view+json": {
       "model_id": "fbe0c84ec8364875a96904cd86291e5e",
       "version_major": 2,
       "version_minor": 0
      },
      "text/plain": [
       "Predicting: |          | 0/? [00:00<?, ?it/s]"
      ]
     },
     "metadata": {},
     "output_type": "display_data"
    },
    {
     "name": "stderr",
     "output_type": "stream",
     "text": [
      "LOCAL_RANK: 0 - CUDA_VISIBLE_DEVICES: [0]\n"
     ]
    },
    {
     "name": "stdout",
     "output_type": "stream",
     "text": [
      "/teamspace/studios/this_studio/data/mirror-mouse/videos-for-each-labeled-frame/180623_000/img100264.mp4 saved as\n",
      "/teamspace/studios/this_studio/outputs/mirror-mouse/hand=100_pseudo=1000/networks/rng2/video_preds_labeled/180623_000/img100264.csv\n",
      "Warning: the argument `seed` shadows a Pipeline constructor argument of the same name.\n"
     ]
    },
    {
     "data": {
      "application/vnd.jupyter.widget-view+json": {
       "model_id": "0c144739ee2b4c6698adf85dcff1de9e",
       "version_major": 2,
       "version_minor": 0
      },
      "text/plain": [
       "Predicting: |          | 0/? [00:00<?, ?it/s]"
      ]
     },
     "metadata": {},
     "output_type": "display_data"
    },
    {
     "name": "stderr",
     "output_type": "stream",
     "text": []
    },
    {
     "name": "stdout",
     "output_type": "stream",
     "text": [
      "/teamspace/studios/this_studio/data/mirror-mouse/videos-for-each-labeled-frame/180623_000/img100417.mp4 saved as\n",
      "/teamspace/studios/this_studio/outputs/mirror-mouse/hand=100_pseudo=1000/networks/rng2/video_preds_labeled/180623_000/img100417.csv\n",
      "Warning: the argument `seed` shadows a Pipeline constructor argument of the same name.\n"
     ]
    },
    {
     "name": "stderr",
     "output_type": "stream",
     "text": [
      "LOCAL_RANK: 0 - CUDA_VISIBLE_DEVICES: [0]\n"
     ]
    },
    {
     "data": {
      "application/vnd.jupyter.widget-view+json": {
       "model_id": "ea6315ca07d942a5a82a6efc6c85a44b",
       "version_major": 2,
       "version_minor": 0
      },
      "text/plain": [
       "Predicting: |          | 0/? [00:00<?, ?it/s]"
      ]
     },
     "metadata": {},
     "output_type": "display_data"
    },
    {
     "name": "stderr",
     "output_type": "stream",
     "text": []
    },
    {
     "name": "stdout",
     "output_type": "stream",
     "text": [
      "/teamspace/studios/this_studio/data/mirror-mouse/videos-for-each-labeled-frame/180623_000/img100470.mp4 saved as\n",
      "/teamspace/studios/this_studio/outputs/mirror-mouse/hand=100_pseudo=1000/networks/rng2/video_preds_labeled/180623_000/img100470.csv\n",
      "Warning: the argument `seed` shadows a Pipeline constructor argument of the same name.\n"
     ]
    },
    {
     "name": "stderr",
     "output_type": "stream",
     "text": [
      "LOCAL_RANK: 0 - CUDA_VISIBLE_DEVICES: [0]\n"
     ]
    },
    {
     "data": {
      "application/vnd.jupyter.widget-view+json": {
       "model_id": "028fb4f762054acdb20f467fd4009dc9",
       "version_major": 2,
       "version_minor": 0
      },
      "text/plain": [
       "Predicting: |          | 0/? [00:00<?, ?it/s]"
      ]
     },
     "metadata": {},
     "output_type": "display_data"
    },
    {
     "name": "stderr",
     "output_type": "stream",
     "text": []
    },
    {
     "name": "stdout",
     "output_type": "stream",
     "text": [
      "/teamspace/studios/this_studio/data/mirror-mouse/videos-for-each-labeled-frame/180623_000/img100476.mp4 saved as\n",
      "/teamspace/studios/this_studio/outputs/mirror-mouse/hand=100_pseudo=1000/networks/rng2/video_preds_labeled/180623_000/img100476.csv\n",
      "Warning: the argument `seed` shadows a Pipeline constructor argument of the same name.\n"
     ]
    },
    {
     "name": "stderr",
     "output_type": "stream",
     "text": [
      "LOCAL_RANK: 0 - CUDA_VISIBLE_DEVICES: [0]\n"
     ]
    },
    {
     "data": {
      "application/vnd.jupyter.widget-view+json": {
       "model_id": "b440753213cf4e92a8955b703d1a3893",
       "version_major": 2,
       "version_minor": 0
      },
      "text/plain": [
       "Predicting: |          | 0/? [00:00<?, ?it/s]"
      ]
     },
     "metadata": {},
     "output_type": "display_data"
    },
    {
     "name": "stderr",
     "output_type": "stream",
     "text": []
    },
    {
     "name": "stdout",
     "output_type": "stream",
     "text": [
      "/teamspace/studios/this_studio/data/mirror-mouse/videos-for-each-labeled-frame/180623_000/img100484.mp4 saved as\n",
      "/teamspace/studios/this_studio/outputs/mirror-mouse/hand=100_pseudo=1000/networks/rng2/video_preds_labeled/180623_000/img100484.csv\n",
      "Warning: the argument `seed` shadows a Pipeline constructor argument of the same name.\n"
     ]
    },
    {
     "name": "stderr",
     "output_type": "stream",
     "text": [
      "LOCAL_RANK: 0 - CUDA_VISIBLE_DEVICES: [0]\n"
     ]
    },
    {
     "data": {
      "application/vnd.jupyter.widget-view+json": {
       "model_id": "18d017a3593e4ae4acb3388af9fc8e79",
       "version_major": 2,
       "version_minor": 0
      },
      "text/plain": [
       "Predicting: |          | 0/? [00:00<?, ?it/s]"
      ]
     },
     "metadata": {},
     "output_type": "display_data"
    },
    {
     "name": "stderr",
     "output_type": "stream",
     "text": [
      "LOCAL_RANK: 0 - CUDA_VISIBLE_DEVICES: [0]\n"
     ]
    },
    {
     "name": "stdout",
     "output_type": "stream",
     "text": [
      "/teamspace/studios/this_studio/data/mirror-mouse/videos-for-each-labeled-frame/180623_000/img100572.mp4 saved as\n",
      "/teamspace/studios/this_studio/outputs/mirror-mouse/hand=100_pseudo=1000/networks/rng2/video_preds_labeled/180623_000/img100572.csv\n",
      "Warning: the argument `seed` shadows a Pipeline constructor argument of the same name.\n"
     ]
    },
    {
     "data": {
      "application/vnd.jupyter.widget-view+json": {
       "model_id": "2dd48ca5b88a430980dc37a05b818dc8",
       "version_major": 2,
       "version_minor": 0
      },
      "text/plain": [
       "Predicting: |          | 0/? [00:00<?, ?it/s]"
      ]
     },
     "metadata": {},
     "output_type": "display_data"
    },
    {
     "name": "stderr",
     "output_type": "stream",
     "text": []
    },
    {
     "name": "stdout",
     "output_type": "stream",
     "text": [
      "/teamspace/studios/this_studio/data/mirror-mouse/videos-for-each-labeled-frame/180623_000/img100737.mp4 saved as\n",
      "/teamspace/studios/this_studio/outputs/mirror-mouse/hand=100_pseudo=1000/networks/rng2/video_preds_labeled/180623_000/img100737.csv\n",
      "Warning: the argument `seed` shadows a Pipeline constructor argument of the same name.\n"
     ]
    },
    {
     "name": "stderr",
     "output_type": "stream",
     "text": [
      "LOCAL_RANK: 0 - CUDA_VISIBLE_DEVICES: [0]\n"
     ]
    },
    {
     "data": {
      "application/vnd.jupyter.widget-view+json": {
       "model_id": "a0c23f2e616c43e6ab5aecced742743b",
       "version_major": 2,
       "version_minor": 0
      },
      "text/plain": [
       "Predicting: |          | 0/? [00:00<?, ?it/s]"
      ]
     },
     "metadata": {},
     "output_type": "display_data"
    },
    {
     "name": "stderr",
     "output_type": "stream",
     "text": [
      "LOCAL_RANK: 0 - CUDA_VISIBLE_DEVICES: [0]\n"
     ]
    },
    {
     "name": "stdout",
     "output_type": "stream",
     "text": [
      "/teamspace/studios/this_studio/data/mirror-mouse/videos-for-each-labeled-frame/180623_000/img100901.mp4 saved as\n",
      "/teamspace/studios/this_studio/outputs/mirror-mouse/hand=100_pseudo=1000/networks/rng2/video_preds_labeled/180623_000/img100901.csv\n",
      "Warning: the argument `seed` shadows a Pipeline constructor argument of the same name.\n"
     ]
    },
    {
     "data": {
      "application/vnd.jupyter.widget-view+json": {
       "model_id": "57ec0471884440218357bffc902d2a79",
       "version_major": 2,
       "version_minor": 0
      },
      "text/plain": [
       "Predicting: |          | 0/? [00:00<?, ?it/s]"
      ]
     },
     "metadata": {},
     "output_type": "display_data"
    },
    {
     "name": "stderr",
     "output_type": "stream",
     "text": [
      "LOCAL_RANK: 0 - CUDA_VISIBLE_DEVICES: [0]\n"
     ]
    },
    {
     "name": "stdout",
     "output_type": "stream",
     "text": [
      "/teamspace/studios/this_studio/data/mirror-mouse/videos-for-each-labeled-frame/180623_000/img102822.mp4 saved as\n",
      "/teamspace/studios/this_studio/outputs/mirror-mouse/hand=100_pseudo=1000/networks/rng2/video_preds_labeled/180623_000/img102822.csv\n",
      "Warning: the argument `seed` shadows a Pipeline constructor argument of the same name.\n"
     ]
    },
    {
     "data": {
      "application/vnd.jupyter.widget-view+json": {
       "model_id": "9bffe954c1234fae90771f1453203e80",
       "version_major": 2,
       "version_minor": 0
      },
      "text/plain": [
       "Predicting: |          | 0/? [00:00<?, ?it/s]"
      ]
     },
     "metadata": {},
     "output_type": "display_data"
    },
    {
     "name": "stderr",
     "output_type": "stream",
     "text": []
    },
    {
     "name": "stdout",
     "output_type": "stream",
     "text": [
      "/teamspace/studios/this_studio/data/mirror-mouse/videos-for-each-labeled-frame/180623_000/img103326.mp4 saved as\n",
      "/teamspace/studios/this_studio/outputs/mirror-mouse/hand=100_pseudo=1000/networks/rng2/video_preds_labeled/180623_000/img103326.csv\n",
      "Warning: the argument `seed` shadows a Pipeline constructor argument of the same name.\n"
     ]
    },
    {
     "name": "stderr",
     "output_type": "stream",
     "text": [
      "LOCAL_RANK: 0 - CUDA_VISIBLE_DEVICES: [0]\n"
     ]
    },
    {
     "data": {
      "application/vnd.jupyter.widget-view+json": {
       "model_id": "e811dbc91d8848ec9775f11c6107ef13",
       "version_major": 2,
       "version_minor": 0
      },
      "text/plain": [
       "Predicting: |          | 0/? [00:00<?, ?it/s]"
      ]
     },
     "metadata": {},
     "output_type": "display_data"
    },
    {
     "name": "stderr",
     "output_type": "stream",
     "text": [
      "LOCAL_RANK: 0 - CUDA_VISIBLE_DEVICES: [0]\n"
     ]
    },
    {
     "name": "stdout",
     "output_type": "stream",
     "text": [
      "/teamspace/studios/this_studio/data/mirror-mouse/videos-for-each-labeled-frame/180623_000/img103450.mp4 saved as\n",
      "/teamspace/studios/this_studio/outputs/mirror-mouse/hand=100_pseudo=1000/networks/rng2/video_preds_labeled/180623_000/img103450.csv\n",
      "Warning: the argument `seed` shadows a Pipeline constructor argument of the same name.\n"
     ]
    },
    {
     "data": {
      "application/vnd.jupyter.widget-view+json": {
       "model_id": "fa38cbea670040cb995499858fe6254c",
       "version_major": 2,
       "version_minor": 0
      },
      "text/plain": [
       "Predicting: |          | 0/? [00:00<?, ?it/s]"
      ]
     },
     "metadata": {},
     "output_type": "display_data"
    },
    {
     "name": "stderr",
     "output_type": "stream",
     "text": [
      "LOCAL_RANK: 0 - CUDA_VISIBLE_DEVICES: [0]\n"
     ]
    },
    {
     "name": "stdout",
     "output_type": "stream",
     "text": [
      "/teamspace/studios/this_studio/data/mirror-mouse/videos-for-each-labeled-frame/180623_000/img103467.mp4 saved as\n",
      "/teamspace/studios/this_studio/outputs/mirror-mouse/hand=100_pseudo=1000/networks/rng2/video_preds_labeled/180623_000/img103467.csv\n",
      "Warning: the argument `seed` shadows a Pipeline constructor argument of the same name.\n"
     ]
    },
    {
     "data": {
      "application/vnd.jupyter.widget-view+json": {
       "model_id": "183e64441d654f7da1cf783c27158d97",
       "version_major": 2,
       "version_minor": 0
      },
      "text/plain": [
       "Predicting: |          | 0/? [00:00<?, ?it/s]"
      ]
     },
     "metadata": {},
     "output_type": "display_data"
    },
    {
     "name": "stderr",
     "output_type": "stream",
     "text": [
      "LOCAL_RANK: 0 - CUDA_VISIBLE_DEVICES: [0]\n"
     ]
    },
    {
     "name": "stdout",
     "output_type": "stream",
     "text": [
      "/teamspace/studios/this_studio/data/mirror-mouse/videos-for-each-labeled-frame/180623_000/img103469.mp4 saved as\n",
      "/teamspace/studios/this_studio/outputs/mirror-mouse/hand=100_pseudo=1000/networks/rng2/video_preds_labeled/180623_000/img103469.csv\n",
      "Warning: the argument `seed` shadows a Pipeline constructor argument of the same name.\n"
     ]
    },
    {
     "data": {
      "application/vnd.jupyter.widget-view+json": {
       "model_id": "19abf43a720e4b86b532e4fae17ffb6d",
       "version_major": 2,
       "version_minor": 0
      },
      "text/plain": [
       "Predicting: |          | 0/? [00:00<?, ?it/s]"
      ]
     },
     "metadata": {},
     "output_type": "display_data"
    },
    {
     "name": "stderr",
     "output_type": "stream",
     "text": [
      "LOCAL_RANK: 0 - CUDA_VISIBLE_DEVICES: [0]\n"
     ]
    },
    {
     "name": "stdout",
     "output_type": "stream",
     "text": [
      "/teamspace/studios/this_studio/data/mirror-mouse/videos-for-each-labeled-frame/180623_000/img103472.mp4 saved as\n",
      "/teamspace/studios/this_studio/outputs/mirror-mouse/hand=100_pseudo=1000/networks/rng2/video_preds_labeled/180623_000/img103472.csv\n",
      "Warning: the argument `seed` shadows a Pipeline constructor argument of the same name.\n"
     ]
    },
    {
     "data": {
      "application/vnd.jupyter.widget-view+json": {
       "model_id": "3b58317508a84502a0f7fee607287e61",
       "version_major": 2,
       "version_minor": 0
      },
      "text/plain": [
       "Predicting: |          | 0/? [00:00<?, ?it/s]"
      ]
     },
     "metadata": {},
     "output_type": "display_data"
    },
    {
     "name": "stderr",
     "output_type": "stream",
     "text": [
      "LOCAL_RANK: 0 - CUDA_VISIBLE_DEVICES: [0]\n"
     ]
    },
    {
     "name": "stdout",
     "output_type": "stream",
     "text": [
      "/teamspace/studios/this_studio/data/mirror-mouse/videos-for-each-labeled-frame/180623_000/img103476.mp4 saved as\n",
      "/teamspace/studios/this_studio/outputs/mirror-mouse/hand=100_pseudo=1000/networks/rng2/video_preds_labeled/180623_000/img103476.csv\n",
      "Warning: the argument `seed` shadows a Pipeline constructor argument of the same name.\n"
     ]
    },
    {
     "data": {
      "application/vnd.jupyter.widget-view+json": {
       "model_id": "ec0b3b2da822441d90c83d1b67a9149a",
       "version_major": 2,
       "version_minor": 0
      },
      "text/plain": [
       "Predicting: |          | 0/? [00:00<?, ?it/s]"
      ]
     },
     "metadata": {},
     "output_type": "display_data"
    },
    {
     "name": "stderr",
     "output_type": "stream",
     "text": [
      "LOCAL_RANK: 0 - CUDA_VISIBLE_DEVICES: [0]\n"
     ]
    },
    {
     "name": "stdout",
     "output_type": "stream",
     "text": [
      "/teamspace/studios/this_studio/data/mirror-mouse/videos-for-each-labeled-frame/180623_000/img103482.mp4 saved as\n",
      "/teamspace/studios/this_studio/outputs/mirror-mouse/hand=100_pseudo=1000/networks/rng2/video_preds_labeled/180623_000/img103482.csv\n",
      "Warning: the argument `seed` shadows a Pipeline constructor argument of the same name.\n"
     ]
    },
    {
     "data": {
      "application/vnd.jupyter.widget-view+json": {
       "model_id": "8e015b1d18fa4ac8b99c4db9c7fa2019",
       "version_major": 2,
       "version_minor": 0
      },
      "text/plain": [
       "Predicting: |          | 0/? [00:00<?, ?it/s]"
      ]
     },
     "metadata": {},
     "output_type": "display_data"
    },
    {
     "name": "stderr",
     "output_type": "stream",
     "text": [
      "LOCAL_RANK: 0 - CUDA_VISIBLE_DEVICES: [0]\n"
     ]
    },
    {
     "name": "stdout",
     "output_type": "stream",
     "text": [
      "/teamspace/studios/this_studio/data/mirror-mouse/videos-for-each-labeled-frame/180623_000/img103541.mp4 saved as\n",
      "/teamspace/studios/this_studio/outputs/mirror-mouse/hand=100_pseudo=1000/networks/rng2/video_preds_labeled/180623_000/img103541.csv\n",
      "Warning: the argument `seed` shadows a Pipeline constructor argument of the same name.\n"
     ]
    },
    {
     "data": {
      "application/vnd.jupyter.widget-view+json": {
       "model_id": "1d05b72540a74038bf4b7226dc0f18dc",
       "version_major": 2,
       "version_minor": 0
      },
      "text/plain": [
       "Predicting: |          | 0/? [00:00<?, ?it/s]"
      ]
     },
     "metadata": {},
     "output_type": "display_data"
    },
    {
     "name": "stderr",
     "output_type": "stream",
     "text": [
      "LOCAL_RANK: 0 - CUDA_VISIBLE_DEVICES: [0]\n"
     ]
    },
    {
     "name": "stdout",
     "output_type": "stream",
     "text": [
      "/teamspace/studios/this_studio/data/mirror-mouse/videos-for-each-labeled-frame/180623_000/img104593.mp4 saved as\n",
      "/teamspace/studios/this_studio/outputs/mirror-mouse/hand=100_pseudo=1000/networks/rng2/video_preds_labeled/180623_000/img104593.csv\n",
      "Warning: the argument `seed` shadows a Pipeline constructor argument of the same name.\n"
     ]
    },
    {
     "data": {
      "application/vnd.jupyter.widget-view+json": {
       "model_id": "ec623b926bb04232ad5255c48389adf9",
       "version_major": 2,
       "version_minor": 0
      },
      "text/plain": [
       "Predicting: |          | 0/? [00:00<?, ?it/s]"
      ]
     },
     "metadata": {},
     "output_type": "display_data"
    },
    {
     "name": "stderr",
     "output_type": "stream",
     "text": [
      " 94%|█████████▍| 238/253 [03:07<00:11,  1.27it/s]\n"
     ]
    },
    {
     "ename": "TypeError",
     "evalue": "'NoneType' object is not iterable",
     "output_type": "error",
     "traceback": [
      "\u001b[0;31m---------------------------------------------------------------------------\u001b[0m",
      "\u001b[0;31mTypeError\u001b[0m                                 Traceback (most recent call last)",
      "Cell \u001b[0;32mIn[10], line 2\u001b[0m\n\u001b[1;32m      1\u001b[0m ground_truth_df \u001b[38;5;241m=\u001b[39m pd\u001b[38;5;241m.\u001b[39mread_csv(os\u001b[38;5;241m.\u001b[39mpath\u001b[38;5;241m.\u001b[39mjoin(data_dir, ground_truth_csv), skiprows\u001b[38;5;241m=\u001b[39m\u001b[38;5;241m2\u001b[39m)\n\u001b[0;32m----> 2\u001b[0m \u001b[43mrun_inference_on_snippets\u001b[49m\u001b[43m(\u001b[49m\u001b[43mmodel_dirs_list\u001b[49m\u001b[43m,\u001b[49m\u001b[43m \u001b[49m\u001b[43mdata_dir\u001b[49m\u001b[43m,\u001b[49m\u001b[43m \u001b[49m\u001b[43mvideos_dir\u001b[49m\u001b[43m,\u001b[49m\u001b[43m \u001b[49m\u001b[43mground_truth_df\u001b[49m\u001b[43m)\u001b[49m\n",
      "Cell \u001b[0;32mIn[9], line 66\u001b[0m, in \u001b[0;36mrun_inference_on_snippets\u001b[0;34m(model_dirs_list, data_dir, videos_dir, ground_truth_df)\u001b[0m\n\u001b[1;32m     63\u001b[0m preds \u001b[38;5;241m=\u001b[39m trainer\u001b[38;5;241m.\u001b[39mpredict(model\u001b[38;5;241m=\u001b[39mmodel, dataloaders\u001b[38;5;241m=\u001b[39mpredict_loader, return_predictions\u001b[38;5;241m=\u001b[39m\u001b[38;5;28;01mTrue\u001b[39;00m)\n\u001b[1;32m     65\u001b[0m \u001b[38;5;66;03m# Process predictions\u001b[39;00m\n\u001b[0;32m---> 66\u001b[0m preds_df \u001b[38;5;241m=\u001b[39m \u001b[43mpred_handler\u001b[49m\u001b[43m(\u001b[49m\u001b[43mpreds\u001b[49m\u001b[38;5;241;43m=\u001b[39;49m\u001b[43mpreds\u001b[49m\u001b[43m)\u001b[49m\n\u001b[1;32m     67\u001b[0m os\u001b[38;5;241m.\u001b[39mmakedirs(os\u001b[38;5;241m.\u001b[39mpath\u001b[38;5;241m.\u001b[39mdirname(prediction_csv_file), exist_ok\u001b[38;5;241m=\u001b[39m\u001b[38;5;28;01mTrue\u001b[39;00m)\n\u001b[1;32m     68\u001b[0m preds_df\u001b[38;5;241m.\u001b[39mto_csv(prediction_csv_file)\n",
      "File \u001b[0;32m~/lightning-pose/lightning_pose/utils/predictions.py:267\u001b[0m, in \u001b[0;36mPredictionHandler.__call__\u001b[0;34m(self, preds)\u001b[0m\n\u001b[1;32m    249\u001b[0m \u001b[38;5;28;01mdef\u001b[39;00m \u001b[38;5;21m__call__\u001b[39m(\n\u001b[1;32m    250\u001b[0m     \u001b[38;5;28mself\u001b[39m,\n\u001b[1;32m    251\u001b[0m     preds: List[\n\u001b[0;32m   (...)\u001b[0m\n\u001b[1;32m    256\u001b[0m     ],\n\u001b[1;32m    257\u001b[0m ) \u001b[38;5;241m-\u001b[39m\u001b[38;5;241m>\u001b[39m pd\u001b[38;5;241m.\u001b[39mDataFrame:\n\u001b[1;32m    258\u001b[0m \u001b[38;5;250m    \u001b[39m\u001b[38;5;124;03m\"\"\"\u001b[39;00m\n\u001b[1;32m    259\u001b[0m \u001b[38;5;124;03m    Call this function to get a pandas dataframe of the predictions for a single video.\u001b[39;00m\n\u001b[1;32m    260\u001b[0m \u001b[38;5;124;03m    Assuming you've already run trainer.predict(), and have a list of Tuple predictions.\u001b[39;00m\n\u001b[0;32m   (...)\u001b[0m\n\u001b[1;32m    265\u001b[0m \u001b[38;5;124;03m        pd.DataFrame: index is (frame, bodypart, x, y, likelihood)\u001b[39;00m\n\u001b[1;32m    266\u001b[0m \u001b[38;5;124;03m    \"\"\"\u001b[39;00m\n\u001b[0;32m--> 267\u001b[0m     stacked_preds, stacked_confs \u001b[38;5;241m=\u001b[39m \u001b[38;5;28;43mself\u001b[39;49m\u001b[38;5;241;43m.\u001b[39;49m\u001b[43munpack_preds\u001b[49m\u001b[43m(\u001b[49m\u001b[43mpreds\u001b[49m\u001b[38;5;241;43m=\u001b[39;49m\u001b[43mpreds\u001b[49m\u001b[43m)\u001b[49m\n\u001b[1;32m    268\u001b[0m     pred_arr \u001b[38;5;241m=\u001b[39m \u001b[38;5;28mself\u001b[39m\u001b[38;5;241m.\u001b[39mmake_pred_arr_undo_resize(\n\u001b[1;32m    269\u001b[0m         stacked_preds\u001b[38;5;241m.\u001b[39mcpu()\u001b[38;5;241m.\u001b[39mnumpy(), stacked_confs\u001b[38;5;241m.\u001b[39mcpu()\u001b[38;5;241m.\u001b[39mnumpy()\n\u001b[1;32m    270\u001b[0m     )\n\u001b[1;32m    271\u001b[0m     pdindex \u001b[38;5;241m=\u001b[39m \u001b[38;5;28mself\u001b[39m\u001b[38;5;241m.\u001b[39mmake_dlc_pandas_index()\n",
      "File \u001b[0;32m~/lightning-pose/lightning_pose/utils/predictions.py:132\u001b[0m, in \u001b[0;36mPredictionHandler.unpack_preds\u001b[0;34m(self, preds)\u001b[0m\n\u001b[1;32m    125\u001b[0m \u001b[38;5;250m\u001b[39m\u001b[38;5;124;03m\"\"\"unpack list of preds coming out from pl.trainer.predict, confs tuples into tensors.\u001b[39;00m\n\u001b[1;32m    126\u001b[0m \u001b[38;5;124;03mIt still returns unnecessary final rows, which should be discarded at the dataframe stage.\u001b[39;00m\n\u001b[1;32m    127\u001b[0m \u001b[38;5;124;03mThis works for the output of predict_loader, suitable for\u001b[39;00m\n\u001b[1;32m    128\u001b[0m \u001b[38;5;124;03mbatch_size=1, sequence_length=16, step=16\u001b[39;00m\n\u001b[1;32m    129\u001b[0m \u001b[38;5;124;03m\"\"\"\u001b[39;00m\n\u001b[1;32m    130\u001b[0m \u001b[38;5;66;03m# stack the predictions into rows.\u001b[39;00m\n\u001b[1;32m    131\u001b[0m \u001b[38;5;66;03m# loop over the batches, and stack\u001b[39;00m\n\u001b[0;32m--> 132\u001b[0m stacked_preds \u001b[38;5;241m=\u001b[39m torch\u001b[38;5;241m.\u001b[39mvstack([pred[\u001b[38;5;241m0\u001b[39m] \u001b[38;5;28;01mfor\u001b[39;00m pred \u001b[38;5;129;01min\u001b[39;00m preds])\n\u001b[1;32m    133\u001b[0m stacked_confs \u001b[38;5;241m=\u001b[39m torch\u001b[38;5;241m.\u001b[39mvstack([pred[\u001b[38;5;241m1\u001b[39m] \u001b[38;5;28;01mfor\u001b[39;00m pred \u001b[38;5;129;01min\u001b[39;00m preds])\n\u001b[1;32m    135\u001b[0m \u001b[38;5;28;01mif\u001b[39;00m \u001b[38;5;28mself\u001b[39m\u001b[38;5;241m.\u001b[39mvideo_file \u001b[38;5;129;01mis\u001b[39;00m \u001b[38;5;129;01mnot\u001b[39;00m \u001b[38;5;28;01mNone\u001b[39;00m:  \u001b[38;5;66;03m# dealing with dali loaders\u001b[39;00m\n\u001b[1;32m    136\u001b[0m \n\u001b[1;32m    137\u001b[0m     \u001b[38;5;66;03m# DB: this used to be an else but I think it should apply to all dataloaders now\u001b[39;00m\n\u001b[1;32m    138\u001b[0m     \u001b[38;5;66;03m# first we chop off the last few rows that are not part of the video\u001b[39;00m\n\u001b[1;32m    139\u001b[0m     \u001b[38;5;66;03m# next:\u001b[39;00m\n\u001b[1;32m    140\u001b[0m     \u001b[38;5;66;03m# for baseline: chop extra empty frames from last sequence.\u001b[39;00m\n",
      "\u001b[0;31mTypeError\u001b[0m: 'NoneType' object is not iterable"
     ]
    }
   ],
   "source": [
    "ground_truth_df = pd.read_csv(os.path.join(data_dir, ground_truth_csv), skiprows=2)\n",
    "run_inference_on_snippets(model_dirs_list, data_dir, snippets_dir, ground_truth_df)"
   ]
  },
  {
   "cell_type": "markdown",
   "id": "0f77ca29",
   "metadata": {},
   "source": [
    "## Step 2: run EKS"
   ]
  },
  {
   "cell_type": "code",
   "execution_count": null,
   "id": "39e5717e",
   "metadata": {},
   "outputs": [],
   "source": [
    "def run_eks_on_snippets(snippets_dir, model_dirs_list, eks_save_dir, ground_truth_df):\n",
    "    session_frame_info = process_csv_for_sessions_and_frames(ground_truth_df)\n",
    "    tracker_name = 'heatmap_tracker'\n",
    "    keypoint_names = None\n",
    "\n",
    "    # store useful info here\n",
    "    index_list = []\n",
    "    results_list = []\n",
    "\n",
    "    # Step 1: Process and save the CSVs\n",
    "    for session, frame in session_frame_info:\n",
    "        # extract all markers\n",
    "        markers_list = []\n",
    "        for model_dir in model_dirs_list:\n",
    "            csv_file = os.path.join(\n",
    "                model_dir, 'video_preds_labeled', session, frame.replace('png', 'csv'))\n",
    "            df_tmp = pd.read_csv(csv_file, header=[0, 1, 2], index_col=0)\n",
    "            keypoint_names = [l[1] for l in df_tmp.columns[::3]]\n",
    "            markers_tmp = convert_lp_dlc(df_tmp, keypoint_names, model_name=tracker_name)\n",
    "            markers_list.append(markers_tmp)\n",
    "\n",
    "        dfs_markers = markers_list\n",
    "        # make empty dataframe to write results into\n",
    "        df_eks = make_output_dataframe(df_tmp)\n",
    "\n",
    "        # Convert list of DataFrames to a 3D NumPy array\n",
    "        data_arrays = [df.to_numpy() for df in markers_list]\n",
    "        markers_3d_array = np.stack(data_arrays, axis=0)\n",
    "\n",
    "        # Map keypoint names to keys in input_dfs and crop markers_3d_array\n",
    "        keypoint_is = {}\n",
    "        keys = []\n",
    "        for i, col in enumerate(markers_list[0].columns):\n",
    "            keypoint_is[col] = i\n",
    "        for part in keypoint_ensemble_list:\n",
    "            keys.append(keypoint_is[part + '_x'])\n",
    "            keys.append(keypoint_is[part + '_y'])\n",
    "            keys.append(keypoint_is[part + '_likelihood'])\n",
    "        key_cols = np.array(keys)\n",
    "        markers_3d_array = markers_3d_array[:, :, key_cols]\n",
    "\n",
    "        save_dir = os.path.join(eks_save_dir, 'eks', session)\n",
    "        save_file = os.path.join(save_dir, frame.replace('png', 'csv'))\n",
    "        if os.path.exists(save_file):\n",
    "            print(f'Skipping ensembling for {session}/{frame} as it already exists.')\n",
    "            continue\n",
    "        else:\n",
    "            print(f'Ensembling for {session}/{frame}')\n",
    "            # Call the smoother function\n",
    "            df_dicts, s_finals = ensemble_kalman_smoother_singlecam(\n",
    "                markers_3d_array,\n",
    "                keypoint_ensemble_list,\n",
    "                smooth_param=None,\n",
    "                s_frames=[(None, None)],\n",
    "                blocks=[],\n",
    "            )\n",
    "            # put results into new dataframe\n",
    "            for k, keypoint_name in enumerate(keypoint_ensemble_list):\n",
    "                keypoint_df = df_dicts[k][keypoint_name + '_df']\n",
    "                df_eks = populate_output_dataframe(keypoint_df, keypoint_name, df_eks)\n",
    "\n",
    "            # save eks results\n",
    "            os.makedirs(save_dir, exist_ok=True)\n",
    "            df_eks.to_csv(save_file)\n",
    "\n",
    "    # Step 2: Extract center frame results\n",
    "    print('Extracting center frame results from all sessions.')\n",
    "    for session, frame in session_frame_info:\n",
    "        # Construct the path to the saved EKS results\n",
    "        save_file = os.path.join(eks_save_dir, 'eks', session, frame.replace('png', 'csv'))\n",
    "        if not os.path.exists(save_file):\n",
    "            print(f'Missing EKS file for {session}/{frame}. Skipping.')\n",
    "            continue\n",
    "\n",
    "        # read csv\n",
    "        df_eks = pd.read_csv(save_file, header=[0, 1, 2], index_col=0)\n",
    "        \n",
    "        # extract result from center frame\n",
    "        assert df_eks.shape[0] & 2 != 0\n",
    "        idx_frame = int(np.floor(df_eks.shape[0] / 2))\n",
    "        frame_file = frame.replace('.mp4', '.png')\n",
    "        index_name = f'labeled-data/{session}/{frame_file}'\n",
    "        result = df_eks[df_eks.index == idx_frame].rename(index={idx_frame: index_name})\n",
    "        results_list.append(result)\n",
    "\n",
    "    # save final predictions\n",
    "    results_df = pd.concat(results_list)\n",
    "    results_df.sort_index(inplace=True)\n",
    "    # add \"set\" column so this df is interpreted as labeled data predictions\n",
    "    results_df.loc[:, (\"set\", \"\", \"\")] = \"train\"\n",
    "    results_df.to_csv(os.path.join(eks_save_dir, 'eks', 'predictions_new.csv'))\n",
    "\n",
    "    return df_eks, dfs_markers"
   ]
  },
  {
   "cell_type": "code",
   "execution_count": null,
   "id": "9e366968",
   "metadata": {},
   "outputs": [],
   "source": [
    "df_eks, dfs_markers = run_eks_on_snippets(snippets_dir, model_dirs_list, eks_save_dir, ground_truth_df)"
   ]
  },
  {
   "cell_type": "code",
   "execution_count": null,
   "id": "41400e6e",
   "metadata": {},
   "outputs": [],
   "source": [
    "print(len(dfs_markers))"
   ]
  },
  {
   "cell_type": "markdown",
   "id": "94bfc6b0",
   "metadata": {},
   "source": [
    "## Step 2.5: sanity check EKS dfs"
   ]
  },
  {
   "cell_type": "code",
   "execution_count": null,
   "id": "980ce0e8",
   "metadata": {},
   "outputs": [],
   "source": [
    "import matplotlib.pyplot as plt\n",
    "import seaborn as sns\n",
    "\n",
    "sns.set_style('white')\n",
    "\n",
    "def plot_eks_dfs(keypoint_ensemble_list, markers_list, df_eks):\n",
    "    \"\"\"\n",
    "    Plots the EKS DataFrames for the given keypoints.\n",
    "\n",
    "    Parameters:\n",
    "    - keypoint_ensemble_list: List of keypoints to plot.\n",
    "    - markers_list: List of DataFrames containing marker data.\n",
    "    - df_eks: DataFrame containing the ensemble kalman smoother results.\n",
    "    \"\"\"\n",
    "    for kp in keypoint_ensemble_list:\n",
    "        fig, axes = plt.subplots(2, 1, figsize=(12, 6))\n",
    "        for ax, coord in zip(axes, ['x', 'y']):\n",
    "            cols0 = (f'{kp}_{coord}')\n",
    "            cols1 = ('ensemble-kalman_tracker', kp, coord)\n",
    "            for i, df in enumerate(markers_list):\n",
    "                m = df.loc[:, cols0]\n",
    "                color = [0.5, 0.5, 0.5] # if i < 5 else [0, 0, 1]  # Use grey for rng0-4 and red for rng5 and beyond\n",
    "                ax.plot(m.to_numpy(), color=color)\n",
    "            m = df_eks.loc[:, cols1]\n",
    "            ax.plot(m, color='k')\n",
    "            ax.set_title(cols0)\n",
    "        plt.show()"
   ]
  },
  {
   "cell_type": "code",
   "execution_count": null,
   "id": "5b21356f",
   "metadata": {},
   "outputs": [],
   "source": [
    "plot_eks_dfs(keypoint_ensemble_list, dfs_markers, df_eks)"
   ]
  },
  {
   "cell_type": "markdown",
   "id": "89dca8e4",
   "metadata": {},
   "source": [
    "## Step 3: compute ens mean/median"
   ]
  },
  {
   "cell_type": "markdown",
   "id": "ff40ec35",
   "metadata": {},
   "source": [
    "### collect predictions from individual models"
   ]
  },
  {
   "cell_type": "code",
   "execution_count": null,
   "id": "e2580ad9",
   "metadata": {},
   "outputs": [],
   "source": [
    "def collect_preds(model_dirs_list, snippets_dir):\n",
    "    for model_dir in tqdm(model_dirs_list):\n",
    "        results_list = []\n",
    "        sessions = os.listdir(snippets_dir)\n",
    "        for session in sessions:\n",
    "            frames = os.listdir(os.path.join(snippets_dir, session))\n",
    "            for frame in frames:\n",
    "                # Load prediction on snippet\n",
    "                df = pd.read_csv(\n",
    "                    os.path.join(model_dir, 'video_preds_labeled', session, frame.replace('.mp4', '.csv')), \n",
    "                    header=[0, 1, 2], \n",
    "                    index_col=0,\n",
    "                )\n",
    "                # Extract result from center frame\n",
    "                assert df.shape[0] & 2 != 0\n",
    "                idx_frame = int(np.floor(df.shape[0] / 2))\n",
    "                frame_file = frame.replace('.mp4', '.png')\n",
    "                index_name = f'labeled-data/{session}/{frame_file}'\n",
    "                result = df[df.index == idx_frame].rename(index={idx_frame: index_name})\n",
    "                results_list.append(result)\n",
    "\n",
    "        # Save final predictions\n",
    "        results_df = pd.concat(results_list)\n",
    "        results_df.sort_index(inplace=True)\n",
    "        # Add \"set\" column so this df is interpreted as labeled data predictions\n",
    "        results_df.loc[:, (\"set\", \"\", \"\")] = \"train\"\n",
    "        results_df.to_csv(os.path.join(model_dir, 'video_preds_labeled', 'predictions_new.csv'))\n",
    "\n"
   ]
  },
  {
   "cell_type": "code",
   "execution_count": null,
   "id": "ef9121f0",
   "metadata": {},
   "outputs": [],
   "source": [
    "collect_preds(model_dirs_list, snippets_dir)"
   ]
  },
  {
   "cell_type": "markdown",
   "id": "467b56f1",
   "metadata": {},
   "source": [
    "### compute ens mean/median"
   ]
  },
  {
   "cell_type": "code",
   "execution_count": null,
   "id": "4de16906",
   "metadata": {},
   "outputs": [],
   "source": [
    "def compute_ens_mean_median(model_dirs_list, eks_save_dir, post_processor_type):\n",
    "    markers_list = []\n",
    "    for model_dir in model_dirs_list:\n",
    "        csv_file = os.path.join(model_dir, 'video_preds_labeled', 'predictions_new.csv')\n",
    "        df_tmp = pd.read_csv(csv_file, header=[0, 1, 2], index_col=0)\n",
    "        preds_curr = df_tmp.to_numpy()[:, :-1]  # remove \"set\" column\n",
    "        preds_curr = np.delete(preds_curr, list(range(2, preds_curr.shape[1], 3)), axis=1)\n",
    "        preds_curr = np.reshape(preds_curr, (preds_curr.shape[0], -1, 2))\n",
    "        markers_list.append(preds_curr[..., None])\n",
    "    \n",
    "    # Concatenate across last dim\n",
    "    pred_arrays = np.concatenate(markers_list, axis=3)\n",
    "    \n",
    "    # Compute mean/median across x/y\n",
    "    if post_processor_type == 'ens-mean':\n",
    "        ens_mean = np.mean(pred_arrays, axis=3)\n",
    "    elif post_processor_type == 'ens-median':\n",
    "        ens_mean = np.median(pred_arrays, axis=3)\n",
    "    \n",
    "    ens_likelihood = np.nan * np.zeros((ens_mean.shape[0], ens_mean.shape[1], 1))\n",
    "    \n",
    "    # Build dataframe\n",
    "    xyl = np.concatenate([ens_mean, ens_likelihood], axis=2)\n",
    "    df_final = pd.DataFrame(\n",
    "        xyl.reshape(ens_mean.shape[0], -1), \n",
    "        columns=df_tmp.columns[:-1],  # remove \"set\" column, add back in later\n",
    "        index=df_tmp.index\n",
    "    )\n",
    "    df_final.sort_index(inplace=True)\n",
    "    # Add \"set\" column so this df is interpreted as labeled data predictions\n",
    "    df_final.loc[:, (\"set\", \"\", \"\")] = \"train\"\n",
    "    save_dir_ = os.path.join(eks_save_dir, f'{post_processor_type}')\n",
    "    os.makedirs(save_dir_, exist_ok=True)\n",
    "    df_final.to_csv(os.path.join(save_dir_, 'predictions_new.csv'))"
   ]
  },
  {
   "cell_type": "code",
   "execution_count": null,
   "id": "5e2c87be",
   "metadata": {},
   "outputs": [],
   "source": [
    "compute_ens_mean_median(model_dirs_list, eks_save_dir, 'ens-mean')\n",
    "compute_ens_mean_median(model_dirs_list, eks_save_dir, 'ens-median')"
   ]
  },
  {
   "cell_type": "markdown",
   "id": "cfec9142",
   "metadata": {},
   "source": [
    "## Step 4: compute metrics"
   ]
  },
  {
   "cell_type": "markdown",
   "id": "447cdcdd",
   "metadata": {},
   "source": [
    "### step 4.1: create data module to have access to labeled data"
   ]
  },
  {
   "cell_type": "code",
   "execution_count": null,
   "id": "a705f364",
   "metadata": {},
   "outputs": [],
   "source": [
    "cfg_file = os.path.join(config_dir, f\"config_{dataset_name}.yaml\")\n",
    "cfg = DictConfig(yaml.safe_load(open(cfg_file)))\n",
    "\n",
    "model_cfg = cfg.copy()\n",
    "\n",
    "model_cfg.data.data_dir = data_dir\n",
    "model_cfg.data.csv_file = ground_truth_csv\n",
    "\n",
    "model_cfg.training.imgaug = \"default\"\n",
    "model_cfg.training.train_prob = 1\n",
    "model_cfg.training.val_prob = 0\n",
    "model_cfg.training.train_frames = 1\n",
    "\n",
    "imgaug_transform = get_imgaug_transform(cfg=model_cfg)\n",
    "dataset = get_dataset(\n",
    "    cfg=model_cfg, \n",
    "    data_dir=model_cfg.data.data_dir, \n",
    "    imgaug_transform=imgaug_transform)\n",
    "data_module = get_data_module(\n",
    "    cfg=model_cfg, \n",
    "    dataset=dataset, \n",
    "    video_dir=os.path.join(data_dir, dataset_name, \"videos\"))\n",
    "data_module.setup()"
   ]
  },
  {
   "cell_type": "markdown",
   "id": "baebb95e",
   "metadata": {},
   "source": [
    "### step 4.2: compute metrics on ensemble members"
   ]
  },
  {
   "cell_type": "code",
   "execution_count": null,
   "id": "ce0a5e3c",
   "metadata": {},
   "outputs": [],
   "source": [
    "for model_dir in model_dirs_list:\n",
    "    print(model_dir)\n",
    "    preds_file = os.path.join(model_dir, 'video_preds_labeled', 'predictions_new.csv')\n",
    "    compute_metrics(cfg=model_cfg, preds_file=preds_file, data_module=data_module)\n"
   ]
  },
  {
   "cell_type": "markdown",
   "id": "81bf9735",
   "metadata": {},
   "source": [
    "### step 4.3: compute metrics on post-processed traces"
   ]
  },
  {
   "cell_type": "code",
   "execution_count": null,
   "id": "4d22f6d6",
   "metadata": {},
   "outputs": [],
   "source": [
    "post_processor_types = [\n",
    "    \"ens-mean\",\n",
    "    \"ens-median\",\n",
    "    \"eks\",\n",
    "]\n",
    "\n",
    "for post_processor_type in post_processor_types:\n",
    "    print(f'{post_processor_type}')\n",
    "    preds_file = os.path.join(eks_save_dir, f'{post_processor_type}', 'predictions_new.csv')\n",
    "    compute_metrics(cfg=model_cfg, preds_file=preds_file, data_module=data_module)\n"
   ]
  },
  {
   "cell_type": "markdown",
   "id": "3420bb61",
   "metadata": {},
   "source": [
    "## Step 5: run everything again with expanded dataset"
   ]
  },
  {
   "cell_type": "code",
   "execution_count": null,
   "id": "a37fe191",
   "metadata": {},
   "outputs": [],
   "source": [
    "model_dirs_list = []\n",
    "if dataset_name == \"mirror-mouse\":\n",
    "    model_dirs_list = find_model_dirs(aeks_dir, 'rng')\n",
    "    keypoint_ensemble_list = [\n",
    "        'paw1LH_top', 'paw2LF_top', 'paw3RF_top', 'paw4RH_top', 'nose_top', 'tailBase_top', 'tailMid_top',\n",
    "        'paw1LH_bot', 'paw2LF_bot', 'paw3RF_bot', 'paw4RH_bot', 'nose_bot', 'tailBase_bot', 'tailMid_bot',\n",
    "    ]\n",
    "else:\n",
    "    raise NotImplementedError\n",
    "\n",
    "# remove eks_rng=0-3\n",
    "for directory in model_dirs_list:\n",
    "    if 'eks' in os.path.basename(directory):\n",
    "        print(f\"{directory} has 'eks' in it. Removing\")\n",
    "        model_dirs_list.remove(directory)\n",
    "print(f\"Found {len(model_dirs_list)} model directories\")\n",
    "\n",
    "# 1. running inference\n",
    "run_inference_on_snippets(model_dirs_list, data_dir, snippets_dir, ground_truth_df)\n",
    "\n",
    "# 2. running EKS\n",
    "df_eks, dfs_markers = run_eks_on_snippets(snippets_dir, model_dirs_list, aeks_eks_save_dir, ground_truth_df)\n",
    "\n",
    "# 3.1 collect preds from aeks models\n",
    "collect_preds(model_dirs_list, snippets_dir)\n",
    "# 3.2 compute ens mean and median\n",
    "compute_ens_mean_median(model_dirs_list, aeks_eks_save_dir, 'ens-mean')\n",
    "compute_ens_mean_median(model_dirs_list, aeks_eks_save_dir, 'ens-median')"
   ]
  },
  {
   "cell_type": "code",
   "execution_count": null,
   "id": "b07834eb",
   "metadata": {},
   "outputs": [],
   "source": [
    "# 4\n",
    "\n",
    "# 4.1 Create Data Module\n",
    "cfg_file = os.path.join(config_dir, f\"config_{dataset_name}.yaml\")\n",
    "cfg = DictConfig(yaml.safe_load(open(cfg_file)))\n",
    "\n",
    "model_cfg = cfg.copy()\n",
    "\n",
    "model_cfg.data.data_dir = data_dir\n",
    "model_cfg.data.csv_file = ground_truth_csv\n",
    "\n",
    "model_cfg.training.imgaug = \"default\"\n",
    "model_cfg.training.train_prob = 1\n",
    "model_cfg.training.val_prob = 0\n",
    "model_cfg.training.train_frames = 1\n",
    "\n",
    "imgaug_transform = get_imgaug_transform(cfg=model_cfg)\n",
    "dataset = get_dataset(\n",
    "    cfg=model_cfg, \n",
    "    data_dir=model_cfg.data.data_dir, \n",
    "    imgaug_transform=imgaug_transform)\n",
    "data_module = get_data_module(\n",
    "    cfg=model_cfg, \n",
    "    dataset=dataset, \n",
    "    video_dir=os.path.join(data_dir, dataset_name, \"videos\"))\n",
    "data_module.setup()\n",
    "\n",
    "# 4.2 compute metrics on aEKS ensemble members\n",
    "for model_dir in model_dirs_list:\n",
    "    print(model_dir)\n",
    "    preds_file = os.path.join(model_dir, 'video_preds_labeled', 'predictions_new.csv')\n",
    "    compute_metrics(cfg=model_cfg, preds_file=preds_file, data_module=data_module)\n",
    "\n",
    "# 4.3 compute metric on post-processed traces\n",
    "post_processor_types = [\n",
    "    \"ens-mean\",\n",
    "    \"ens-median\",\n",
    "    \"eks\",\n",
    "]\n",
    "\n",
    "for post_processor_type in post_processor_types:\n",
    "    print(f'{post_processor_type}')\n",
    "    preds_file = os.path.join(aeks_eks_save_dir, f'{post_processor_type}', 'predictions_new.csv')\n",
    "    compute_metrics(cfg=model_cfg, preds_file=preds_file, data_module=data_module)"
   ]
  },
  {
   "cell_type": "markdown",
   "id": "0699089e",
   "metadata": {},
   "source": [
    "### step 5.1: calculate ensemble variance"
   ]
  },
  {
   "cell_type": "code",
   "execution_count": 20,
   "id": "4b92ad04",
   "metadata": {},
   "outputs": [],
   "source": [
    "# load ground truth data, for ensuring indices match\n",
    "df_gt = pd.read_csv(os.path.join(data_dir, 'CollectedData_new.csv'), header=[0, 1, 2], index_col=0)\n",
    "df_gt.sort_index(inplace=True)\n",
    "\n",
    "aeks_hand_dir = os.path.join(aeks_dir, '../results_aeks_hand')\n",
    "\n",
    "data_to_plot = {\n",
    "    'networks_rng0': os.path.join(networks_dir, 'rng0/video_preds_labeled/predictions_new.csv'),\n",
    "    'networks_rng1': os.path.join(networks_dir, 'rng1/video_preds_labeled/predictions_new.csv'),\n",
    "    'networks_rng2': os.path.join(networks_dir, 'rng2/video_preds_labeled/predictions_new.csv'),\n",
    "    'networks_rng3': os.path.join(networks_dir, 'rng3/video_preds_labeled/predictions_new.csv'),\n",
    "    'networks_rng4': os.path.join(networks_dir, 'rng4/video_preds_labeled/predictions_new.csv'),\n",
    "    #'networks_rng6': os.path.join(networks_dir, 'rng6/video_preds_labeled/predictions_new.csv'),\n",
    "    #'networks_rng5': os.path.join(networks_dir, 'rng5/video_preds_labeled/predictions_new.csv'),\n",
    "    #'networks_rng7': os.path.join(networks_dir, 'rng7/video_preds_labeled/predictions_new.csv'),\n",
    "    #'networks_rng8': os.path.join(networks_dir, 'rng8/video_preds_labeled/predictions_new.csv'),\n",
    "    #'networks_rng9': os.path.join(networks_dir, 'rng9/video_preds_labeled/predictions_new.csv'),\n",
    "    'eks': os.path.join(eks_save_dir, 'eks/predictions_new.csv'),\n",
    "    #'ens-mean': os.path.join(eks_save_dir, 'ens-mean/predictions_new.csv'),\n",
    "    #'ens-median': os.path.join(eks_save_dir, 'ens-median/predictions_new.csv'),\n",
    "    #'aeks_random_rng0': os.path.join(aeks_dir, 'rng0/video_preds_labeled/predictions_new.csv'),\n",
    "    #'aeks_random_rng1': os.path.join(aeks_dir, 'rng1/video_preds_labeled/predictions_new.csv'),\n",
    "    #'aeks_random_rng2': os.path.join(aeks_dir, 'rng2/video_preds_labeled/predictions_new.csv'),\n",
    "    #'aeks_random_rng3': os.path.join(aeks_dir, 'rng3/video_preds_labeled/predictions_new.csv'),\n",
    "    #'aeks_random_eks': os.path.join(aeks_dir, 'eks_rng=0-3/eks/predictions_new.csv'),\n",
    "    #'aeks_hand_rng0': os.path.join(aeks_hand_dir, 'rng0/video_preds_labeled/predictions_new.csv'),\n",
    "    #'aeks_hand_rng1': os.path.join(aeks_hand_dir, 'rng1/video_preds_labeled/predictions_new.csv'),\n",
    "    #'aeks_hand_rng2': os.path.join(aeks_hand_dir, 'rng2/video_preds_labeled/predictions_new.csv'),\n",
    "    #'aeks_hand_rng3': os.path.join(aeks_hand_dir, 'rng3/video_preds_labeled/predictions_new.csv'),\n",
    "    #'aeks_hand_eks': os.path.join(aeks_hand_dir, 'eks_rng=0-3/eks/predictions_new.csv'),\n",
    "    #'aeks_ens-mean': os.path.join(aeks_dir, 'eks_rng=0-3/ens-mean/predictions_new.csv'),\n",
    "    #'aeks_ens-median': os.path.join(aeks_dir, 'eks_rng=0-3/ens-median/predictions_new.csv'),\n",
    "}\n",
    "\n",
    "# define predictions so we can compute ensemble variance\n",
    "pred_csv_list = []\n",
    "# define model names\n",
    "model_names_list = []\n",
    "# reformat\n",
    "for key, val in data_to_plot.items():\n",
    "    model_names_list.append(key)\n",
    "    pred_csv_list.append(val)\n",
    "\n",
    "# define pixel error to plot\n",
    "error_csv_list = [p.replace('.csv', '_pixel_error.csv') for p in pred_csv_list]\n",
    "\n",
    "# load data\n",
    "df_pred_list = []\n",
    "df_error_list = []\n",
    "for pred_csv, error_csv in zip(pred_csv_list, error_csv_list):\n",
    "#     df_pred_list.append(pd.read_csv(pred_csv, header=[0, 1, 2], index_col=0).drop(columns=['set']))\n",
    "#     df_error_list.append(pd.read_csv(error_csv, header=[0], index_col=0).drop(columns=['set']))\n",
    "    \n",
    "    df_pred_list.append(pd.read_csv(pred_csv, header=[0, 1, 2], index_col=0).sort_index())\n",
    "    df_error_list.append(pd.read_csv(error_csv, header=[0], index_col=0).drop(columns=['set']).sort_index())"
   ]
  },
  {
   "cell_type": "code",
   "execution_count": 21,
   "id": "92fc655d",
   "metadata": {},
   "outputs": [],
   "source": [
    "import numpy as np\n",
    "import pandas as pd\n",
    "\n",
    "def standardize_scorer_level(df, new_scorer='standard_scorer'):\n",
    "    \"\"\"\n",
    "    Standardizes the 'scorer' level in the MultiIndex to a common name.\n",
    "\n",
    "    Parameters\n",
    "    ----------\n",
    "    df : pd.DataFrame\n",
    "        The DataFrame to standardize.\n",
    "    new_scorer : str\n",
    "        The new name for the 'scorer' level.\n",
    "\n",
    "    Returns\n",
    "    -------\n",
    "    pd.DataFrame\n",
    "        The DataFrame with the standardized 'scorer' level.\n",
    "    \"\"\"\n",
    "    df.columns = pd.MultiIndex.from_tuples(\n",
    "        [(new_scorer, bodypart, coord) for scorer, bodypart, coord in df.columns],\n",
    "        names=df.columns.names\n",
    "    )\n",
    "    return df\n",
    "\n",
    "def compute_ensemble_stddev(\n",
    "    df_ground_truth,\n",
    "    df_preds,\n",
    "    keypoint_ensemble_list,\n",
    "    scorer_name='standard_scorer'\n",
    "):\n",
    "    \"\"\"\n",
    "    Parameters\n",
    "    ----------\n",
    "    df_ground_truth : List[pd.DataFrame]\n",
    "        ground truth predictions\n",
    "    df_preds : List[pd.DataFrame]\n",
    "        model predictions\n",
    "    keypoint_ensemble_list : List[str]\n",
    "        keypoints to include in the analysis\n",
    "\n",
    "    Returns\n",
    "    -------\n",
    "    np.ndarray\n",
    "        shape (n_frames, n_keypoints)\n",
    "    \"\"\"\n",
    "    # Initial check for NaNs in df_preds\n",
    "    for i, df in enumerate(df_preds):\n",
    "        if df.isna().any().any():\n",
    "            print(f\"Warning: NaN values detected in initial DataFrame {i}.\")\n",
    "            nan_indices = df[df.isna().any(axis=1)].index\n",
    "            nan_columns = df.columns[df.isna().any()]\n",
    "            print(f\"NaN values found at indices: {nan_indices} in columns: {nan_columns}\")\n",
    "\n",
    "    preds = []\n",
    "    cols_order = None\n",
    "    for i, df in enumerate(df_preds):\n",
    "        assert np.all(df.index == df_ground_truth.index), f\"Index mismatch between ground truth and predictions at dataframe {i}\"\n",
    "        \n",
    "        # Standardize the 'scorer' level\n",
    "        df = standardize_scorer_level(df, scorer_name)\n",
    "        \n",
    "        # Remove likelihood columns\n",
    "        cols_to_keep = [col for col in df.columns if not col[2].endswith('_likelihood') and 'zscore' not in col[2]]\n",
    "        # Keep only columns matching the keypoint_ensemble_list\n",
    "        cols_to_keep = [col for col in cols_to_keep if col[1] in keypoint_ensemble_list]\n",
    "        df = df[cols_to_keep]\n",
    "        \n",
    "        print(f\"DataFrame {i} kept columns:\", df.columns)\n",
    "        \n",
    "        # Check for NaNs in the DataFrame\n",
    "        if df.isna().any().any():\n",
    "            print(f\"Warning: NaN values detected in DataFrame {i} after filtering.\")\n",
    "            nan_indices = df[df.isna().any(axis=1)].index\n",
    "            nan_columns = df.columns[df.isna().any()]\n",
    "            print(f\"NaN values found at indices: {nan_indices} in columns: {nan_columns}\")\n",
    "        \n",
    "        # Print the order of the column headers\n",
    "        if cols_order is None:\n",
    "            cols_order = df.columns\n",
    "        else:\n",
    "            if not (df.columns == cols_order).all():\n",
    "                print(f\"Column order mismatch detected in DataFrame {i}\")\n",
    "                print(\"Expected order:\", cols_order)\n",
    "                print(\"Actual order:\", df.columns)\n",
    "                # Ensure bodyparts and coordinates are consistent\n",
    "                expected_bodyparts_coords = cols_order.droplevel(0).unique()\n",
    "                actual_bodyparts_coords = df.columns.droplevel(0).unique()\n",
    "                if not expected_bodyparts_coords.equals(actual_bodyparts_coords):\n",
    "                    print(\"Bodyparts and coordinates mismatch detected\")\n",
    "                    print(\"Expected bodyparts and coordinates:\", expected_bodyparts_coords)\n",
    "                    print(\"Actual bodyparts and coordinates:\", actual_bodyparts_coords)\n",
    "        \n",
    "        # Reshape the DataFrame to the appropriate shape\n",
    "        try:\n",
    "            arr = df.to_numpy().reshape(df.shape[0], -1, 2)\n",
    "        except ValueError as e:\n",
    "            print(f\"Reshape error: {e}\")\n",
    "            print(f\"DataFrame shape: {df.shape}\")\n",
    "            print(f\"Array shape after reshape attempt: {df.to_numpy().shape}\")\n",
    "            raise\n",
    "        \n",
    "        preds.append(arr[..., None])\n",
    "    \n",
    "    preds = np.concatenate(preds, axis=3)\n",
    "    \n",
    "    # Check for NaNs in preds\n",
    "    if np.isnan(preds).any():\n",
    "        print(\"Warning: NaN values detected in preds array.\")\n",
    "        nan_indices = np.argwhere(np.isnan(preds))\n",
    "        print(f\"NaN values found at indices: {nan_indices}\")\n",
    "    else:\n",
    "        print(\"No NaN values detected in preds array.\")\n",
    "    \n",
    "    stddevs = np.std(preds, axis=-1).mean(axis=-1)\n",
    "    print(f\"Stddevs: {stddevs}\")\n",
    "    return stddevs\n",
    "\n",
    "def compute_percentiles(arr, std_vals, percentiles):\n",
    "    num_pts = arr[0]\n",
    "    vals = []\n",
    "    prctiles = []\n",
    "    for p in percentiles:\n",
    "        v = num_pts * p / 100\n",
    "        idx = np.argmin(np.abs(arr - v))\n",
    "        # maybe we don't have enough data\n",
    "        if idx == len(arr) - 1:\n",
    "            p_ = arr[idx] / num_pts * 100\n",
    "        else:\n",
    "            p_ = p\n",
    "        vals.append(std_vals[idx])\n",
    "        prctiles.append(p_)\n",
    "    return vals, prctiles\n",
    "\n",
    "def cleanaxis(ax):\n",
    "    ax.spines['top'].set_visible(False)\n",
    "    ax.spines['right'].set_visible(False)\n",
    "    ax.tick_params(top=False)\n",
    "    ax.tick_params(right=False)\n"
   ]
  },
  {
   "cell_type": "code",
   "execution_count": 22,
   "id": "dcdf8f1f",
   "metadata": {},
   "outputs": [
    {
     "name": "stdout",
     "output_type": "stream",
     "text": [
      "DataFrame 0 kept columns: MultiIndex([('standard_scorer',   'paw1LH_top',          'x'),\n",
      "            ('standard_scorer',   'paw1LH_top',          'y'),\n",
      "            ('standard_scorer',   'paw1LH_top', 'likelihood'),\n",
      "            ('standard_scorer',   'paw2LF_top',          'x'),\n",
      "            ('standard_scorer',   'paw2LF_top',          'y'),\n",
      "            ('standard_scorer',   'paw2LF_top', 'likelihood'),\n",
      "            ('standard_scorer',   'paw3RF_top',          'x'),\n",
      "            ('standard_scorer',   'paw3RF_top',          'y'),\n",
      "            ('standard_scorer',   'paw3RF_top', 'likelihood'),\n",
      "            ('standard_scorer',   'paw4RH_top',          'x'),\n",
      "            ('standard_scorer',   'paw4RH_top',          'y'),\n",
      "            ('standard_scorer',   'paw4RH_top', 'likelihood'),\n",
      "            ('standard_scorer', 'tailBase_top',          'x'),\n",
      "            ('standard_scorer', 'tailBase_top',          'y'),\n",
      "            ('standard_scorer', 'tailBase_top', 'likelihood'),\n",
      "            ('standard_scorer',  'tailMid_top',          'x'),\n",
      "            ('standard_scorer',  'tailMid_top',          'y'),\n",
      "            ('standard_scorer',  'tailMid_top', 'likelihood'),\n",
      "            ('standard_scorer',     'nose_top',          'x'),\n",
      "            ('standard_scorer',     'nose_top',          'y'),\n",
      "            ('standard_scorer',     'nose_top', 'likelihood'),\n",
      "            ('standard_scorer',   'paw1LH_bot',          'x'),\n",
      "            ('standard_scorer',   'paw1LH_bot',          'y'),\n",
      "            ('standard_scorer',   'paw1LH_bot', 'likelihood'),\n",
      "            ('standard_scorer',   'paw2LF_bot',          'x'),\n",
      "            ('standard_scorer',   'paw2LF_bot',          'y'),\n",
      "            ('standard_scorer',   'paw2LF_bot', 'likelihood'),\n",
      "            ('standard_scorer',   'paw3RF_bot',          'x'),\n",
      "            ('standard_scorer',   'paw3RF_bot',          'y'),\n",
      "            ('standard_scorer',   'paw3RF_bot', 'likelihood'),\n",
      "            ('standard_scorer',   'paw4RH_bot',          'x'),\n",
      "            ('standard_scorer',   'paw4RH_bot',          'y'),\n",
      "            ('standard_scorer',   'paw4RH_bot', 'likelihood'),\n",
      "            ('standard_scorer', 'tailBase_bot',          'x'),\n",
      "            ('standard_scorer', 'tailBase_bot',          'y'),\n",
      "            ('standard_scorer', 'tailBase_bot', 'likelihood'),\n",
      "            ('standard_scorer',  'tailMid_bot',          'x'),\n",
      "            ('standard_scorer',  'tailMid_bot',          'y'),\n",
      "            ('standard_scorer',  'tailMid_bot', 'likelihood'),\n",
      "            ('standard_scorer',     'nose_bot',          'x'),\n",
      "            ('standard_scorer',     'nose_bot',          'y'),\n",
      "            ('standard_scorer',     'nose_bot', 'likelihood')],\n",
      "           names=['scorer', 'bodyparts', 'coords'])\n",
      "DataFrame 1 kept columns: MultiIndex([('standard_scorer',   'paw1LH_top',          'x'),\n",
      "            ('standard_scorer',   'paw1LH_top',          'y'),\n",
      "            ('standard_scorer',   'paw1LH_top', 'likelihood'),\n",
      "            ('standard_scorer',   'paw2LF_top',          'x'),\n",
      "            ('standard_scorer',   'paw2LF_top',          'y'),\n",
      "            ('standard_scorer',   'paw2LF_top', 'likelihood'),\n",
      "            ('standard_scorer',   'paw3RF_top',          'x'),\n",
      "            ('standard_scorer',   'paw3RF_top',          'y'),\n",
      "            ('standard_scorer',   'paw3RF_top', 'likelihood'),\n",
      "            ('standard_scorer',   'paw4RH_top',          'x'),\n",
      "            ('standard_scorer',   'paw4RH_top',          'y'),\n",
      "            ('standard_scorer',   'paw4RH_top', 'likelihood'),\n",
      "            ('standard_scorer', 'tailBase_top',          'x'),\n",
      "            ('standard_scorer', 'tailBase_top',          'y'),\n",
      "            ('standard_scorer', 'tailBase_top', 'likelihood'),\n",
      "            ('standard_scorer',  'tailMid_top',          'x'),\n",
      "            ('standard_scorer',  'tailMid_top',          'y'),\n",
      "            ('standard_scorer',  'tailMid_top', 'likelihood'),\n",
      "            ('standard_scorer',     'nose_top',          'x'),\n",
      "            ('standard_scorer',     'nose_top',          'y'),\n",
      "            ('standard_scorer',     'nose_top', 'likelihood'),\n",
      "            ('standard_scorer',   'paw1LH_bot',          'x'),\n",
      "            ('standard_scorer',   'paw1LH_bot',          'y'),\n",
      "            ('standard_scorer',   'paw1LH_bot', 'likelihood'),\n",
      "            ('standard_scorer',   'paw2LF_bot',          'x'),\n",
      "            ('standard_scorer',   'paw2LF_bot',          'y'),\n",
      "            ('standard_scorer',   'paw2LF_bot', 'likelihood'),\n",
      "            ('standard_scorer',   'paw3RF_bot',          'x'),\n",
      "            ('standard_scorer',   'paw3RF_bot',          'y'),\n",
      "            ('standard_scorer',   'paw3RF_bot', 'likelihood'),\n",
      "            ('standard_scorer',   'paw4RH_bot',          'x'),\n",
      "            ('standard_scorer',   'paw4RH_bot',          'y'),\n",
      "            ('standard_scorer',   'paw4RH_bot', 'likelihood'),\n",
      "            ('standard_scorer', 'tailBase_bot',          'x'),\n",
      "            ('standard_scorer', 'tailBase_bot',          'y'),\n",
      "            ('standard_scorer', 'tailBase_bot', 'likelihood'),\n",
      "            ('standard_scorer',  'tailMid_bot',          'x'),\n",
      "            ('standard_scorer',  'tailMid_bot',          'y'),\n",
      "            ('standard_scorer',  'tailMid_bot', 'likelihood'),\n",
      "            ('standard_scorer',     'nose_bot',          'x'),\n",
      "            ('standard_scorer',     'nose_bot',          'y'),\n",
      "            ('standard_scorer',     'nose_bot', 'likelihood')],\n",
      "           names=['scorer', 'bodyparts', 'coords'])\n",
      "DataFrame 2 kept columns: MultiIndex([('standard_scorer',   'paw1LH_top',          'x'),\n",
      "            ('standard_scorer',   'paw1LH_top',          'y'),\n",
      "            ('standard_scorer',   'paw1LH_top', 'likelihood'),\n",
      "            ('standard_scorer',   'paw2LF_top',          'x'),\n",
      "            ('standard_scorer',   'paw2LF_top',          'y'),\n",
      "            ('standard_scorer',   'paw2LF_top', 'likelihood'),\n",
      "            ('standard_scorer',   'paw3RF_top',          'x'),\n",
      "            ('standard_scorer',   'paw3RF_top',          'y'),\n",
      "            ('standard_scorer',   'paw3RF_top', 'likelihood'),\n",
      "            ('standard_scorer',   'paw4RH_top',          'x'),\n",
      "            ('standard_scorer',   'paw4RH_top',          'y'),\n",
      "            ('standard_scorer',   'paw4RH_top', 'likelihood'),\n",
      "            ('standard_scorer', 'tailBase_top',          'x'),\n",
      "            ('standard_scorer', 'tailBase_top',          'y'),\n",
      "            ('standard_scorer', 'tailBase_top', 'likelihood'),\n",
      "            ('standard_scorer',  'tailMid_top',          'x'),\n",
      "            ('standard_scorer',  'tailMid_top',          'y'),\n",
      "            ('standard_scorer',  'tailMid_top', 'likelihood'),\n",
      "            ('standard_scorer',     'nose_top',          'x'),\n",
      "            ('standard_scorer',     'nose_top',          'y'),\n",
      "            ('standard_scorer',     'nose_top', 'likelihood'),\n",
      "            ('standard_scorer',   'paw1LH_bot',          'x'),\n",
      "            ('standard_scorer',   'paw1LH_bot',          'y'),\n",
      "            ('standard_scorer',   'paw1LH_bot', 'likelihood'),\n",
      "            ('standard_scorer',   'paw2LF_bot',          'x'),\n",
      "            ('standard_scorer',   'paw2LF_bot',          'y'),\n",
      "            ('standard_scorer',   'paw2LF_bot', 'likelihood'),\n",
      "            ('standard_scorer',   'paw3RF_bot',          'x'),\n",
      "            ('standard_scorer',   'paw3RF_bot',          'y'),\n",
      "            ('standard_scorer',   'paw3RF_bot', 'likelihood'),\n",
      "            ('standard_scorer',   'paw4RH_bot',          'x'),\n",
      "            ('standard_scorer',   'paw4RH_bot',          'y'),\n",
      "            ('standard_scorer',   'paw4RH_bot', 'likelihood'),\n",
      "            ('standard_scorer', 'tailBase_bot',          'x'),\n",
      "            ('standard_scorer', 'tailBase_bot',          'y'),\n",
      "            ('standard_scorer', 'tailBase_bot', 'likelihood'),\n",
      "            ('standard_scorer',  'tailMid_bot',          'x'),\n",
      "            ('standard_scorer',  'tailMid_bot',          'y'),\n",
      "            ('standard_scorer',  'tailMid_bot', 'likelihood'),\n",
      "            ('standard_scorer',     'nose_bot',          'x'),\n",
      "            ('standard_scorer',     'nose_bot',          'y'),\n",
      "            ('standard_scorer',     'nose_bot', 'likelihood')],\n",
      "           names=['scorer', 'bodyparts', 'coords'])\n",
      "DataFrame 3 kept columns: MultiIndex([('standard_scorer',   'paw1LH_top',          'x'),\n",
      "            ('standard_scorer',   'paw1LH_top',          'y'),\n",
      "            ('standard_scorer',   'paw1LH_top', 'likelihood'),\n",
      "            ('standard_scorer',   'paw2LF_top',          'x'),\n",
      "            ('standard_scorer',   'paw2LF_top',          'y'),\n",
      "            ('standard_scorer',   'paw2LF_top', 'likelihood'),\n",
      "            ('standard_scorer',   'paw3RF_top',          'x'),\n",
      "            ('standard_scorer',   'paw3RF_top',          'y'),\n",
      "            ('standard_scorer',   'paw3RF_top', 'likelihood'),\n",
      "            ('standard_scorer',   'paw4RH_top',          'x'),\n",
      "            ('standard_scorer',   'paw4RH_top',          'y'),\n",
      "            ('standard_scorer',   'paw4RH_top', 'likelihood'),\n",
      "            ('standard_scorer', 'tailBase_top',          'x'),\n",
      "            ('standard_scorer', 'tailBase_top',          'y'),\n",
      "            ('standard_scorer', 'tailBase_top', 'likelihood'),\n",
      "            ('standard_scorer',  'tailMid_top',          'x'),\n",
      "            ('standard_scorer',  'tailMid_top',          'y'),\n",
      "            ('standard_scorer',  'tailMid_top', 'likelihood'),\n",
      "            ('standard_scorer',     'nose_top',          'x'),\n",
      "            ('standard_scorer',     'nose_top',          'y'),\n",
      "            ('standard_scorer',     'nose_top', 'likelihood'),\n",
      "            ('standard_scorer',   'paw1LH_bot',          'x'),\n",
      "            ('standard_scorer',   'paw1LH_bot',          'y'),\n",
      "            ('standard_scorer',   'paw1LH_bot', 'likelihood'),\n",
      "            ('standard_scorer',   'paw2LF_bot',          'x'),\n",
      "            ('standard_scorer',   'paw2LF_bot',          'y'),\n",
      "            ('standard_scorer',   'paw2LF_bot', 'likelihood'),\n",
      "            ('standard_scorer',   'paw3RF_bot',          'x'),\n",
      "            ('standard_scorer',   'paw3RF_bot',          'y'),\n",
      "            ('standard_scorer',   'paw3RF_bot', 'likelihood'),\n",
      "            ('standard_scorer',   'paw4RH_bot',          'x'),\n",
      "            ('standard_scorer',   'paw4RH_bot',          'y'),\n",
      "            ('standard_scorer',   'paw4RH_bot', 'likelihood'),\n",
      "            ('standard_scorer', 'tailBase_bot',          'x'),\n",
      "            ('standard_scorer', 'tailBase_bot',          'y'),\n",
      "            ('standard_scorer', 'tailBase_bot', 'likelihood'),\n",
      "            ('standard_scorer',  'tailMid_bot',          'x'),\n",
      "            ('standard_scorer',  'tailMid_bot',          'y'),\n",
      "            ('standard_scorer',  'tailMid_bot', 'likelihood'),\n",
      "            ('standard_scorer',     'nose_bot',          'x'),\n",
      "            ('standard_scorer',     'nose_bot',          'y'),\n",
      "            ('standard_scorer',     'nose_bot', 'likelihood')],\n",
      "           names=['scorer', 'bodyparts', 'coords'])\n",
      "DataFrame 4 kept columns: MultiIndex([('standard_scorer',   'paw1LH_top',          'x'),\n",
      "            ('standard_scorer',   'paw1LH_top',          'y'),\n",
      "            ('standard_scorer',   'paw1LH_top', 'likelihood'),\n",
      "            ('standard_scorer',   'paw2LF_top',          'x'),\n",
      "            ('standard_scorer',   'paw2LF_top',          'y'),\n",
      "            ('standard_scorer',   'paw2LF_top', 'likelihood'),\n",
      "            ('standard_scorer',   'paw3RF_top',          'x'),\n",
      "            ('standard_scorer',   'paw3RF_top',          'y'),\n",
      "            ('standard_scorer',   'paw3RF_top', 'likelihood'),\n",
      "            ('standard_scorer',   'paw4RH_top',          'x'),\n",
      "            ('standard_scorer',   'paw4RH_top',          'y'),\n",
      "            ('standard_scorer',   'paw4RH_top', 'likelihood'),\n",
      "            ('standard_scorer', 'tailBase_top',          'x'),\n",
      "            ('standard_scorer', 'tailBase_top',          'y'),\n",
      "            ('standard_scorer', 'tailBase_top', 'likelihood'),\n",
      "            ('standard_scorer',  'tailMid_top',          'x'),\n",
      "            ('standard_scorer',  'tailMid_top',          'y'),\n",
      "            ('standard_scorer',  'tailMid_top', 'likelihood'),\n",
      "            ('standard_scorer',     'nose_top',          'x'),\n",
      "            ('standard_scorer',     'nose_top',          'y'),\n",
      "            ('standard_scorer',     'nose_top', 'likelihood'),\n",
      "            ('standard_scorer',   'paw1LH_bot',          'x'),\n",
      "            ('standard_scorer',   'paw1LH_bot',          'y'),\n",
      "            ('standard_scorer',   'paw1LH_bot', 'likelihood'),\n",
      "            ('standard_scorer',   'paw2LF_bot',          'x'),\n",
      "            ('standard_scorer',   'paw2LF_bot',          'y'),\n",
      "            ('standard_scorer',   'paw2LF_bot', 'likelihood'),\n",
      "            ('standard_scorer',   'paw3RF_bot',          'x'),\n",
      "            ('standard_scorer',   'paw3RF_bot',          'y'),\n",
      "            ('standard_scorer',   'paw3RF_bot', 'likelihood'),\n",
      "            ('standard_scorer',   'paw4RH_bot',          'x'),\n",
      "            ('standard_scorer',   'paw4RH_bot',          'y'),\n",
      "            ('standard_scorer',   'paw4RH_bot', 'likelihood'),\n",
      "            ('standard_scorer', 'tailBase_bot',          'x'),\n",
      "            ('standard_scorer', 'tailBase_bot',          'y'),\n",
      "            ('standard_scorer', 'tailBase_bot', 'likelihood'),\n",
      "            ('standard_scorer',  'tailMid_bot',          'x'),\n",
      "            ('standard_scorer',  'tailMid_bot',          'y'),\n",
      "            ('standard_scorer',  'tailMid_bot', 'likelihood'),\n",
      "            ('standard_scorer',     'nose_bot',          'x'),\n",
      "            ('standard_scorer',     'nose_bot',          'y'),\n",
      "            ('standard_scorer',     'nose_bot', 'likelihood')],\n",
      "           names=['scorer', 'bodyparts', 'coords'])\n",
      "DataFrame 5 kept columns: MultiIndex([('standard_scorer',   'paw1LH_top',          'x'),\n",
      "            ('standard_scorer',   'paw1LH_top',          'y'),\n",
      "            ('standard_scorer',   'paw1LH_top', 'likelihood'),\n",
      "            ('standard_scorer',   'paw2LF_top',          'x'),\n",
      "            ('standard_scorer',   'paw2LF_top',          'y'),\n",
      "            ('standard_scorer',   'paw2LF_top', 'likelihood'),\n",
      "            ('standard_scorer',   'paw3RF_top',          'x'),\n",
      "            ('standard_scorer',   'paw3RF_top',          'y'),\n",
      "            ('standard_scorer',   'paw3RF_top', 'likelihood'),\n",
      "            ('standard_scorer',   'paw4RH_top',          'x'),\n",
      "            ('standard_scorer',   'paw4RH_top',          'y'),\n",
      "            ('standard_scorer',   'paw4RH_top', 'likelihood'),\n",
      "            ('standard_scorer', 'tailBase_top',          'x'),\n",
      "            ('standard_scorer', 'tailBase_top',          'y'),\n",
      "            ('standard_scorer', 'tailBase_top', 'likelihood'),\n",
      "            ('standard_scorer',  'tailMid_top',          'x'),\n",
      "            ('standard_scorer',  'tailMid_top',          'y'),\n",
      "            ('standard_scorer',  'tailMid_top', 'likelihood'),\n",
      "            ('standard_scorer',     'nose_top',          'x'),\n",
      "            ('standard_scorer',     'nose_top',          'y'),\n",
      "            ('standard_scorer',     'nose_top', 'likelihood'),\n",
      "            ('standard_scorer',   'paw1LH_bot',          'x'),\n",
      "            ('standard_scorer',   'paw1LH_bot',          'y'),\n",
      "            ('standard_scorer',   'paw1LH_bot', 'likelihood'),\n",
      "            ('standard_scorer',   'paw2LF_bot',          'x'),\n",
      "            ('standard_scorer',   'paw2LF_bot',          'y'),\n",
      "            ('standard_scorer',   'paw2LF_bot', 'likelihood'),\n",
      "            ('standard_scorer',   'paw3RF_bot',          'x'),\n",
      "            ('standard_scorer',   'paw3RF_bot',          'y'),\n",
      "            ('standard_scorer',   'paw3RF_bot', 'likelihood'),\n",
      "            ('standard_scorer',   'paw4RH_bot',          'x'),\n",
      "            ('standard_scorer',   'paw4RH_bot',          'y'),\n",
      "            ('standard_scorer',   'paw4RH_bot', 'likelihood'),\n",
      "            ('standard_scorer', 'tailBase_bot',          'x'),\n",
      "            ('standard_scorer', 'tailBase_bot',          'y'),\n",
      "            ('standard_scorer', 'tailBase_bot', 'likelihood'),\n",
      "            ('standard_scorer',  'tailMid_bot',          'x'),\n",
      "            ('standard_scorer',  'tailMid_bot',          'y'),\n",
      "            ('standard_scorer',  'tailMid_bot', 'likelihood'),\n",
      "            ('standard_scorer',     'nose_bot',          'x'),\n",
      "            ('standard_scorer',     'nose_bot',          'y'),\n",
      "            ('standard_scorer',     'nose_bot', 'likelihood')],\n",
      "           names=['scorer', 'bodyparts', 'coords'])\n",
      "No NaN values detected in preds array.\n",
      "Stddevs: [[20.13524822  0.97773644  0.46772862 ...  0.72731899  0.2983726\n",
      "   0.25254212]\n",
      " [ 2.0214843   0.41666067  0.2842266  ...  0.9816532   0.19814458\n",
      "   0.21864806]\n",
      " [ 0.87410702  0.92662675  0.6213375  ...  1.22244903  0.33179354\n",
      "   0.24975898]\n",
      " ...\n",
      " [42.14369756  0.46687029  0.65467535 ...  1.82499215  0.64767458\n",
      "   0.44046783]\n",
      " [ 1.06391813 15.06054709  1.89518873 ...  1.35742892  0.58541121\n",
      "   0.60949317]\n",
      " [ 1.10061162 14.83037346  1.89868838 ...  1.41793634  0.77774116\n",
      "   0.68898886]]\n"
     ]
    }
   ],
   "source": [
    "# compute ensemble variance\n",
    "ens_stddev = compute_ensemble_stddev(\n",
    "    df_gt,\n",
    "    df_pred_list,\n",
    "    keypoint_ensemble_list\n",
    ")"
   ]
  },
  {
   "cell_type": "code",
   "execution_count": 23,
   "id": "ef5a2a28",
   "metadata": {},
   "outputs": [
    {
     "name": "stdout",
     "output_type": "stream",
     "text": [
      "Total pixel error for model networks_rng0: 24921.45251785772\n",
      "Total pixel error for model networks_rng1: 25045.911824043313\n",
      "Total pixel error for model networks_rng2: 25393.671496996383\n",
      "Total pixel error for model networks_rng3: 23655.732705569353\n",
      "Total pixel error for model networks_rng4: 25726.536514627693\n",
      "Total pixel error for model eks: 21880.207055994597\n"
     ]
    }
   ],
   "source": [
    "# Record pixel errors along with ensemble variances\n",
    "df_w_vars = []\n",
    "for df_error, model_name in zip(df_error_list, model_names_list):\n",
    "    assert np.all(df_error.index == df_gt.index)\n",
    "    \n",
    "    # Calculate total pixel error (sum) for each df_error and print it\n",
    "    total_pixel_error = df_error.sum().sum()\n",
    "    print(f\"Total pixel error for model {model_name}: {total_pixel_error}\")\n",
    "\n",
    "    for i, kp in enumerate(df_error.columns):\n",
    "        df_w_vars.append(pd.DataFrame({\n",
    "            'pixel_error': df_error[kp],\n",
    "            'ens-std': ens_stddev[:, i],\n",
    "            'ens-std-prctile': [np.sum(ens_stddev < p) / ens_stddev.size for p in ens_stddev[:, i]],\n",
    "            'ens-std-prctile-kp': [np.sum(ens_stddev[:, i] < p) / ens_stddev[:, i].size for p in ens_stddev[:, i]], \n",
    "            'keypoint': kp,\n",
    "            'model': model_name,\n",
    "        }, index=df_error.index))\n",
    "\n",
    "df_w_vars = pd.concat(df_w_vars)"
   ]
  },
  {
   "cell_type": "code",
   "execution_count": 24,
   "id": "d276cbe8",
   "metadata": {},
   "outputs": [],
   "source": [
    "std_vals = np.arange(0, 5, 0.4)\n",
    "\n",
    "n_points_dict = {m: np.nan * np.zeros_like(std_vals) for m in model_names_list}\n",
    "df_line2 = []\n",
    "for s, std in enumerate(std_vals):\n",
    "    df_tmp_ = df_w_vars[df_w_vars['ens-std'] > std]\n",
    "    for model_name in model_names_list:\n",
    "        d = df_tmp_[df_tmp_.model == model_name]\n",
    "        n_points = np.sum(~d['pixel_error'].isna())\n",
    "        n_points_dict[model_name][s] = n_points\n",
    "        index = []\n",
    "        rng = 0\n",
    "        for row, k in zip(d.index, d['keypoint'].to_numpy()):\n",
    "            index.append(row + f'_{model_name}_{s}_{k}_{rng}')\n",
    "        df_line2.append(pd.DataFrame({\n",
    "            'ens-std': std,\n",
    "            'model': model_name,\n",
    "            'mean': d.pixel_error.to_numpy(),\n",
    "            'n_points': n_points,\n",
    "        }, index=index))\n",
    "df_line2 = pd.concat(df_line2)"
   ]
  },
  {
   "cell_type": "code",
   "execution_count": 26,
   "id": "c4736768",
   "metadata": {},
   "outputs": [
    {
     "data": {
      "image/png": "[encoded data removed]",
      "text/plain": [
       "<Figure size 1000x600 with 1 Axes>"
      ]
     },
     "metadata": {},
     "output_type": "display_data"
    }
   ],
   "source": [
    "import matplotlib.pyplot as plt\n",
    "import seaborn as sns\n",
    "import numpy as np\n",
    "\n",
    "# Define the color mapping\n",
    "color_mapping = {\n",
    "    'networks': 'pink',\n",
    "    'eks': 'red',\n",
    "    'ens-mean': 'lightgreen',\n",
    "    'ens-median': 'green',\n",
    "    'aeks_hand_rng': 'lightblue',\n",
    "    'aeks_hand_eks': 'blue',\n",
    "    'aeks_ens-mean': 'orange',\n",
    "    'aeks_ens-median': 'red'\n",
    "}\n",
    "\n",
    "# Create a color list based on the model names\n",
    "def get_color(name):\n",
    "    if 'aeks_ens-median' in name:\n",
    "        return color_mapping['aeks_ens-median']\n",
    "    elif 'aeks_ens-mean' in name:\n",
    "        return color_mapping['aeks_ens-mean']\n",
    "    elif 'aeks_hand_rng' in name:\n",
    "        return color_mapping['aeks_hand_rng']\n",
    "    elif 'aeks_hand_eks' in name:\n",
    "        return color_mapping['aeks_hand_eks']\n",
    "    else:\n",
    "        base_name = name.split('_')[0]\n",
    "        return color_mapping.get(base_name, 'gray')\n",
    "\n",
    "palette = [get_color(name) for name in df_line2['model'].unique()]\n",
    "\n",
    "fig, ax = plt.subplots(1, 1, figsize=(10, 6))  # Increase the figure size\n",
    "\n",
    "g = sns.lineplot(\n",
    "    x='ens-std',\n",
    "    y='mean',\n",
    "    hue='model',\n",
    "    hue_order=model_names_list,\n",
    "    palette=palette,\n",
    "    data=df_line2,\n",
    "    ax=ax,\n",
    "    errorbar='se'\n",
    ")\n",
    "\n",
    "labels_fontsize = 12\n",
    "\n",
    "ax.set_title(f'Ground-Truth Pixel Error vs Ensemble Stdev (OOD)', fontsize=labels_fontsize)\n",
    "ax.set_ylabel('Pixel error', fontsize=labels_fontsize)\n",
    "ax.set_xlabel('Ensemble std dev', fontsize=labels_fontsize)\n",
    "cleanaxis(ax)\n",
    "\n",
    "# Customize legend\n",
    "legend_labels = {\n",
    "    'networks': 'Networks',\n",
    "    'eks': 'EKS',\n",
    "    'ens-mean': 'Ensemble Mean',\n",
    "    'ens-median': 'Ensemble Median',\n",
    "    'aeks_hand_rng': 'aEKS_hand',\n",
    "    'aeks_hand_eks': 'aEKS_hand EKS',\n",
    "    'aeks_ens-mean': 'aEKS Ensemble Mean',\n",
    "    'aeks_ens-median': 'aEKS Ensemble Median'\n",
    "}\n",
    "\n",
    "# Combine similar models into single legend entries\n",
    "handles, labels = ax.get_legend_handles_labels()\n",
    "unique_labels = []\n",
    "unique_handles = []\n",
    "\n",
    "for handle, label in zip(handles, labels):\n",
    "    if 'aeks_ens-median' in label:\n",
    "        base_label = 'aeks_ens-median'\n",
    "    elif 'aeks_ens-mean' in label:\n",
    "        base_label = 'aeks_ens-mean'\n",
    "    elif 'aeks_hand_rng' in label:\n",
    "        base_label = 'aeks_hand_rng'\n",
    "    elif 'aeks_hand_eks' in label:\n",
    "        base_label = 'aeks_hand_eks'\n",
    "    else:\n",
    "        base_label = label.split('_')[0]\n",
    "\n",
    "    if base_label not in unique_labels:\n",
    "        unique_labels.append(base_label)\n",
    "        unique_handles.append(handle)\n",
    "\n",
    "ax.legend(\n",
    "    handles=unique_handles,\n",
    "    labels=[legend_labels.get(label, label) for label in unique_labels],\n",
    "    loc='upper left',\n",
    "    bbox_to_anchor=(1, 1),\n",
    "    fontsize=labels_fontsize,\n",
    "    title='model',\n",
    "    title_fontsize=labels_fontsize\n",
    ")\n",
    "\n",
    "# Plot annotations\n",
    "percentiles = [100, 50, 1]\n",
    "vals, prctiles = compute_percentiles(\n",
    "    arr=n_points_dict[model_names_list[0]],\n",
    "    std_vals=std_vals,\n",
    "    percentiles=percentiles,\n",
    ")\n",
    "\n",
    "for p, v in zip(prctiles, vals):\n",
    "    ax.axvline(v, ymax=0.95, linestyle='--', linewidth=0.5, color='k', zorder=-1)\n",
    "    ax.text(\n",
    "        v / np.diff(ax.get_xlim()), 0.95, str(round(p)) + '%',\n",
    "        transform=ax.transAxes,\n",
    "        ha='left',\n",
    "    )\n",
    "\n",
    "plt.tight_layout(rect=[0, 0, 0.85, 1])  # Adjust layout to make room for the legend\n",
    "plt.show()\n"
   ]
  }
 ],
 "metadata": {
  "kernelspec": {
   "display_name": "pose",
   "language": "python",
   "name": "pose"
  },
  "language_info": {
   "codemirror_mode": {
    "name": "ipython",
    "version": 3
   },
   "file_extension": ".py",
   "mimetype": "text/x-python",
   "name": "python",
   "nbconvert_exporter": "python",
   "pygments_lexer": "ipython3",
   "version": "3.10.14"
  }
 },
 "nbformat": 4,
 "nbformat_minor": 5
}
