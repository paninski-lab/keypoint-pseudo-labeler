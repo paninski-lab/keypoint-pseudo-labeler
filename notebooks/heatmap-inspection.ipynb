{
 "cells": [
  {
   "cell_type": "code",
   "execution_count": 2,
   "metadata": {},
   "outputs": [
    {
     "name": "stdout",
     "output_type": "stream",
     "text": [
      "Concatenated data saved to /teamspace/studios/this_studio/data/mirror-mouse/labeled-data-check/concatenated_predictions.csv\n"
     ]
    }
   ],
   "source": [
    "import pandas as pd\n",
    "\n",
    "# Define a function to transform each CSV file\n",
    "def transform_csv(file_path, unique_pairs):\n",
    "    df = pd.read_csv(file_path)\n",
    "    data = []\n",
    "    for i in range(2, df.shape[0]):\n",
    "        image_file = df.iloc[i, 0]\n",
    "        for j in range(1, df.shape[1] - 1, 3):\n",
    "            body_part = df.iloc[0, j]\n",
    "            pair_key = (image_file, body_part)\n",
    "            if pair_key not in unique_pairs:\n",
    "                x_coord = df.iloc[i, j]\n",
    "                y_coord = df.iloc[i, j + 1]\n",
    "                likelihood = df.iloc[i, j + 2]\n",
    "                data.append([image_file, body_part, x_coord, y_coord, likelihood])\n",
    "                unique_pairs.add(pair_key)\n",
    "    temp_df = pd.DataFrame(data, columns=['Image File', 'Body Part', 'x', 'y', 'Likelihood'])\n",
    "    return temp_df\n",
    "\n",
    "# Load and transform each CSV file\n",
    "file_paths = [\n",
    "    '/teamspace/studios/this_studio/outputs/mirror-mouse/hand=100_pseudo=1000/networks/rng0/predictions_new.csv',  # Adjust the path accordingly\n",
    "    '/teamspace/studios/this_studio/outputs/mirror-mouse/hand=100_pseudo=1000/networks/rng1/predictions_new.csv',\n",
    "    '/teamspace/studios/this_studio/outputs/mirror-mouse/hand=100_pseudo=1000/networks/rng2/predictions_new.csv',\n",
    "    '/teamspace/studios/this_studio/outputs/mirror-mouse/hand=100_pseudo=1000/networks/rng3/predictions_new.csv',\n",
    "    '/teamspace/studios/this_studio/outputs/mirror-mouse/hand=100_pseudo=1000/networks/rng4/predictions_new.csv'\n",
    "]\n",
    "\n",
    "# Initialize an empty list to store dataframes\n",
    "dataframes = []\n",
    "\n",
    "# Initialize a set to keep track of unique image file-body part pairs\n",
    "unique_pairs = set()\n",
    "\n",
    "# Read and transform each CSV file\n",
    "for file_path in file_paths:\n",
    "    transformed_df = transform_csv(file_path, unique_pairs)\n",
    "    dataframes.append(transformed_df)\n",
    "\n",
    "# Concatenate all dataframes\n",
    "all_data_df = pd.concat(dataframes, ignore_index=True)\n",
    "\n",
    "# Save the concatenated dataframe to a CSV file\n",
    "output_file_path = '/teamspace/studios/this_studio/data/mirror-mouse/labeled-data-check/concatenated_predictions.csv'\n",
    "all_data_df.to_csv(output_file_path, index=False)\n",
    "\n",
    "print(f\"Concatenated data saved to {output_file_path}\")\n"
   ]
  },
  {
   "cell_type": "code",
   "execution_count": 4,
   "metadata": {},
   "outputs": [
    {
     "ename": "NameError",
     "evalue": "name 'new_df' is not defined",
     "output_type": "error",
     "traceback": [
      "\u001b[0;31m---------------------------------------------------------------------------\u001b[0m",
      "\u001b[0;31mNameError\u001b[0m                                 Traceback (most recent call last)",
      "Cell \u001b[0;32mIn[4], line 2\u001b[0m\n\u001b[1;32m      1\u001b[0m export_file_path \u001b[38;5;241m=\u001b[39m \u001b[38;5;124m\"\u001b[39m\u001b[38;5;124m/teamspace/studios/this_studio/data/mirror-mouse/labeled-data-check/structured_data.csv\u001b[39m\u001b[38;5;124m\"\u001b[39m\n\u001b[0;32m----> 2\u001b[0m \u001b[43mnew_df\u001b[49m\u001b[38;5;241m.\u001b[39mto_csv(export_file_path, index\u001b[38;5;241m=\u001b[39m\u001b[38;5;28;01mFalse\u001b[39;00m)\n",
      "\u001b[0;31mNameError\u001b[0m: name 'new_df' is not defined"
     ]
    }
   ],
   "source": [
    "export_file_path = \"/teamspace/studios/this_studio/data/mirror-mouse/labeled-data-check/structured_data.csv\"\n",
    "new_df.to_csv(export_file_path, index=False)"
   ]
  },
  {
   "cell_type": "code",
   "execution_count": null,
   "metadata": {},
   "outputs": [],
   "source": []
  }
 ],
 "metadata": {
  "language_info": {
   "name": "python"
  }
 },
 "nbformat": 4,
 "nbformat_minor": 2
}
